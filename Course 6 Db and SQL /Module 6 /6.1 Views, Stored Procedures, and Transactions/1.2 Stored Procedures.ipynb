{
 "cells": [
  {
   "cell_type": "markdown",
   "metadata": {},
   "source": [
    "# Stored Procedures\n"
   ]
  },
  {
   "cell_type": "code",
   "execution_count": 1,
   "metadata": {},
   "outputs": [
    {
     "name": "stdout",
     "output_type": "stream",
     "text": [
      "mysql-container\n",
      "mysql-container\n",
      "CONTAINER ID   IMAGE     COMMAND                  CREATED      STATUS                  PORTS                                                  NAMES\n",
      "50e33c579e3f   mysql     \"docker-entrypoint.s…\"   2 days ago   Up Less than a second   0.0.0.0:3306->3306/tcp, :::3306->3306/tcp, 33060/tcp   mysql-container\n"
     ]
    }
   ],
   "source": [
    "!docker stop mysql-container\n",
    "!docker restart mysql-container\n",
    "!docker ps"
   ]
  },
  {
   "cell_type": "code",
   "execution_count": 2,
   "metadata": {},
   "outputs": [],
   "source": [
    "import mysql.connector as mysql\n",
    "import sqlalchemy \n",
    "import os \n",
    "from dotenv import load_dotenv"
   ]
  },
  {
   "cell_type": "code",
   "execution_count": 3,
   "metadata": {},
   "outputs": [],
   "source": [
    "load_dotenv('/workspaces/IBM-DS-Course/.env')\n",
    "user=os.getenv('USER')\n",
    "password=os.getenv('PASSWORD')\n",
    "host = 'localhost'\n",
    "port=3306\n",
    "db = 'PETSALE'\n",
    "\n"
   ]
  },
  {
   "cell_type": "code",
   "execution_count": 4,
   "metadata": {},
   "outputs": [],
   "source": [
    "def get_db_connection():\n",
    "    return mysql.connect(\n",
    "        host=host,\n",
    "        user=user,\n",
    "        password=password,\n",
    "        port=port,\n",
    "        database=db\n",
    "    )"
   ]
  },
  {
   "cell_type": "code",
   "execution_count": 5,
   "metadata": {},
   "outputs": [],
   "source": [
    "conn = get_db_connection()\n",
    "cursor = conn.cursor()\n",
    "create_db =f'CREATE DATABASE IF NOT EXISTS {db}'\n",
    "cursor.execute(create_db)"
   ]
  },
  {
   "cell_type": "code",
   "execution_count": 6,
   "metadata": {},
   "outputs": [],
   "source": [
    "sql_script = '/workspaces/IBM-DS-Course/Course 6 Db and SQL /Module 6 /6.1 Views, Stored Procedures, and Transactions/1.2 .sql/PETSALE-CREATE-v2.sql'\n",
    "with open(sql_script, 'r') as script:\n",
    "    script_cmd = script.read()\n",
    "\n",
    "use_db = f'USE {db}'\n",
    "cursor.execute(use_db)"
   ]
  },
  {
   "cell_type": "code",
   "execution_count": 7,
   "metadata": {},
   "outputs": [
    {
     "name": "stdout",
     "output_type": "stream",
     "text": [
      "Success\n",
      "Success\n",
      "Success\n",
      "Success\n"
     ]
    }
   ],
   "source": [
    "try:\n",
    "    for cmd in script_cmd.split(\";\"):\n",
    "        if cmd.strip():\n",
    "            cursor.execute(cmd)\n",
    "        conn.commit()\n",
    "        print(\"Success\")\n",
    "except Exception as e:\n",
    "    print(f'{cmd} failed because e')\n",
    "    \n",
    "cursor.close()\n",
    "conn.close()"
   ]
  },
  {
   "cell_type": "markdown",
   "metadata": {},
   "source": [
    "## Stored Procedure: Exercise 1\n"
   ]
  },
  {
   "cell_type": "markdown",
   "metadata": {},
   "source": [
    " create and execute a stored procedure to read data from a table on mysql phpadmin using SQL."
   ]
  },
  {
   "cell_type": "markdown",
   "metadata": {},
   "source": [
    "1. You will create a stored procedure routine named RETRIEVE_ALL.\n"
   ]
  },
  {
   "cell_type": "markdown",
   "metadata": {},
   "source": [
    "- - This RETRIEVE_ALL routine will contain an SQL query to retrieve all the records from the PETSALE table, so you don't need to write the same query over and over again. You just call the stored procedure routine to execute the query everytime.\n",
    "- - To create the stored procedure routine, copy the code below and paste it to the textarea of the SQL page. Click Go."
   ]
  },
  {
   "cell_type": "code",
   "execution_count": 8,
   "metadata": {},
   "outputs": [],
   "source": [
    "conn = get_db_connection()\n",
    "cursor = conn.cursor()\n",
    "\n",
    "drop_procdcr1_sql = '''\n",
    "   DROP PROCEDURE IF EXISTS RETRIEVE_ALL;\n",
    "   '''\n",
    "cursor.execute(drop_procdcr1_sql)\n",
    "\n",
    "# Create the new procedure\n",
    "stored_prodcr1 = '''\n",
    "CREATE PROCEDURE RETRIEVE_ALL()\n",
    "BEGIN\n",
    "   SELECT * FROM PETSALE;\n",
    "END;\n",
    "'''\n",
    "\n",
    "cursor.execute(stored_prodcr1)"
   ]
  },
  {
   "cell_type": "markdown",
   "metadata": {},
   "source": [
    "2. To call the RETRIEVE_ALL routine, open another SQL tab by clicking Open in new Tab\n"
   ]
  },
  {
   "cell_type": "code",
   "execution_count": 9,
   "metadata": {},
   "outputs": [
    {
     "name": "stdout",
     "output_type": "stream",
     "text": [
      "(1, 'Cat', Decimal('450.09'), datetime.date(2018, 5, 29), 9)\n",
      "(2, 'Dog', Decimal('666.66'), datetime.date(2018, 6, 1), 3)\n",
      "(3, 'Parrot', Decimal('50.00'), datetime.date(2018, 6, 4), 2)\n",
      "(4, 'Hamster', Decimal('60.60'), datetime.date(2018, 6, 11), 6)\n",
      "(5, 'Goldfish', Decimal('48.48'), datetime.date(2018, 6, 14), 24)\n",
      "Error: 2053: Attempt to read a row while there is no result set associated with the statement\n"
     ]
    }
   ],
   "source": [
    "try:\n",
    "    cursor2 = conn.cursor()\n",
    "\n",
    "    # Call the stored procedure\n",
    "    test = '''CALL RETRIEVE_ALL;'''\n",
    "    cursor2.execute(test)\n",
    "\n",
    "    # Fetch all results from the stored procedure\n",
    "    results = cursor2.fetchall()\n",
    "\n",
    "    # Print the results\n",
    "    print(*[row for row in results], sep='\\n')\n",
    "\n",
    "    # Clear any remaining results\n",
    "    cursor2.nextset()\n",
    "\n",
    "except Exception as err:\n",
    "    print(f\"Error: {err}\")\n",
    "\n",
    "finally:\n",
    "    # Close the cursor2 and connection\n",
    "    cursor2.close()\n",
    "    conn.close()"
   ]
  },
  {
   "cell_type": "markdown",
   "metadata": {},
   "source": [
    "3. You can view the created stored procedure routine RETRIEVE_ALL. On the left panel, expand the PETS database option and click on Procedures to view the procedure.\n"
   ]
  },
  {
   "cell_type": "markdown",
   "metadata": {},
   "source": [
    "4. If you wish to drop the stored procedure routine RETRIEVE_ALL, copy the code below and paste it to the textarea of the SQL page. Click Go."
   ]
  },
  {
   "cell_type": "code",
   "execution_count": 10,
   "metadata": {},
   "outputs": [
    {
     "data": {
      "text/plain": [
       "True"
      ]
     },
     "execution_count": 10,
     "metadata": {},
     "output_type": "execute_result"
    }
   ],
   "source": [
    "conn = get_db_connection() \n",
    "cursor = conn.cursor()\n",
    "drop_procdr1 = '''DROP PROCEDURE RETRIEVE_ALL;\n",
    "'''\n",
    "faulty_call = '''CALL RETRIEVE_ALL;'''\n",
    "\n",
    "cursor.execute(drop_procdr1)\n",
    "# cursor.execute(faulty_call)\n",
    "# err_rsp = cursor.fetchall()\n",
    "# print(*[row for row in err_rsp])# output is ProgrammingError: 1305 (42000): PROCEDURE PETSALE.RETRIEVE_ALL does not exist\n",
    "\n",
    "cursor.close()"
   ]
  },
  {
   "cell_type": "markdown",
   "metadata": {},
   "source": [
    "## Stored Procedure: Exercise 2\n"
   ]
  },
  {
   "cell_type": "markdown",
   "metadata": {},
   "source": [
    "In this exercise, you will create and execute a stored procedure to write/modify data in a table on MySQL using SQL.\n",
    "\n",
    "You will create a stored procedure routine named UPDATE_SALEPRICE with parameters Animal_ID and Animal_Health.\n"
   ]
  },
  {
   "cell_type": "markdown",
   "metadata": {},
   "source": [
    "- This UPDATE_SALEPRICE routine will contain SQL queries to update the sale price of the animals in the PETSALE table depending on their health conditions, BAD or WORSE.\n",
    "\n",
    "- This procedure routine will take animal ID and health conditon as parameters which will be used to update the sale price of animal in the PETSALE table by an amount depending on their health condition. Suppose that:\n",
    "\n",
    "- - For animal with ID XX having BAD health condition, the sale price will be reduced further by 25%.\n",
    "- - For animal with ID YY having WORSE health condition, the sale price will be reduced further by 50%.\n",
    "- - For animal with ID ZZ having other health condition, the sale price won't change.\n",
    "- To create the stored procedure routine, copy the code below and paste it to the textarea of the SQL page. Click Go."
   ]
  },
  {
   "cell_type": "code",
   "execution_count": 11,
   "metadata": {},
   "outputs": [],
   "source": [
    "cursor = conn.cursor()\n"
   ]
  },
  {
   "cell_type": "code",
   "execution_count": 12,
   "metadata": {},
   "outputs": [],
   "source": [
    "\n",
    "drop_stored_procdr2 = '''DROP PROCEDURE IF EXISTS UPDATE_SALEPRICE'''\n",
    "cursor.execute(drop_stored_procdr2)\n",
    "create_procdr2 = '''\n",
    "CREATE PROCEDURE UPDATE_SALEPRICE (IN Animal_ID INTEGER, IN Animal_Health VARCHAR(5))\n",
    "BEGIN\n",
    "    IF Animal_Health = 'BAD' THEN\n",
    "        UPDATE PETSALE\n",
    "        SET SALEPRICE = SALEPRICE - (SALEPRICE * 0.25)\n",
    "        WHERE ID = Animal_ID;\n",
    "    ELSEIF Animal_Health = 'WORSE' THEN\n",
    "        UPDATE PETSALE\n",
    "        SET SALEPRICE = SALEPRICE - (SALEPRICE * 0.5)\n",
    "        WHERE ID = Animal_ID;\n",
    "    ELSE\n",
    "        UPDATE PETSALE\n",
    "        SET SALEPRICE = SALEPRICE\n",
    "        WHERE ID = Animal_ID;\n",
    "    END IF;\n",
    "END;'''\n",
    "cursor.execute(create_procdr2)\n"
   ]
  },
  {
   "cell_type": "markdown",
   "metadata": {},
   "source": [
    "1. Let's call the UPDATE_SALEPRICE routine. We want to update the sale price of animal with ID 1 having BAD health condition in the PETSALE table. open another SQL tab by clicking Open in new Tab"
   ]
  },
  {
   "cell_type": "markdown",
   "metadata": {},
   "source": [
    "- *Note* if you have dropped RETREIVE_ALL procedure rerun the creation script of that procedure before executing these lines."
   ]
  },
  {
   "cell_type": "code",
   "execution_count": 13,
   "metadata": {},
   "outputs": [
    {
     "data": {
      "text/plain": [
       "True"
      ]
     },
     "execution_count": 13,
     "metadata": {},
     "output_type": "execute_result"
    }
   ],
   "source": [
    "drop_procdcr1_sql = '''\n",
    "DROP PROCEDURE IF EXISTS RETRIEVE_ALL;\n",
    "'''\n",
    "cursor.execute(drop_procdcr1_sql)\n",
    "\n",
    "    # Create the new procedure\n",
    "stored_prodcr1 = '''\n",
    "CREATE PROCEDURE RETRIEVE_ALL()\n",
    "BEGIN\n",
    "   SELECT * FROM PETSALE;\n",
    "END;\n",
    "'''\n",
    "\n",
    "cursor.execute(stored_prodcr1)\n",
    "cursor.close()"
   ]
  },
  {
   "cell_type": "code",
   "execution_count": 23,
   "metadata": {},
   "outputs": [],
   "source": [
    "conn.close()"
   ]
  },
  {
   "cell_type": "code",
   "execution_count": 24,
   "metadata": {},
   "outputs": [
    {
     "name": "stdout",
     "output_type": "stream",
     "text": [
      "(1, 'Cat', Decimal('450.09'), datetime.date(2018, 5, 29), 9)\n",
      "(2, 'Dog', Decimal('666.66'), datetime.date(2018, 6, 1), 3)\n",
      "(3, 'Parrot', Decimal('50.00'), datetime.date(2018, 6, 4), 2)\n",
      "(4, 'Hamster', Decimal('60.60'), datetime.date(2018, 6, 11), 6)\n",
      "(5, 'Goldfish', Decimal('48.48'), datetime.date(2018, 6, 14), 24)\n"
     ]
    }
   ],
   "source": [
    "conn = get_db_connection()\n",
    "cursor = conn.cursor()\n",
    "q= \"CALL RETRIEVE_ALL;\"\n",
    "cursor.execute(q)\n",
    "rows = cursor.fetchall()\n",
    "print(*[row for row in rows], sep ='\\n')\n",
    "cursor.close()\n",
    "conn.close()"
   ]
  },
  {
   "cell_type": "code",
   "execution_count": 25,
   "metadata": {},
   "outputs": [
    {
     "name": "stdout",
     "output_type": "stream",
     "text": [
      "\n"
     ]
    }
   ],
   "source": [
    "conn = get_db_connection()\n",
    "cursor = conn.cursor()\n",
    "q2= \"CALL UPDATE_SALEPRICE(1, 'BAD');\"\n",
    "cursor.execute(q2)\n",
    "rows = cursor.fetchall()\n",
    "print(*[row for row in rows], sep ='\\n')"
   ]
  },
  {
   "cell_type": "code",
   "execution_count": 26,
   "metadata": {},
   "outputs": [
    {
     "name": "stdout",
     "output_type": "stream",
     "text": [
      "(1, 'Cat', Decimal('337.57'), datetime.date(2018, 5, 29), 9)\n",
      "(2, 'Dog', Decimal('666.66'), datetime.date(2018, 6, 1), 3)\n",
      "(3, 'Parrot', Decimal('50.00'), datetime.date(2018, 6, 4), 2)\n",
      "(4, 'Hamster', Decimal('60.60'), datetime.date(2018, 6, 11), 6)\n",
      "(5, 'Goldfish', Decimal('48.48'), datetime.date(2018, 6, 14), 24)\n"
     ]
    }
   ],
   "source": [
    "q3= \"CALL RETRIEVE_ALL;\"\n",
    "cursor.execute(q3)\n",
    "rows = cursor.fetchall()\n",
    "print(*[row for row in rows], sep ='\\n')\n",
    "conn.close()"
   ]
  },
  {
   "cell_type": "markdown",
   "metadata": {},
   "source": [
    "2. Let's call the UPDATE_SALEPRICE routine once again. \n",
    "- We want to update the sale price of animal with ID 3 having WORSE health condition in the PETSALE table. \n",
    "\n",
    "- copy the code below and paste it to the textarea of the SQL page. Click Go. You will have all the records retrieved from the PETSALE table.\n"
   ]
  },
  {
   "cell_type": "code",
   "execution_count": 27,
   "metadata": {},
   "outputs": [
    {
     "name": "stdout",
     "output_type": "stream",
     "text": [
      "(1, 'Cat', Decimal('337.57'), datetime.date(2018, 5, 29), 9)\n",
      "(2, 'Dog', Decimal('666.66'), datetime.date(2018, 6, 1), 3)\n",
      "(3, 'Parrot', Decimal('25.00'), datetime.date(2018, 6, 4), 2)\n",
      "(4, 'Hamster', Decimal('60.60'), datetime.date(2018, 6, 11), 6)\n",
      "(5, 'Goldfish', Decimal('48.48'), datetime.date(2018, 6, 14), 24)\n"
     ]
    }
   ],
   "source": [
    "conn = get_db_connection()\n",
    "cursor = conn.cursor()\n",
    "q2= \"CALL UPDATE_SALEPRICE(1, 'BAD');\"\n",
    "cursor.execute(q2)\n",
    "rows = cursor.fetchall()\n",
    "\n",
    "q4= \"CALL UPDATE_SALEPRICE(3, 'WORSE');\"\n",
    "cursor.execute(q4)\n",
    "rows = cursor.fetchall()\n",
    "\n",
    "q5 = \"CALL RETRIEVE_ALL;\"\n",
    "cursor.execute(q5)\n",
    "rows = cursor.fetchall()\n",
    "print(*[row for row in rows], sep ='\\n')"
   ]
  },
  {
   "cell_type": "markdown",
   "metadata": {},
   "source": [
    "3. You can view the created stored procedure routine UPDATE_SALEPRICE. Click on the Routines and view the procedure.\n"
   ]
  },
  {
   "cell_type": "code",
   "execution_count": 30,
   "metadata": {},
   "outputs": [],
   "source": [
    "conn.close()"
   ]
  },
  {
   "cell_type": "markdown",
   "metadata": {},
   "source": [
    "4. If you wish to drop the stored procedure routine UPDATE_SALEPRICE, copy the code below and paste it to the textarea of the SQL page. Click Go.\n"
   ]
  },
  {
   "cell_type": "code",
   "execution_count": 31,
   "metadata": {},
   "outputs": [
    {
     "data": {
      "text/plain": [
       "True"
      ]
     },
     "execution_count": 31,
     "metadata": {},
     "output_type": "execute_result"
    }
   ],
   "source": [
    "conn = get_db_connection()\n",
    "cursor=conn.cursor()\n",
    "drop_procdr2 = '''DROP PROCEDURE UPDATE_SALEPRICE;'''\n",
    "cursor.execute(drop_procdr2)\n",
    "cursor.close()\n",
    "# CALL UPDATE_SALEPRICE;"
   ]
  },
  {
   "cell_type": "code",
   "execution_count": 32,
   "metadata": {},
   "outputs": [],
   "source": [
    "conn.commit()\n",
    "conn.close()"
   ]
  }
 ],
 "metadata": {
  "kernelspec": {
   "display_name": "ibm_ds_env",
   "language": "python",
   "name": "python3"
  },
  "language_info": {
   "codemirror_mode": {
    "name": "ipython",
    "version": 3
   },
   "file_extension": ".py",
   "mimetype": "text/x-python",
   "name": "python",
   "nbconvert_exporter": "python",
   "pygments_lexer": "ipython3",
   "version": "3.10.14"
  }
 },
 "nbformat": 4,
 "nbformat_minor": 2
}
