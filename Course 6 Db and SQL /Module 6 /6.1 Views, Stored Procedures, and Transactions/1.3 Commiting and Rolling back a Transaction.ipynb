{
 "cells": [
  {
   "cell_type": "code",
   "execution_count": 1,
   "metadata": {},
   "outputs": [],
   "source": [
    "# Committing and Rolling Back a Transaction\n"
   ]
  },
  {
   "cell_type": "code",
   "execution_count": 2,
   "metadata": {},
   "outputs": [],
   "source": [
    "import mysql.connector as mysql\n",
    "import os \n",
    "from dotenv import load_dotenv"
   ]
  },
  {
   "cell_type": "code",
   "execution_count": null,
   "metadata": {},
   "outputs": [],
   "source": [
    "!docker stop mysql-container\n",
    "!docker restart mysql-container\n",
    "!docker ps"
   ]
  },
  {
   "cell_type": "code",
   "execution_count": 3,
   "metadata": {},
   "outputs": [],
   "source": [
    "load_dotenv('/workspaces/IBM-DS-Course/.env')\n",
    "user=os.getenv('USER')\n",
    "password=os.getenv('PASSWORD')\n",
    "host = 'localhost'\n",
    "port=3306\n"
   ]
  },
  {
   "cell_type": "code",
   "execution_count": null,
   "metadata": {},
   "outputs": [],
   "source": [
    "conn = mysql.connect(\n",
    "    host=host,\n",
    "    user=user,\n",
    "    password=password,\n",
    "    port=port\n",
    ")\n",
    "db = 'Transaction'\n",
    "cursor = conn.cursor()\n",
    "create_db =f'CREATE DATABASE IF NOT EXISTS {db}'\n",
    "cursor.execute(create_db)"
   ]
  },
  {
   "cell_type": "code",
   "execution_count": null,
   "metadata": {},
   "outputs": [],
   "source": [
    "sql_scripts = ['/workspaces/IBM-DS-Course/Course 6 Db and SQL /Module 6 /1.3 .sql/BankAccounts-CREATE.sql', '/workspaces/IBM-DS-Course/Course 6 Db and SQL /Module 6 /1.3 .sql/ShoeShop-CREATE.sql']\n",
    "for sql_script in sql_scripts:\n",
    "    with open(sql_script, 'r') as script:\n",
    "        script_cmd = script.read()\n",
    "\n",
    "use_db = f'USE {db}'\n",
    "cursor.execute(use_db)\n",
    "\n",
    "try:\n",
    "    for cmd in script_cmd.split(\";\"):\n",
    "        if cmd.strip():\n",
    "            cursor.execute(cmd)\n",
    "        conn.commit()\n",
    "        print(\"Success\")\n",
    "except Exception as e:\n",
    "    print(f'{cmd} failed because e')\n",
    "    \n",
    "cursor.close()"
   ]
  },
  {
   "cell_type": "markdown",
   "metadata": {},
   "source": [
    "## Sample Exercise\n"
   ]
  },
  {
   "cell_type": "markdown",
   "metadata": {},
   "source": [
    "1. Example of committing and rolling back a transaction.\n"
   ]
  },
  {
   "cell_type": "markdown",
   "metadata": {},
   "source": [
    "\n",
    "- Scenario: Rose is buying a pair of boots from ShoeShop. So we have to update Rose's balance as well as the ShoeShop balance in the BankAccounts table. \n",
    "- Then we also have to update Boots stock in the ShoeShop table. \n",
    "- After Boots, let's also attempt to buy Rose a pair of Trainers.\n"
   ]
  },
  {
   "cell_type": "markdown",
   "metadata": {},
   "source": [
    "2. Once the tables are ready, create a stored procedure routine named TRANSACTION_ROSE that includes TCL commands like COMMIT and ROLLBACK.\n"
   ]
  },
  {
   "cell_type": "markdown",
   "metadata": {},
   "source": [
    "- Now develop the routine based on the given scenario to execute a transaction.\n",
    "- To create the stored procedure routine on MySQL, copy the code below and paste it to the textarea of the SQL page. Click Go."
   ]
  },
  {
   "cell_type": "code",
   "execution_count": null,
   "metadata": {},
   "outputs": [],
   "source": [
    "'''CREATE PROCEDURE TRANSACTION_ROSE()\n",
    "BEGIN\n",
    "    DECLARE EXIT HANDLER FOR SQLEXCEPTION\n",
    "    BEGIN\n",
    "        ROLLBACK;\n",
    "        RESIGNAL;\n",
    "    END;\n",
    "    START TRANSACTION;\n",
    "    UPDATE BankAccounts\n",
    "    SET Balance = Balance-200\n",
    "    WHERE AccountName = 'Rose';\n",
    "    UPDATE BankAccounts\n",
    "    SET Balance = Balance+200\n",
    "    WHERE AccountName = 'Shoe Shop';\n",
    "    UPDATE ShoeShop\n",
    "    SET Stock = Stock-1\n",
    "    WHERE Product = 'Boots';\n",
    "    UPDATE BankAccounts\n",
    "    SET Balance = Balance-300\n",
    "    WHERE AccountName = 'Rose';\n",
    "    COMMIT;\n",
    "END; '''"
   ]
  },
  {
   "cell_type": "markdown",
   "metadata": {},
   "source": [
    "3. Let's now check if the transaction can successfully be committed or not. Copy the code below in a new blank script and paste it to the textarea of the SQL page. Click Go\n"
   ]
  },
  {
   "cell_type": "code",
   "execution_count": null,
   "metadata": {},
   "outputs": [],
   "source": [
    "'''CALL TRANSACTION_ROSE;'''\n",
    "'''SELECT * FROM BankAccounts;'''\n",
    "'''SELECT * FROM ShoeShop;'''"
   ]
  },
  {
   "cell_type": "markdown",
   "metadata": {},
   "source": [
    "4. Observe that the transaction has been executed. But when we observe the tables, no changes have permanently been saved through COMMIT. All the possible changes happened might have been undone through ROLLBACK since the whole transaction fails due to the failure of a SQL statement or more. Let's go through the possible reason behind the failure of the transaction and how COMMIT - ROLLBACK works on a stored procedure:\n",
    "\n",
    "The first three UPDATEs should run successfully. Both the balance of Rose and ShoeShop should have been updated in the BankAccounts table. The current balance of Rose should stand at 300 - 200 (price of a pair of Boots) = 100. The current balance of ShoeShop should stand at 124,200 + 200 = 124,400. The stock of Boots should also be updated in the ShoeShop table after the successful purchase for Rose, 11 - 1 = 10.\n",
    "\n",
    "The last UPDATE statement tries to buy Rose a pair of Trainers, but her balance becomes insufficient (Current balance of Rose: 100 < Price of Trainers: 300) after buying a pair of Boots. So, the last UPDATE statement fails. Since the whole transaction fails if any of the SQL statements fail, the transaction won't be committed.\n",
    "\n",
    "Previous\n"
   ]
  },
  {
   "cell_type": "markdown",
   "metadata": {},
   "source": [
    "## Practice exercise\n"
   ]
  },
  {
   "cell_type": "markdown",
   "metadata": {},
   "source": [
    "Create a stored procedure TRANSACTION_JAMES to execute a transaction based on the following scenario: \n",
    "- First buy James 4 pairs of Trainers from ShoeShop:\n",
    "\n",
    "- - Update his balance as well as the balance of ShoeShop. \n",
    "- - Also, update the stock of Trainers at ShoeShop. \n",
    "\n",
    "- Then attempt to buy James a pair of Brogues from ShoeShop. \n",
    "- - If any of the UPDATE statements fail, the whole transaction fails. \n",
    "- - You will roll back the transaction. \n",
    "\n",
    "- Commit the transaction only if the whole transaction is successful."
   ]
  },
  {
   "cell_type": "code",
   "execution_count": null,
   "metadata": {},
   "outputs": [],
   "source": [
    "'''CREATE PROCEDURE TRANSACTION_JAMES()\n",
    "BEGIN\n",
    "    DECLARE EXIT HANDLER FOR SQLEXCEPTION\n",
    "    BEGIN\n",
    "        ROLLBACK;\n",
    "        RESIGNAL;\n",
    "    END;\n",
    "    START TRANSACTION;\n",
    "    UPDATE BankAccounts\n",
    "    SET Balance = Balance-1200\n",
    "    WHERE AccountName = 'James';\n",
    "    UPDATE BankAccounts\n",
    "    SET Balance = Balance+1200\n",
    "    WHERE AccountName = 'Shoe Shop';\n",
    "    UPDATE ShoeShop\n",
    "    SET Stock = Stock-4\n",
    "    WHERE Product = 'Trainers';\n",
    "    UPDATE BankAccounts\n",
    "    SET Balance = Balance-150\n",
    "    WHERE AccountName = 'James';\n",
    "    COMMIT;\n",
    "END '''"
   ]
  }
 ],
 "metadata": {
  "kernelspec": {
   "display_name": "ibm_ds_env",
   "language": "python",
   "name": "python3"
  },
  "language_info": {
   "codemirror_mode": {
    "name": "ipython",
    "version": 3
   },
   "file_extension": ".py",
   "mimetype": "text/x-python",
   "name": "python",
   "nbconvert_exporter": "python",
   "pygments_lexer": "ipython3",
   "version": "3.10.14"
  }
 },
 "nbformat": 4,
 "nbformat_minor": 2
}
