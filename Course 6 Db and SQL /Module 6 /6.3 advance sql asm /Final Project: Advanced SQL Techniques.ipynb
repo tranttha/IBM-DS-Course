{
 "cells": [
  {
   "cell_type": "markdown",
   "metadata": {},
   "source": [
    "# Final Project: Advanced SQL Techniques\n"
   ]
  },
  {
   "cell_type": "markdown",
   "metadata": {},
   "source": [
    "## Scenario\n",
    "- You have to analyse the following datasets for the city of Chicago, as available on the Chicago City data portal.\n",
    "\n",
    "- - Socioeconomic indicators in Chicago\n",
    "- - Chicago public schools\n",
    "- - Chicago crime data\n",
    "\n",
    "- Based on the information available in the different tables, you have to run specific queries using Advanced SQL techniques that generate the required result sets.\n",
    "\n",
    "- The lab will be followed by a graded quiz that will have questions on all problems in this lab. Hence, remember to take screenshots of your SQL queries and their outputs for reference."
   ]
  },
  {
   "cell_type": "code",
   "execution_count": 1,
   "metadata": {},
   "outputs": [],
   "source": [
    "import mysql.connector as mysql \n",
    "import pandas as pd \n",
    "import os\n",
    "from dotenv import load_dotenv"
   ]
  },
  {
   "cell_type": "code",
   "execution_count": 2,
   "metadata": {},
   "outputs": [
    {
     "name": "stdout",
     "output_type": "stream",
     "text": [
      "mysql-container\n",
      "mysql-container\n",
      "CONTAINER ID   IMAGE     COMMAND                  CREATED      STATUS                  PORTS                                                  NAMES\n",
      "50e33c579e3f   mysql     \"docker-entrypoint.s…\"   4 days ago   Up Less than a second   0.0.0.0:3306->3306/tcp, :::3306->3306/tcp, 33060/tcp   mysql-container\n"
     ]
    }
   ],
   "source": [
    "!docker stop mysql-container\n",
    "!docker restart mysql-container\n",
    "!docker ps "
   ]
  },
  {
   "cell_type": "code",
   "execution_count": 4,
   "metadata": {},
   "outputs": [],
   "source": [
    "load_dotenv('/workspaces/IBM-DS-Course/.env')\n",
    "user=os.getenv('USER')\n",
    "password=os.getenv('PASSWORD')\n",
    "host = 'localhost'\n",
    "port=3306\n",
    "\n",
    "def get_db_connection(db=None):\n",
    "    return mysql.connect(\n",
    "        host=host, user=user, password=password,port=port, database=db\n",
    "\n",
    "    )\n",
    "db = 'chicago_data'\n",
    "create = f'CREATE DATABASE IF NOT EXISTS {db};'\n",
    "use = f'USE {db};'\n",
    "\n",
    "\n",
    "conn = get_db_connection()\n",
    "cursor = conn.cursor()\n",
    "cursor.execute(create)\n",
    "conn.commit()\n",
    "cursor.close()\n",
    "conn.close()"
   ]
  },
  {
   "cell_type": "code",
   "execution_count": 23,
   "metadata": {},
   "outputs": [],
   "source": [
    "file_paths = {\n",
    "    'chicago_socioeconomic_data': '/workspaces/IBM-DS-Course/Course 6 Db and SQL /Module 6 /6.3 advance sql asm /6.3 .sql /chicago_socioeconomic_data.sql',\n",
    "    'chicago_public_schools': '/workspaces/IBM-DS-Course/Course 6 Db and SQL /Module 6 /6.3 advance sql asm /6.3 .sql /chicago_public_schools.sql',\n",
    "    'chicago_crime': '/workspaces/IBM-DS-Course/Course 6 Db and SQL /Module 6 /6.3 advance sql asm /6.3 .sql /chicago_crime.sql'\n",
    "}\n"
   ]
  },
  {
   "cell_type": "code",
   "execution_count": 29,
   "metadata": {},
   "outputs": [],
   "source": [
    "# check table exists\n",
    "conn = get_db_connection(db)\n",
    "cursor = conn.cursor()\n",
    "# cursor.execute(use)\n",
    "\n",
    "for table_name, file_path in file_paths.items():\n",
    "    \n",
    "    table_exists_query = f'SELECT * FROM INFORMATION_SCHEMA.TABLES WHERE TABLE_NAME = \"{table_name}\" AND TABLE_SCHEMA=\"{db}\";'\n",
    "    cursor.execute(table_exists_query)\n",
    "    rspn = cursor.fetchone()\n",
    "    if not rspn:\n",
    "        try:\n",
    "            with open(file_path, 'r') as sql_script:\n",
    "                sql_cmds = sql_script.read()\n",
    "                \n",
    "                for cmd in sql_cmds.split(';'):\n",
    "                    if cmd.strip():\n",
    "                        cursor.execute(cmd)\n",
    "                    conn.commit()\n",
    "                    print(f'{file_path} was preformed successfully')\n",
    "    \n",
    "        except Exception as err:\n",
    "            print(f'{file_path} failed because {err}')\n",
    "    else:\n",
    "        table_info_query = f'SELECT COLUMN_NAME FROM INFORMATION_SCHEMA.COLUMNS WHERE TABLE_NAME = \"{table_name}\" AND TABLE_SCHEMA=\"{db}\";'\n",
    "        cursor.execute(table_info_query)\n",
    "        rslt = cursor.fetchall()\n",
    "        column_names_df = pd.DataFrame(rslt, columns=[\"COLUMN_NAME\"])\n",
    "        globals()[f'{table_name}_df'] = pd.DataFrame(column_names_df)\n",
    "    \n",
    "# finally:\n",
    "cursor.close()\n",
    "conn.close()"
   ]
  },
  {
   "cell_type": "code",
   "execution_count": 31,
   "metadata": {},
   "outputs": [
    {
     "name": "stdout",
     "output_type": "stream",
     "text": [
      "chicago_socioeconomic_data_df\n",
      "chicago_public_schools_df\n",
      "chicago_crime_df\n"
     ]
    }
   ],
   "source": [
    "for table_name, file_path in file_paths.items():\n",
    "    print(f'{table_name}_df')"
   ]
  },
  {
   "cell_type": "markdown",
   "metadata": {},
   "source": [
    "## Ex 1 "
   ]
  },
  {
   "cell_type": "markdown",
   "metadata": {},
   "source": [
    "Using Joins\n",
    "You have been asked to produce some reports about the communities and crimes in the Chicago area. You will need to use SQL join queries to access the data stored across multiple tables.\n"
   ]
  },
  {
   "cell_type": "markdown",
   "metadata": {},
   "source": [
    "### Question 1\n",
    "Write and execute a SQL query to list the school names, community names and average attendance for communities with a hardship index of 98.\n"
   ]
  },
  {
   "cell_type": "code",
   "execution_count": null,
   "metadata": {},
   "outputs": [],
   "source": []
  },
  {
   "cell_type": "code",
   "execution_count": null,
   "metadata": {},
   "outputs": [],
   "source": []
  },
  {
   "cell_type": "markdown",
   "metadata": {},
   "source": [
    "### Question 2\n",
    "Write and execute a SQL query to list all crimes that took place at a school. Include case number, crime type and community name.\n"
   ]
  },
  {
   "cell_type": "markdown",
   "metadata": {},
   "source": [
    "## Ex2: Creating a View\n"
   ]
  },
  {
   "cell_type": "markdown",
   "metadata": {},
   "source": [
    "For privacy reasons, you have been asked to create a view that enables users to select just the school name and the icon fields from the CHICAGO_PUBLIC_SCHOOLS table. By providing a view, you can ensure that users cannot see the actual scores given to a school, just the icon associated with their score. You should define new names for the view columns to obscure the use of scores and icons in the original table.\n"
   ]
  },
  {
   "cell_type": "markdown",
   "metadata": {},
   "source": [
    "\n",
    "Question 1\n",
    "Write and execute a SQL statement to create a view showing the columns listed in the following table, with new column names as shown in the second column.\n",
    "| Column name in CHICAGO_PUBLIC_SCHOOLS|\tColumn name in view|\n",
    "|-----|----|\n",
    "|NAME_OF_SCHOOL|\tSchool_Name|\n",
    "|Safety_Icon\t|Safety_Rating|\n",
    "|Family_Involvement_Icon|\tFamily_Rating|\n",
    "|Environment_Icon|\tEnvironment_Rating|\n",
    "|Instruction_Icon|\tInstruction_Rating|\n",
    "|Leaders_Icon\t|Leaders_Rating|\n",
    "|Teachers_Icon|\tTeachers_Rating|\n"
   ]
  },
  {
   "cell_type": "markdown",
   "metadata": {},
   "source": [
    "Write and execute a SQL statement that returns all of the columns from the view.\n",
    "\n"
   ]
  },
  {
   "cell_type": "code",
   "execution_count": null,
   "metadata": {},
   "outputs": [],
   "source": []
  },
  {
   "cell_type": "markdown",
   "metadata": {},
   "source": [
    "Write and execute a SQL statement that returns just the school name and leaders rating from the view.\n"
   ]
  },
  {
   "cell_type": "code",
   "execution_count": null,
   "metadata": {},
   "outputs": [],
   "source": []
  },
  {
   "cell_type": "markdown",
   "metadata": {},
   "source": [
    "## Ex 3: Creating a Stored Procedure\n"
   ]
  },
  {
   "cell_type": "markdown",
   "metadata": {},
   "source": [
    "The icon fields are calculated based on the value in the corresponding score field. You need to make sure that when a score field is updated, the icon field is updated too. To do this, you will write a stored procedure that receives the school id and a leaders score as input parameters, calculates the icon setting and updates the fields appropriately.\n",
    "\n"
   ]
  },
  {
   "cell_type": "markdown",
   "metadata": {},
   "source": [
    "### Question 1\n",
    "Write the structure of a query to create or replace a stored procedure called UPDATE_LEADERS_SCORE that takes a in_School_ID parameter as an integer and a in_Leader_Score parameter as an integer.\n",
    "Take a screenshot showing the SQL query.\n",
    "\n"
   ]
  },
  {
   "cell_type": "code",
   "execution_count": null,
   "metadata": {},
   "outputs": [],
   "source": []
  },
  {
   "cell_type": "markdown",
   "metadata": {},
   "source": [
    "### Question 2\n",
    "Inside your stored procedure, write a SQL statement to update the Leaders_Score field in the CHICAGO_PUBLIC_SCHOOLS table for the school identified by in_School_ID to the value in the in_Leader_Score parameter.\n",
    "Take a screenshot showing the SQL query.\n",
    "\n"
   ]
  },
  {
   "cell_type": "code",
   "execution_count": null,
   "metadata": {},
   "outputs": [],
   "source": []
  },
  {
   "cell_type": "markdown",
   "metadata": {},
   "source": [
    "### Question 3\n",
    "Inside your stored procedure, write a SQL IF statement to update the Leaders_Icon field in the CHICAGO_PUBLIC_SCHOOLS table for the school identified by in_School_ID using the following information.\n",
    "|Score lower limit|\tScore upper limit|\tIcon|\n",
    "|----|----|----|\n",
    "|80\t|99|\tVery strong|\n",
    "|60\t|79\t|Strong|\n",
    "|40|\t59|\tAverage|\n",
    "|20\t|39\t|Weak|\n",
    "|0|\t19|\tVery weak|\n",
    "\n"
   ]
  },
  {
   "cell_type": "markdown",
   "metadata": {},
   "source": [
    "### Question 4\n",
    "Run your code to create the stored procedure.\n",
    "\n",
    "Write a query to call the stored procedure, passing a valid school ID and a leader score of 50, to check that the procedure works as expected.\n"
   ]
  },
  {
   "cell_type": "code",
   "execution_count": null,
   "metadata": {},
   "outputs": [],
   "source": []
  },
  {
   "cell_type": "markdown",
   "metadata": {},
   "source": [
    "## Ex 4: Using Transactions\n"
   ]
  },
  {
   "cell_type": "markdown",
   "metadata": {},
   "source": [
    "You realise that if someone calls your code with a score outside of the allowed range (0-99), then the score will be updated with the invalid data and the icon will remain at its previous value. There are various ways to avoid this problem, one of which is using a transaction.\n",
    "\n"
   ]
  },
  {
   "cell_type": "markdown",
   "metadata": {},
   "source": [
    "### Question 1\n",
    "Update your stored procedure definition. Add a generic ELSE clause to the IF statement that rolls back the current work if the score did not fit any of the preceding categories.\n"
   ]
  },
  {
   "cell_type": "code",
   "execution_count": null,
   "metadata": {},
   "outputs": [],
   "source": []
  },
  {
   "cell_type": "markdown",
   "metadata": {},
   "source": [
    "### Question 2\n",
    "Update your stored procedure definition again. Add a statement to commit the current unit of work at the end of the procedure.\n",
    "\n",
    "Run your code to replace the stored procedure.\n",
    "\n"
   ]
  },
  {
   "cell_type": "code",
   "execution_count": null,
   "metadata": {},
   "outputs": [],
   "source": []
  },
  {
   "cell_type": "markdown",
   "metadata": {},
   "source": [
    "Write and run one query to check that the updated stored procedure works as expected when you use a valid score of 38.\n",
    "\n"
   ]
  },
  {
   "cell_type": "code",
   "execution_count": null,
   "metadata": {},
   "outputs": [],
   "source": []
  },
  {
   "cell_type": "markdown",
   "metadata": {},
   "source": [
    "Write and run another query to check that the updated stored procedure works as expected when you use an invalid score of 101.\n",
    "\n"
   ]
  },
  {
   "cell_type": "code",
   "execution_count": null,
   "metadata": {},
   "outputs": [],
   "source": []
  }
 ],
 "metadata": {
  "kernelspec": {
   "display_name": "ibm_ds_env",
   "language": "python",
   "name": "python3"
  },
  "language_info": {
   "codemirror_mode": {
    "name": "ipython",
    "version": 3
   },
   "file_extension": ".py",
   "mimetype": "text/x-python",
   "name": "python",
   "nbconvert_exporter": "python",
   "pygments_lexer": "ipython3",
   "version": "3.10.14"
  }
 },
 "nbformat": 4,
 "nbformat_minor": 2
}
