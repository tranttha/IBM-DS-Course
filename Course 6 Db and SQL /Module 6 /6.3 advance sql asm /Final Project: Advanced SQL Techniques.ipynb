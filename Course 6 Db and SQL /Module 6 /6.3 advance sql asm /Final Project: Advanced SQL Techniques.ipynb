{
 "cells": [
  {
   "cell_type": "markdown",
   "metadata": {},
   "source": [
    "# Final Project: Advanced SQL Techniques\n"
   ]
  },
  {
   "cell_type": "markdown",
   "metadata": {},
   "source": [
    "## Scenario\n",
    "- You have to analyse the following datasets for the city of Chicago, as available on the Chicago City data portal.\n",
    "\n",
    "- - Socioeconomic indicators in Chicago\n",
    "- - Chicago public schools\n",
    "- - Chicago crime data\n",
    "\n",
    "- Based on the information available in the different tables, you have to run specific queries using Advanced SQL techniques that generate the required result sets.\n",
    "\n",
    "- The lab will be followed by a graded quiz that will have questions on all problems in this lab. Hence, remember to take screenshots of your SQL queries and their outputs for reference."
   ]
  },
  {
   "cell_type": "code",
   "execution_count": 1,
   "metadata": {},
   "outputs": [],
   "source": [
    "import mysql.connector as mysql \n",
    "import pandas as pd \n",
    "import os\n",
    "from dotenv import load_dotenv"
   ]
  },
  {
   "cell_type": "code",
   "execution_count": 2,
   "metadata": {},
   "outputs": [
    {
     "name": "stdout",
     "output_type": "stream",
     "text": [
      "mysql-container\n",
      "mysql-container\n",
      "CONTAINER ID   IMAGE     COMMAND                  CREATED      STATUS                  PORTS                                                  NAMES\n",
      "50e33c579e3f   mysql     \"docker-entrypoint.s…\"   4 days ago   Up Less than a second   0.0.0.0:3306->3306/tcp, :::3306->3306/tcp, 33060/tcp   mysql-container\n"
     ]
    }
   ],
   "source": [
    "!docker stop mysql-container\n",
    "!docker restart mysql-container\n",
    "!docker ps "
   ]
  },
  {
   "cell_type": "code",
   "execution_count": 4,
   "metadata": {},
   "outputs": [],
   "source": [
    "load_dotenv('/workspaces/IBM-DS-Course/.env')\n",
    "user=os.getenv('USER')\n",
    "password=os.getenv('PASSWORD')\n",
    "host = 'localhost'\n",
    "port=3306\n",
    "\n",
    "def get_db_connection(db=None):\n",
    "    return mysql.connect(\n",
    "        host=host, user=user, password=password,port=port, database=db\n",
    "\n",
    "    )\n",
    "db = 'chicago_data'\n",
    "create = f'CREATE DATABASE IF NOT EXISTS {db};'\n",
    "use = f'USE {db};'\n",
    "\n",
    "\n",
    "conn = get_db_connection()\n",
    "cursor = conn.cursor()\n",
    "cursor.execute(create)\n",
    "conn.commit()\n",
    "cursor.close()\n",
    "conn.close()"
   ]
  },
  {
   "cell_type": "code",
   "execution_count": 23,
   "metadata": {},
   "outputs": [],
   "source": [
    "file_paths = {\n",
    "    'chicago_socioeconomic_data': '/workspaces/IBM-DS-Course/Course 6 Db and SQL /Module 6 /6.3 advance sql asm /6.3 .sql /chicago_socioeconomic_data.sql',\n",
    "    'chicago_public_schools': '/workspaces/IBM-DS-Course/Course 6 Db and SQL /Module 6 /6.3 advance sql asm /6.3 .sql /chicago_public_schools.sql',\n",
    "    'chicago_crime': '/workspaces/IBM-DS-Course/Course 6 Db and SQL /Module 6 /6.3 advance sql asm /6.3 .sql /chicago_crime.sql'\n",
    "}\n"
   ]
  },
  {
   "cell_type": "code",
   "execution_count": 29,
   "metadata": {},
   "outputs": [],
   "source": [
    "# check table exists\n",
    "conn = get_db_connection(db)\n",
    "cursor = conn.cursor()\n",
    "# cursor.execute(use)\n",
    "\n",
    "for table_name, file_path in file_paths.items():\n",
    "    \n",
    "    table_exists_query = f'SELECT * FROM INFORMATION_SCHEMA.TABLES WHERE TABLE_NAME = \"{table_name}\" AND TABLE_SCHEMA=\"{db}\";'\n",
    "    cursor.execute(table_exists_query)\n",
    "    rspn = cursor.fetchone()\n",
    "    if not rspn:\n",
    "        try:\n",
    "            with open(file_path, 'r') as sql_script:\n",
    "                sql_cmds = sql_script.read()\n",
    "                \n",
    "                for cmd in sql_cmds.split(';'):\n",
    "                    if cmd.strip():\n",
    "                        cursor.execute(cmd)\n",
    "                    conn.commit()\n",
    "                    print(f'{file_path} was preformed successfully')\n",
    "    \n",
    "        except Exception as err:\n",
    "            print(f'{file_path} failed because {err}')\n",
    "    else:\n",
    "        table_info_query = f'SELECT COLUMN_NAME FROM INFORMATION_SCHEMA.COLUMNS WHERE TABLE_NAME = \"{table_name}\" AND TABLE_SCHEMA=\"{db}\";'\n",
    "        cursor.execute(table_info_query)\n",
    "        rslt = cursor.fetchall()\n",
    "        column_names_df = pd.DataFrame(rslt, columns=[\"COLUMN_NAME\"])\n",
    "        globals()[f'{table_name}_df'] = pd.DataFrame(column_names_df)\n",
    "    \n",
    "# finally:\n",
    "cursor.close()\n",
    "conn.close()"
   ]
  },
  {
   "cell_type": "code",
   "execution_count": 59,
   "metadata": {},
   "outputs": [],
   "source": [
    "for table_name, file_path in file_paths.items():\n",
    "    f'{table_name}_df'"
   ]
  },
  {
   "cell_type": "code",
   "execution_count": 67,
   "metadata": {},
   "outputs": [
    {
     "data": {
      "text/html": [
       "<div>\n",
       "<style scoped>\n",
       "    .dataframe tbody tr th:only-of-type {\n",
       "        vertical-align: middle;\n",
       "    }\n",
       "\n",
       "    .dataframe tbody tr th {\n",
       "        vertical-align: top;\n",
       "    }\n",
       "\n",
       "    .dataframe thead th {\n",
       "        text-align: right;\n",
       "    }\n",
       "</style>\n",
       "<table border=\"1\" class=\"dataframe\">\n",
       "  <thead>\n",
       "    <tr style=\"text-align: right;\">\n",
       "      <th></th>\n",
       "      <th>COLUMN_NAME</th>\n",
       "    </tr>\n",
       "  </thead>\n",
       "  <tbody>\n",
       "    <tr>\n",
       "      <th>0</th>\n",
       "      <td>ID</td>\n",
       "    </tr>\n",
       "    <tr>\n",
       "      <th>1</th>\n",
       "      <td>CASE_NUMBER</td>\n",
       "    </tr>\n",
       "    <tr>\n",
       "      <th>2</th>\n",
       "      <td>DATE</td>\n",
       "    </tr>\n",
       "    <tr>\n",
       "      <th>3</th>\n",
       "      <td>BLOCK</td>\n",
       "    </tr>\n",
       "    <tr>\n",
       "      <th>4</th>\n",
       "      <td>IUCR</td>\n",
       "    </tr>\n",
       "    <tr>\n",
       "      <th>5</th>\n",
       "      <td>PRIMARY_TYPE</td>\n",
       "    </tr>\n",
       "    <tr>\n",
       "      <th>6</th>\n",
       "      <td>DESCRIPTION</td>\n",
       "    </tr>\n",
       "    <tr>\n",
       "      <th>7</th>\n",
       "      <td>LOCATION_DESCRIPTION</td>\n",
       "    </tr>\n",
       "    <tr>\n",
       "      <th>8</th>\n",
       "      <td>ARREST</td>\n",
       "    </tr>\n",
       "    <tr>\n",
       "      <th>9</th>\n",
       "      <td>DOMESTIC</td>\n",
       "    </tr>\n",
       "    <tr>\n",
       "      <th>10</th>\n",
       "      <td>BEAT</td>\n",
       "    </tr>\n",
       "    <tr>\n",
       "      <th>11</th>\n",
       "      <td>DISTRICT</td>\n",
       "    </tr>\n",
       "    <tr>\n",
       "      <th>12</th>\n",
       "      <td>WARD</td>\n",
       "    </tr>\n",
       "    <tr>\n",
       "      <th>13</th>\n",
       "      <td>COMMUNITY_AREA_NUMBER</td>\n",
       "    </tr>\n",
       "    <tr>\n",
       "      <th>14</th>\n",
       "      <td>FBICODE</td>\n",
       "    </tr>\n",
       "    <tr>\n",
       "      <th>15</th>\n",
       "      <td>X_COORDINATE</td>\n",
       "    </tr>\n",
       "    <tr>\n",
       "      <th>16</th>\n",
       "      <td>Y_COORDINATE</td>\n",
       "    </tr>\n",
       "    <tr>\n",
       "      <th>17</th>\n",
       "      <td>YEAR</td>\n",
       "    </tr>\n",
       "    <tr>\n",
       "      <th>18</th>\n",
       "      <td>LATITUDE</td>\n",
       "    </tr>\n",
       "    <tr>\n",
       "      <th>19</th>\n",
       "      <td>LONGITUDE</td>\n",
       "    </tr>\n",
       "    <tr>\n",
       "      <th>20</th>\n",
       "      <td>LOCATION</td>\n",
       "    </tr>\n",
       "  </tbody>\n",
       "</table>\n",
       "</div>"
      ],
      "text/plain": [
       "              COLUMN_NAME\n",
       "0                      ID\n",
       "1             CASE_NUMBER\n",
       "2                    DATE\n",
       "3                   BLOCK\n",
       "4                    IUCR\n",
       "5            PRIMARY_TYPE\n",
       "6             DESCRIPTION\n",
       "7    LOCATION_DESCRIPTION\n",
       "8                  ARREST\n",
       "9                DOMESTIC\n",
       "10                   BEAT\n",
       "11               DISTRICT\n",
       "12                   WARD\n",
       "13  COMMUNITY_AREA_NUMBER\n",
       "14                FBICODE\n",
       "15           X_COORDINATE\n",
       "16           Y_COORDINATE\n",
       "17                   YEAR\n",
       "18               LATITUDE\n",
       "19              LONGITUDE\n",
       "20               LOCATION"
      ]
     },
     "execution_count": 67,
     "metadata": {},
     "output_type": "execute_result"
    }
   ],
   "source": [
    "chicago_socioeconomic_data_df\n",
    "chicago_public_schools_df\n",
    "chicago_crime_df\n"
   ]
  },
  {
   "cell_type": "markdown",
   "metadata": {},
   "source": [
    "## Ex 1 "
   ]
  },
  {
   "cell_type": "markdown",
   "metadata": {},
   "source": [
    "Using Joins\n",
    "You have been asked to produce some reports about the communities and crimes in the Chicago area. You will need to use SQL join queries to access the data stored across multiple tables.\n"
   ]
  },
  {
   "cell_type": "markdown",
   "metadata": {},
   "source": [
    "### Question 1\n",
    "Write and execute a SQL query to list the school names, community names and average attendance for communities with a hardship index of 98.\n"
   ]
  },
  {
   "cell_type": "code",
   "execution_count": 69,
   "metadata": {},
   "outputs": [],
   "source": [
    "conn = get_db_connection(db)\n",
    "cursor = conn.cursor()\n"
   ]
  },
  {
   "cell_type": "code",
   "execution_count": 85,
   "metadata": {},
   "outputs": [],
   "source": [
    "q1_1 = '''\n",
    "SELECT S.NAME_OF_SCHOOL, SE.HARDSHIP_INDEX, SE.COMMUNITY_AREA_NUMBER, SE.COMMUNITY_AREA_NAME FROM chicago_public_schools AS S LEFT JOIN chicago_socioeconomic_data AS SE ON S.COMMUNITY_AREA_NUMBER = SE.COMMUNITY_AREA_NUMBER WHERE SE.HARDSHIP_INDEX = 98;'''\n",
    "\n"
   ]
  },
  {
   "cell_type": "code",
   "execution_count": 86,
   "metadata": {},
   "outputs": [],
   "source": [
    "cursor.execute(q1_1)\n",
    "rslt1_1 = cursor.fetchall()\n",
    "rslt1_1_df = pd.DataFrame(rslt1_1)\n"
   ]
  },
  {
   "cell_type": "code",
   "execution_count": 87,
   "metadata": {},
   "outputs": [
    {
     "data": {
      "text/html": [
       "<div>\n",
       "<style scoped>\n",
       "    .dataframe tbody tr th:only-of-type {\n",
       "        vertical-align: middle;\n",
       "    }\n",
       "\n",
       "    .dataframe tbody tr th {\n",
       "        vertical-align: top;\n",
       "    }\n",
       "\n",
       "    .dataframe thead th {\n",
       "        text-align: right;\n",
       "    }\n",
       "</style>\n",
       "<table border=\"1\" class=\"dataframe\">\n",
       "  <thead>\n",
       "    <tr style=\"text-align: right;\">\n",
       "      <th></th>\n",
       "      <th>0</th>\n",
       "      <th>1</th>\n",
       "      <th>2</th>\n",
       "      <th>3</th>\n",
       "    </tr>\n",
       "  </thead>\n",
       "  <tbody>\n",
       "    <tr>\n",
       "      <th>0</th>\n",
       "      <td>George Washington Carver Military Academy High...</td>\n",
       "      <td>98</td>\n",
       "      <td>54</td>\n",
       "      <td>Riverdale</td>\n",
       "    </tr>\n",
       "    <tr>\n",
       "      <th>1</th>\n",
       "      <td>George Washington Carver Primary School</td>\n",
       "      <td>98</td>\n",
       "      <td>54</td>\n",
       "      <td>Riverdale</td>\n",
       "    </tr>\n",
       "    <tr>\n",
       "      <th>2</th>\n",
       "      <td>Ira F Aldridge Elementary School</td>\n",
       "      <td>98</td>\n",
       "      <td>54</td>\n",
       "      <td>Riverdale</td>\n",
       "    </tr>\n",
       "    <tr>\n",
       "      <th>3</th>\n",
       "      <td>William E B Dubois Elementary School</td>\n",
       "      <td>98</td>\n",
       "      <td>54</td>\n",
       "      <td>Riverdale</td>\n",
       "    </tr>\n",
       "  </tbody>\n",
       "</table>\n",
       "</div>"
      ],
      "text/plain": [
       "                                                   0   1   2          3\n",
       "0  George Washington Carver Military Academy High...  98  54  Riverdale\n",
       "1            George Washington Carver Primary School  98  54  Riverdale\n",
       "2                   Ira F Aldridge Elementary School  98  54  Riverdale\n",
       "3               William E B Dubois Elementary School  98  54  Riverdale"
      ]
     },
     "execution_count": 87,
     "metadata": {},
     "output_type": "execute_result"
    }
   ],
   "source": [
    "rslt1_1_df"
   ]
  },
  {
   "cell_type": "markdown",
   "metadata": {},
   "source": [
    "### Question 2\n",
    "Write and execute a SQL query to list all crimes that took place at a school. Include case number, crime type and community name.\n"
   ]
  },
  {
   "cell_type": "code",
   "execution_count": 92,
   "metadata": {},
   "outputs": [],
   "source": [
    "q1_2 = '''\n",
    "SELECT C.ID, C.PRIMARY_TYPE, C.LOCATION_DESCRIPTION, SE.COMMUNITY_AREA_NAME FROM chicago_crime AS C LEFT JOIN chicago_socioeconomic_data AS SE ON C.COMMUNITY_AREA_NUMBER = SE.COMMUNITY_AREA_NUMBER WHERE C.LOCATION_DESCRIPTION LIKE \"%SCHOOL%\" OR \"SCHOOL%\" OR \"%SCHOOL\";'''\n",
    "\n"
   ]
  },
  {
   "cell_type": "code",
   "execution_count": 93,
   "metadata": {},
   "outputs": [
    {
     "data": {
      "text/html": [
       "<div>\n",
       "<style scoped>\n",
       "    .dataframe tbody tr th:only-of-type {\n",
       "        vertical-align: middle;\n",
       "    }\n",
       "\n",
       "    .dataframe tbody tr th {\n",
       "        vertical-align: top;\n",
       "    }\n",
       "\n",
       "    .dataframe thead th {\n",
       "        text-align: right;\n",
       "    }\n",
       "</style>\n",
       "<table border=\"1\" class=\"dataframe\">\n",
       "  <thead>\n",
       "    <tr style=\"text-align: right;\">\n",
       "      <th></th>\n",
       "      <th>0</th>\n",
       "      <th>1</th>\n",
       "      <th>2</th>\n",
       "      <th>3</th>\n",
       "    </tr>\n",
       "  </thead>\n",
       "  <tbody>\n",
       "    <tr>\n",
       "      <th>0</th>\n",
       "      <td>4006321</td>\n",
       "      <td>BATTERY</td>\n",
       "      <td>SCHOOL, PUBLIC, GROUNDS</td>\n",
       "      <td>South Shore</td>\n",
       "    </tr>\n",
       "    <tr>\n",
       "      <th>1</th>\n",
       "      <td>4430638</td>\n",
       "      <td>BATTERY</td>\n",
       "      <td>SCHOOL, PUBLIC, BUILDING</td>\n",
       "      <td>Lincoln Square</td>\n",
       "    </tr>\n",
       "    <tr>\n",
       "      <th>2</th>\n",
       "      <td>6644618</td>\n",
       "      <td>BATTERY</td>\n",
       "      <td>SCHOOL, PUBLIC, BUILDING</td>\n",
       "      <td>Douglas</td>\n",
       "    </tr>\n",
       "    <tr>\n",
       "      <th>3</th>\n",
       "      <td>2341955</td>\n",
       "      <td>BATTERY</td>\n",
       "      <td>SCHOOL, PUBLIC, BUILDING</td>\n",
       "      <td>Austin</td>\n",
       "    </tr>\n",
       "    <tr>\n",
       "      <th>4</th>\n",
       "      <td>11110571</td>\n",
       "      <td>BATTERY</td>\n",
       "      <td>SCHOOL, PUBLIC, GROUNDS</td>\n",
       "      <td>Ashburn</td>\n",
       "    </tr>\n",
       "    <tr>\n",
       "      <th>5</th>\n",
       "      <td>7399281</td>\n",
       "      <td>CRIMINAL DAMAGE</td>\n",
       "      <td>SCHOOL, PUBLIC, GROUNDS</td>\n",
       "      <td>Austin</td>\n",
       "    </tr>\n",
       "    <tr>\n",
       "      <th>6</th>\n",
       "      <td>3530721</td>\n",
       "      <td>NARCOTICS</td>\n",
       "      <td>SCHOOL, PUBLIC, GROUNDS</td>\n",
       "      <td>Rogers Park</td>\n",
       "    </tr>\n",
       "    <tr>\n",
       "      <th>7</th>\n",
       "      <td>7502426</td>\n",
       "      <td>NARCOTICS</td>\n",
       "      <td>SCHOOL, PUBLIC, BUILDING</td>\n",
       "      <td>Brighton Park</td>\n",
       "    </tr>\n",
       "    <tr>\n",
       "      <th>8</th>\n",
       "      <td>8082600</td>\n",
       "      <td>ASSAULT</td>\n",
       "      <td>SCHOOL, PUBLIC, GROUNDS</td>\n",
       "      <td>East Garfield Park</td>\n",
       "    </tr>\n",
       "    <tr>\n",
       "      <th>9</th>\n",
       "      <td>7174283</td>\n",
       "      <td>CRIMINAL TRESPASS</td>\n",
       "      <td>SCHOOL, PUBLIC, GROUNDS</td>\n",
       "      <td>Ashburn</td>\n",
       "    </tr>\n",
       "    <tr>\n",
       "      <th>10</th>\n",
       "      <td>2075734</td>\n",
       "      <td>PUBLIC PEACE VIOLATION</td>\n",
       "      <td>SCHOOL, PRIVATE, BUILDING</td>\n",
       "      <td>CHICAGO</td>\n",
       "    </tr>\n",
       "    <tr>\n",
       "      <th>11</th>\n",
       "      <td>1806896</td>\n",
       "      <td>PUBLIC PEACE VIOLATION</td>\n",
       "      <td>SCHOOL, PUBLIC, BUILDING</td>\n",
       "      <td>CHICAGO</td>\n",
       "    </tr>\n",
       "  </tbody>\n",
       "</table>\n",
       "</div>"
      ],
      "text/plain": [
       "           0                       1                          2  \\\n",
       "0    4006321                 BATTERY    SCHOOL, PUBLIC, GROUNDS   \n",
       "1    4430638                 BATTERY   SCHOOL, PUBLIC, BUILDING   \n",
       "2    6644618                 BATTERY   SCHOOL, PUBLIC, BUILDING   \n",
       "3    2341955                 BATTERY   SCHOOL, PUBLIC, BUILDING   \n",
       "4   11110571                 BATTERY    SCHOOL, PUBLIC, GROUNDS   \n",
       "5    7399281         CRIMINAL DAMAGE    SCHOOL, PUBLIC, GROUNDS   \n",
       "6    3530721               NARCOTICS    SCHOOL, PUBLIC, GROUNDS   \n",
       "7    7502426               NARCOTICS   SCHOOL, PUBLIC, BUILDING   \n",
       "8    8082600                 ASSAULT    SCHOOL, PUBLIC, GROUNDS   \n",
       "9    7174283       CRIMINAL TRESPASS    SCHOOL, PUBLIC, GROUNDS   \n",
       "10   2075734  PUBLIC PEACE VIOLATION  SCHOOL, PRIVATE, BUILDING   \n",
       "11   1806896  PUBLIC PEACE VIOLATION   SCHOOL, PUBLIC, BUILDING   \n",
       "\n",
       "                     3  \n",
       "0          South Shore  \n",
       "1       Lincoln Square  \n",
       "2              Douglas  \n",
       "3               Austin  \n",
       "4              Ashburn  \n",
       "5               Austin  \n",
       "6          Rogers Park  \n",
       "7        Brighton Park  \n",
       "8   East Garfield Park  \n",
       "9              Ashburn  \n",
       "10             CHICAGO  \n",
       "11             CHICAGO  "
      ]
     },
     "execution_count": 93,
     "metadata": {},
     "output_type": "execute_result"
    }
   ],
   "source": [
    "cursor.execute(q1_2)\n",
    "rslt1_2 = cursor.fetchall()\n",
    "rslt1_2_df = pd.DataFrame(rslt1_2)\n",
    "rslt1_2_df"
   ]
  },
  {
   "cell_type": "code",
   "execution_count": 95,
   "metadata": {},
   "outputs": [],
   "source": [
    "cursor.close()\n",
    "conn.close()"
   ]
  },
  {
   "cell_type": "markdown",
   "metadata": {},
   "source": [
    "## Ex2: Creating a View\n"
   ]
  },
  {
   "cell_type": "markdown",
   "metadata": {},
   "source": [
    "For privacy reasons, you have been asked to create a view that enables users to select just the school name and the icon fields from the CHICAGO_PUBLIC_SCHOOLS table. By providing a view, you can ensure that users cannot see the actual scores given to a school, just the icon associated with their score. You should define new names for the view columns to obscure the use of scores and icons in the original table.\n"
   ]
  },
  {
   "cell_type": "markdown",
   "metadata": {},
   "source": [
    "\n",
    "Question 1\n",
    "Write and execute a SQL statement to create a view showing the columns listed in the following table, with new column names as shown in the second column.\n",
    "| Column name in CHICAGO_PUBLIC_SCHOOLS|\tColumn name in view|\n",
    "|-----|----|\n",
    "|NAME_OF_SCHOOL|\tSchool_Name|\n",
    "|Safety_Icon\t|Safety_Rating|\n",
    "|Family_Involvement_Icon|\tFamily_Rating|\n",
    "|Environment_Icon|\tEnvironment_Rating|\n",
    "|Instruction_Icon|\tInstruction_Rating|\n",
    "|Leaders_Icon\t|Leaders_Rating|\n",
    "|Teachers_Icon|\tTeachers_Rating|\n"
   ]
  },
  {
   "cell_type": "markdown",
   "metadata": {},
   "source": [
    "Write and execute a SQL statement that returns all of the columns from the view.\n",
    "\n"
   ]
  },
  {
   "cell_type": "code",
   "execution_count": 100,
   "metadata": {},
   "outputs": [],
   "source": [
    "view = '''\n",
    "CREATE OR REPLACE VIEW P_SCHOOL_VIEW AS \n",
    "SELECT NAME_OF_SCHOOL AS School_Name,\n",
    "Safety_Icon\tAS Safety_Rating,\n",
    "Family_Involvement_Icon AS\tFamily_Rating , \n",
    "Environment_Icon AS\tEnvironment_Rating, \n",
    "Instruction_Icon AS\tInstruction_Rating , \n",
    "Leaders_Icon AS\tLeaders_Rating , \n",
    "Teachers_Icon AS\tTeachers_Rating \n",
    "FROM chicago_public_schools;\n",
    "\n",
    "''' "
   ]
  },
  {
   "cell_type": "code",
   "execution_count": 105,
   "metadata": {},
   "outputs": [
    {
     "data": {
      "text/html": [
       "<div>\n",
       "<style scoped>\n",
       "    .dataframe tbody tr th:only-of-type {\n",
       "        vertical-align: middle;\n",
       "    }\n",
       "\n",
       "    .dataframe tbody tr th {\n",
       "        vertical-align: top;\n",
       "    }\n",
       "\n",
       "    .dataframe thead th {\n",
       "        text-align: right;\n",
       "    }\n",
       "</style>\n",
       "<table border=\"1\" class=\"dataframe\">\n",
       "  <thead>\n",
       "    <tr style=\"text-align: right;\">\n",
       "      <th></th>\n",
       "      <th>School_Name</th>\n",
       "      <th>Safety_Rating</th>\n",
       "      <th>Family_Rating</th>\n",
       "      <th>Environment_Rating</th>\n",
       "      <th>Instruction_Rating</th>\n",
       "      <th>Leaders_Rating</th>\n",
       "      <th>Teachers_Rating</th>\n",
       "    </tr>\n",
       "  </thead>\n",
       "  <tbody>\n",
       "    <tr>\n",
       "      <th>0</th>\n",
       "      <td>Abraham Lincoln Elementary School</td>\n",
       "      <td>Very Strong</td>\n",
       "      <td>Very Strong</td>\n",
       "      <td>Strong</td>\n",
       "      <td>Strong</td>\n",
       "      <td>Weak</td>\n",
       "      <td>Strong</td>\n",
       "    </tr>\n",
       "    <tr>\n",
       "      <th>1</th>\n",
       "      <td>Adam Clayton Powell Paideia Community Academy ...</td>\n",
       "      <td>Average</td>\n",
       "      <td>Strong</td>\n",
       "      <td>Strong</td>\n",
       "      <td>Very Strong</td>\n",
       "      <td>Weak</td>\n",
       "      <td>Strong</td>\n",
       "    </tr>\n",
       "    <tr>\n",
       "      <th>2</th>\n",
       "      <td>Adlai E Stevenson Elementary School</td>\n",
       "      <td>Strong</td>\n",
       "      <td>NDA</td>\n",
       "      <td>Average</td>\n",
       "      <td>Weak</td>\n",
       "      <td>Weak</td>\n",
       "      <td>NDA</td>\n",
       "    </tr>\n",
       "    <tr>\n",
       "      <th>3</th>\n",
       "      <td>Agustin Lara Elementary Academy</td>\n",
       "      <td>Average</td>\n",
       "      <td>Average</td>\n",
       "      <td>Average</td>\n",
       "      <td>Weak</td>\n",
       "      <td>Weak</td>\n",
       "      <td>Average</td>\n",
       "    </tr>\n",
       "    <tr>\n",
       "      <th>4</th>\n",
       "      <td>Air Force Academy High School</td>\n",
       "      <td>Average</td>\n",
       "      <td>Strong</td>\n",
       "      <td>Strong</td>\n",
       "      <td>Average</td>\n",
       "      <td>Weak</td>\n",
       "      <td>Average</td>\n",
       "    </tr>\n",
       "    <tr>\n",
       "      <th>...</th>\n",
       "      <td>...</td>\n",
       "      <td>...</td>\n",
       "      <td>...</td>\n",
       "      <td>...</td>\n",
       "      <td>...</td>\n",
       "      <td>...</td>\n",
       "      <td>...</td>\n",
       "    </tr>\n",
       "    <tr>\n",
       "      <th>561</th>\n",
       "      <td>William T Sherman Elementary School</td>\n",
       "      <td>Weak</td>\n",
       "      <td>NDA</td>\n",
       "      <td>Average</td>\n",
       "      <td>Average</td>\n",
       "      <td>Weak</td>\n",
       "      <td>NDA</td>\n",
       "    </tr>\n",
       "    <tr>\n",
       "      <th>562</th>\n",
       "      <td>William W Carter Elementary School</td>\n",
       "      <td>Very Weak</td>\n",
       "      <td>Average</td>\n",
       "      <td>Weak</td>\n",
       "      <td>Weak</td>\n",
       "      <td>Weak</td>\n",
       "      <td>Strong</td>\n",
       "    </tr>\n",
       "    <tr>\n",
       "      <th>563</th>\n",
       "      <td>Wolfgang A Mozart Elementary School</td>\n",
       "      <td>Average</td>\n",
       "      <td>NDA</td>\n",
       "      <td>Average</td>\n",
       "      <td>Weak</td>\n",
       "      <td>Weak</td>\n",
       "      <td>NDA</td>\n",
       "    </tr>\n",
       "    <tr>\n",
       "      <th>564</th>\n",
       "      <td>Woodlawn Community Elementary School</td>\n",
       "      <td>Strong</td>\n",
       "      <td>NDA</td>\n",
       "      <td>Very Strong</td>\n",
       "      <td>Strong</td>\n",
       "      <td>Weak</td>\n",
       "      <td>NDA</td>\n",
       "    </tr>\n",
       "    <tr>\n",
       "      <th>565</th>\n",
       "      <td>World Language Academy High School</td>\n",
       "      <td>Average</td>\n",
       "      <td>Weak</td>\n",
       "      <td>Average</td>\n",
       "      <td>Average</td>\n",
       "      <td>Weak</td>\n",
       "      <td>Average</td>\n",
       "    </tr>\n",
       "  </tbody>\n",
       "</table>\n",
       "<p>566 rows × 7 columns</p>\n",
       "</div>"
      ],
      "text/plain": [
       "                                           School_Name Safety_Rating  \\\n",
       "0                    Abraham Lincoln Elementary School   Very Strong   \n",
       "1    Adam Clayton Powell Paideia Community Academy ...       Average   \n",
       "2                  Adlai E Stevenson Elementary School        Strong   \n",
       "3                      Agustin Lara Elementary Academy       Average   \n",
       "4                        Air Force Academy High School       Average   \n",
       "..                                                 ...           ...   \n",
       "561                William T Sherman Elementary School          Weak   \n",
       "562                 William W Carter Elementary School     Very Weak   \n",
       "563                Wolfgang A Mozart Elementary School       Average   \n",
       "564               Woodlawn Community Elementary School        Strong   \n",
       "565                 World Language Academy High School       Average   \n",
       "\n",
       "    Family_Rating Environment_Rating Instruction_Rating Leaders_Rating  \\\n",
       "0     Very Strong             Strong             Strong           Weak   \n",
       "1          Strong             Strong        Very Strong           Weak   \n",
       "2             NDA            Average               Weak           Weak   \n",
       "3         Average            Average               Weak           Weak   \n",
       "4          Strong             Strong            Average           Weak   \n",
       "..            ...                ...                ...            ...   \n",
       "561           NDA            Average            Average           Weak   \n",
       "562       Average               Weak               Weak           Weak   \n",
       "563           NDA            Average               Weak           Weak   \n",
       "564           NDA        Very Strong             Strong           Weak   \n",
       "565          Weak            Average            Average           Weak   \n",
       "\n",
       "    Teachers_Rating  \n",
       "0            Strong  \n",
       "1            Strong  \n",
       "2               NDA  \n",
       "3           Average  \n",
       "4           Average  \n",
       "..              ...  \n",
       "561             NDA  \n",
       "562          Strong  \n",
       "563             NDA  \n",
       "564             NDA  \n",
       "565         Average  \n",
       "\n",
       "[566 rows x 7 columns]"
      ]
     },
     "execution_count": 105,
     "metadata": {},
     "output_type": "execute_result"
    }
   ],
   "source": [
    "conn = get_db_connection(db)\n",
    "cursor = conn.cursor()\n",
    "cursor.execute(view)\n",
    "q_view = '''SELECT School_Name,Safety_Rating, Family_Rating, Environment_Rating, Instruction_Rating, Leaders_Rating , Teachers_Rating FROM P_SCHOOL_VIEW;'''\n",
    "cursor.execute(q_view)\n",
    "rslt2_1 = cursor.fetchall()\n",
    "# first_row = rslt2_1[0]\n",
    "rslt2_1_df = pd.DataFrame(rslt2_1, columns=['School_Name','Safety_Rating', 'Family_Rating', 'Environment_Rating', 'Instruction_Rating', 'Leaders_Rating' , 'Teachers_Rating' ])\n",
    "rslt2_1_df"
   ]
  },
  {
   "cell_type": "markdown",
   "metadata": {},
   "source": [
    "Write and execute a SQL statement that returns just the school name and leaders rating from the view.\n"
   ]
  },
  {
   "cell_type": "code",
   "execution_count": 107,
   "metadata": {},
   "outputs": [
    {
     "data": {
      "text/html": [
       "<div>\n",
       "<style scoped>\n",
       "    .dataframe tbody tr th:only-of-type {\n",
       "        vertical-align: middle;\n",
       "    }\n",
       "\n",
       "    .dataframe tbody tr th {\n",
       "        vertical-align: top;\n",
       "    }\n",
       "\n",
       "    .dataframe thead th {\n",
       "        text-align: right;\n",
       "    }\n",
       "</style>\n",
       "<table border=\"1\" class=\"dataframe\">\n",
       "  <thead>\n",
       "    <tr style=\"text-align: right;\">\n",
       "      <th></th>\n",
       "      <th>School_Name</th>\n",
       "      <th>Leaders_Rating</th>\n",
       "    </tr>\n",
       "  </thead>\n",
       "  <tbody>\n",
       "    <tr>\n",
       "      <th>0</th>\n",
       "      <td>Abraham Lincoln Elementary School</td>\n",
       "      <td>Weak</td>\n",
       "    </tr>\n",
       "    <tr>\n",
       "      <th>1</th>\n",
       "      <td>Adam Clayton Powell Paideia Community Academy ...</td>\n",
       "      <td>Weak</td>\n",
       "    </tr>\n",
       "    <tr>\n",
       "      <th>2</th>\n",
       "      <td>Adlai E Stevenson Elementary School</td>\n",
       "      <td>Weak</td>\n",
       "    </tr>\n",
       "    <tr>\n",
       "      <th>3</th>\n",
       "      <td>Agustin Lara Elementary Academy</td>\n",
       "      <td>Weak</td>\n",
       "    </tr>\n",
       "    <tr>\n",
       "      <th>4</th>\n",
       "      <td>Air Force Academy High School</td>\n",
       "      <td>Weak</td>\n",
       "    </tr>\n",
       "    <tr>\n",
       "      <th>...</th>\n",
       "      <td>...</td>\n",
       "      <td>...</td>\n",
       "    </tr>\n",
       "    <tr>\n",
       "      <th>561</th>\n",
       "      <td>William T Sherman Elementary School</td>\n",
       "      <td>Weak</td>\n",
       "    </tr>\n",
       "    <tr>\n",
       "      <th>562</th>\n",
       "      <td>William W Carter Elementary School</td>\n",
       "      <td>Weak</td>\n",
       "    </tr>\n",
       "    <tr>\n",
       "      <th>563</th>\n",
       "      <td>Wolfgang A Mozart Elementary School</td>\n",
       "      <td>Weak</td>\n",
       "    </tr>\n",
       "    <tr>\n",
       "      <th>564</th>\n",
       "      <td>Woodlawn Community Elementary School</td>\n",
       "      <td>Weak</td>\n",
       "    </tr>\n",
       "    <tr>\n",
       "      <th>565</th>\n",
       "      <td>World Language Academy High School</td>\n",
       "      <td>Weak</td>\n",
       "    </tr>\n",
       "  </tbody>\n",
       "</table>\n",
       "<p>566 rows × 2 columns</p>\n",
       "</div>"
      ],
      "text/plain": [
       "                                           School_Name Leaders_Rating\n",
       "0                    Abraham Lincoln Elementary School           Weak\n",
       "1    Adam Clayton Powell Paideia Community Academy ...           Weak\n",
       "2                  Adlai E Stevenson Elementary School           Weak\n",
       "3                      Agustin Lara Elementary Academy           Weak\n",
       "4                        Air Force Academy High School           Weak\n",
       "..                                                 ...            ...\n",
       "561                William T Sherman Elementary School           Weak\n",
       "562                 William W Carter Elementary School           Weak\n",
       "563                Wolfgang A Mozart Elementary School           Weak\n",
       "564               Woodlawn Community Elementary School           Weak\n",
       "565                 World Language Academy High School           Weak\n",
       "\n",
       "[566 rows x 2 columns]"
      ]
     },
     "execution_count": 107,
     "metadata": {},
     "output_type": "execute_result"
    }
   ],
   "source": [
    "cursor.execute(view)\n",
    "q_view = '''SELECT School_Name, Leaders_Rating  FROM P_SCHOOL_VIEW;'''\n",
    "cursor.execute(q_view)\n",
    "rslt2_2 = cursor.fetchall()\n",
    "# first_row = rslt2_1[0]\n",
    "rslt2_2_df = pd.DataFrame(rslt2_2, columns=['School_Name','Leaders_Rating' ])\n",
    "rslt2_2_df"
   ]
  },
  {
   "cell_type": "code",
   "execution_count": 108,
   "metadata": {},
   "outputs": [],
   "source": [
    "cursor.close()\n",
    "conn.close()"
   ]
  },
  {
   "cell_type": "markdown",
   "metadata": {},
   "source": [
    "## Ex 3: Creating a Stored Procedure\n"
   ]
  },
  {
   "cell_type": "markdown",
   "metadata": {},
   "source": [
    "The icon fields are calculated based on the value in the corresponding score field. You need to make sure that when a score field is updated, the icon field is updated too. To do this, you will write a stored procedure that receives the school id and a leaders score as input parameters, calculates the icon setting and updates the fields appropriately.\n",
    "\n"
   ]
  },
  {
   "cell_type": "markdown",
   "metadata": {},
   "source": [
    "### Question 1\n",
    "Write the structure of a query to create or replace a stored procedure called UPDATE_LEADERS_SCORE that takes a in_School_ID parameter as an integer and a in_Leader_Score parameter as an integer.\n",
    "Take a screenshot showing the SQL query.\n",
    "\n"
   ]
  },
  {
   "cell_type": "code",
   "execution_count": null,
   "metadata": {},
   "outputs": [],
   "source": [
    "conn = get_db_connection(db)\n",
    "cursor = conn.cursor()\n"
   ]
  },
  {
   "cell_type": "code",
   "execution_count": null,
   "metadata": {},
   "outputs": [],
   "source": [
    "sp_3_1 = '''\n",
    "CREATE PROCEDURE UPDATE_LEADER_SCORE(IN in_School_ID INTEGER, IN in_Leader_Score INTEGER)\n",
    "BEGIN\n",
    "    UPDATE chicago_public_schools\n",
    "    SET Leaders_Score = in_Leader_Score\n",
    "    WHERE School_ID = in_School_ID\n",
    "END;\n",
    "'''\n"
   ]
  },
  {
   "cell_type": "markdown",
   "metadata": {},
   "source": [
    "### Question 2\n",
    "Inside your stored procedure, write a SQL statement to update the Leaders_Score field in the CHICAGO_PUBLIC_SCHOOLS table for the school identified by in_School_ID to the value in the in_Leader_Score parameter.\n",
    "Take a screenshot showing the SQL query.\n",
    "\n"
   ]
  },
  {
   "cell_type": "code",
   "execution_count": null,
   "metadata": {},
   "outputs": [],
   "source": []
  },
  {
   "cell_type": "markdown",
   "metadata": {},
   "source": [
    "### Question 3\n",
    "Inside your stored procedure, write a SQL IF statement to update the Leaders_Icon field in the CHICAGO_PUBLIC_SCHOOLS table for the school identified by in_School_ID using the following information.\n",
    "|Score lower limit|\tScore upper limit|\tIcon|\n",
    "|----|----|----|\n",
    "|80\t|99|\tVery strong|\n",
    "|60\t|79\t|Strong|\n",
    "|40|\t59|\tAverage|\n",
    "|20\t|39\t|Weak|\n",
    "|0|\t19|\tVery weak|\n",
    "\n"
   ]
  },
  {
   "cell_type": "markdown",
   "metadata": {},
   "source": [
    "### Question 4\n",
    "Run your code to create the stored procedure.\n",
    "\n",
    "Write a query to call the stored procedure, passing a valid school ID and a leader score of 50, to check that the procedure works as expected.\n"
   ]
  },
  {
   "cell_type": "code",
   "execution_count": null,
   "metadata": {},
   "outputs": [],
   "source": []
  },
  {
   "cell_type": "markdown",
   "metadata": {},
   "source": [
    "## Ex 4: Using Transactions\n"
   ]
  },
  {
   "cell_type": "markdown",
   "metadata": {},
   "source": [
    "You realise that if someone calls your code with a score outside of the allowed range (0-99), then the score will be updated with the invalid data and the icon will remain at its previous value. There are various ways to avoid this problem, one of which is using a transaction.\n",
    "\n"
   ]
  },
  {
   "cell_type": "markdown",
   "metadata": {},
   "source": [
    "### Question 1\n",
    "Update your stored procedure definition. Add a generic ELSE clause to the IF statement that rolls back the current work if the score did not fit any of the preceding categories.\n"
   ]
  },
  {
   "cell_type": "code",
   "execution_count": null,
   "metadata": {},
   "outputs": [],
   "source": []
  },
  {
   "cell_type": "markdown",
   "metadata": {},
   "source": [
    "### Question 2\n",
    "Update your stored procedure definition again. Add a statement to commit the current unit of work at the end of the procedure.\n",
    "\n",
    "Run your code to replace the stored procedure.\n",
    "\n"
   ]
  },
  {
   "cell_type": "code",
   "execution_count": null,
   "metadata": {},
   "outputs": [],
   "source": []
  },
  {
   "cell_type": "markdown",
   "metadata": {},
   "source": [
    "Write and run one query to check that the updated stored procedure works as expected when you use a valid score of 38.\n",
    "\n"
   ]
  },
  {
   "cell_type": "code",
   "execution_count": null,
   "metadata": {},
   "outputs": [],
   "source": []
  },
  {
   "cell_type": "markdown",
   "metadata": {},
   "source": [
    "Write and run another query to check that the updated stored procedure works as expected when you use an invalid score of 101.\n",
    "\n"
   ]
  },
  {
   "cell_type": "code",
   "execution_count": null,
   "metadata": {},
   "outputs": [],
   "source": []
  }
 ],
 "metadata": {
  "kernelspec": {
   "display_name": "ibm_ds_env",
   "language": "python",
   "name": "python3"
  },
  "language_info": {
   "codemirror_mode": {
    "name": "ipython",
    "version": 3
   },
   "file_extension": ".py",
   "mimetype": "text/x-python",
   "name": "python",
   "nbconvert_exporter": "python",
   "pygments_lexer": "ipython3",
   "version": "3.10.14"
  }
 },
 "nbformat": 4,
 "nbformat_minor": 2
}
