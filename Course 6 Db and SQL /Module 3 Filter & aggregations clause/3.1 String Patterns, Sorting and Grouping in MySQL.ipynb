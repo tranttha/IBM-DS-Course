{
 "cells": [
  {
   "cell_type": "markdown",
   "metadata": {},
   "source": [
    "# String pattern, sorting and groupings"
   ]
  },
  {
   "cell_type": "markdown",
   "metadata": {},
   "source": [
    "- Load the database: Using the skills acquired in the previous modules, you should first create the database in MySQL. Follow the steps below:\n",
    "\n",
    "- Open the mysql dbin Cloud IDE.\n",
    "\n",
    "- Create a blank database named ‘HR’. Use the script shared in the link below to create the required tables.\n",
    "\n",
    "- Download the files in the links below to your local machine:\n",
    "\n",
    "1. Departments.csv \n",
    "\n",
    "- - '/workspaces/IBM-DS-Course/Course 6 Db and SQL /Module 3 Filter & aggregations clause/3.1 .sql & .csv/Departments.csv'\n",
    "2. Jobs.csv\n",
    "\n",
    "- - '/workspaces/IBM-DS-Course/Course 6 Db and SQL /Module 3 Filter & aggregations clause/3.1 .sql & .csv/Jobs.csv'\n",
    "3. JobsHistory.csv\n",
    "\n",
    "- - '/workspaces/IBM-DS-Course/Course 6 Db and SQL /Module 3 Filter & aggregations clause/3.1 .sql & .csv/JobsHistory.csv'\n",
    "4. Locations.csv\n",
    "\n",
    "- - '/workspaces/IBM-DS-Course/Course 6 Db and SQL /Module 3 Filter & aggregations clause/3.1 .sql & .csv/Locations.csv'\n",
    "5. Employees.csv\n",
    "\n",
    "- - '/workspaces/IBM-DS-Course/Course 6 Db and SQL /Module 3 Filter & aggregations clause/3.1 .sql & .csv/Employee.csv'\n",
    "\n"
   ]
  },
  {
   "cell_type": "code",
   "execution_count": 2,
   "metadata": {},
   "outputs": [],
   "source": [
    "import mysql.connector as sql \n",
    "import pandas as pd \n",
    "from sqlalchemy import create_engine\n",
    "\n",
    "import os \n",
    "from dotenv import load_dotenv\n"
   ]
  },
  {
   "cell_type": "code",
   "execution_count": 3,
   "metadata": {},
   "outputs": [],
   "source": [
    "load_dotenv('/workspaces/IBM-DS-Course/.env')\n",
    "user = os.getenv('USER')\n",
    "password = os.getenv('PASSWORD')\n",
    "host = 'localhost'\n",
    "port = 3306\n",
    "db = 'HR'"
   ]
  },
  {
   "cell_type": "code",
   "execution_count": 4,
   "metadata": {},
   "outputs": [],
   "source": [
    "conn = sql.connect(\n",
    "    host=host,\n",
    "    user=user,\n",
    "    password=password,\n",
    "    port=port\n",
    ")"
   ]
  },
  {
   "cell_type": "code",
   "execution_count": 5,
   "metadata": {},
   "outputs": [],
   "source": [
    "cursor = conn.cursor()\n",
    "create_db = f'CREATE DATABASE IF NOT EXISTS {db}'\n",
    "cursor.execute(create_db)"
   ]
  },
  {
   "cell_type": "code",
   "execution_count": 6,
   "metadata": {},
   "outputs": [],
   "source": [
    "sql_file_path = '/workspaces/IBM-DS-Course/Course 6 Db and SQL /Module 3 Filter & aggregations clause/3.1 .sql & .csv/Script_Create_Tables.sql'\n",
    "with open(sql_file_path, 'r') as sql_file:\n",
    "    sql_script = sql_file.read()"
   ]
  },
  {
   "cell_type": "code",
   "execution_count": 7,
   "metadata": {},
   "outputs": [
    {
     "name": "stdout",
     "output_type": "stream",
     "text": [
      "Sucess\n",
      "Sucess\n",
      "Sucess\n",
      "Sucess\n",
      "Sucess\n",
      "Sucess\n",
      "Sucess\n",
      "Sucess\n",
      "Sucess\n",
      "Sucess\n",
      "Sucess\n"
     ]
    }
   ],
   "source": [
    "use = f'USE {db}'\n",
    "cursor.execute(use)\n",
    "try:\n",
    "    for statement in sql_script.split(';'):\n",
    "        if statement.strip():\n",
    "            cursor.execute(statement)\n",
    "        conn.commit()\n",
    "        print(\"Sucess\")\n",
    "except Exception as e:\n",
    "    print(f\"Failed because {e}\")"
   ]
  },
  {
   "cell_type": "code",
   "execution_count": 8,
   "metadata": {},
   "outputs": [
    {
     "data": {
      "text/plain": [
       "['DEPARTMENTS', 'EMPLOYEES', 'JOBS', 'JOB_HISTORY', 'LOCATIONS']"
      ]
     },
     "execution_count": 8,
     "metadata": {},
     "output_type": "execute_result"
    }
   ],
   "source": [
    "cursor.execute(\"SHOW TABLES;\")\n",
    "output = cursor.fetchall()\n",
    "\n",
    "\n",
    "table_names = [table[0] for table in output]\n",
    "table_names"
   ]
  },
  {
   "cell_type": "code",
   "execution_count": 9,
   "metadata": {},
   "outputs": [],
   "source": [
    "table_dict = {}\n",
    "for table in table_names:\n",
    "    table_query = f'SELECT COLUMN_NAME FROM INFORMATION_SCHEMA.COLUMNS WHERE TABLE_NAME = \"{table}\" AND TABLE_SCHEMA = \"{db}\" ORDER BY ORDINAL_POSITION;'\n",
    "    # print(f\"Executing query for table {table}: {table_query}\")  # Debugging statement\n",
    "\n",
    "    cursor.execute(table_query)\n",
    "    cols = cursor.fetchall()\n",
    "    # print(f\"Columns fetched for table {table}: {cols}\")  # Debugging statement\n",
    "\n",
    "    table_dict[table] = [col[0] for col in cols]"
   ]
  },
  {
   "cell_type": "code",
   "execution_count": 10,
   "metadata": {},
   "outputs": [
    {
     "data": {
      "text/plain": [
       "{'DEPARTMENTS': ['DEPT_ID_DEP', 'DEP_NAME', 'MANAGER_ID', 'LOC_ID'],\n",
       " 'EMPLOYEES': ['EMP_ID',\n",
       "  'F_NAME',\n",
       "  'L_NAME',\n",
       "  'SSN',\n",
       "  'B_DATE',\n",
       "  'SEX',\n",
       "  'ADDRESS',\n",
       "  'JOB_ID',\n",
       "  'SALARY',\n",
       "  'MANAGER_ID',\n",
       "  'DEP_ID'],\n",
       " 'JOBS': ['JOB_IDENT', 'JOB_TITLE', 'MIN_SALARY', 'MAX_SALARY'],\n",
       " 'JOB_HISTORY': ['EMPL_ID', 'START_DATE', 'JOBS_ID', 'DEPT_ID'],\n",
       " 'LOCATIONS': ['LOCT_ID', 'DEP_ID_LOC']}"
      ]
     },
     "execution_count": 10,
     "metadata": {},
     "output_type": "execute_result"
    }
   ],
   "source": [
    "table_dict"
   ]
  },
  {
   "cell_type": "markdown",
   "metadata": {},
   "source": [
    "{'DEPARTMENTS': ['DEPT_ID_DEP', 'DEP_NAME', 'MANAGER_ID', 'LOC_ID'],\n",
    "\n",
    " 'EMPLOYEES': ['EMP_ID',\n",
    "  'F_NAME',\n",
    "  'L_NAME',\n",
    "  'SSN',\n",
    "  'B_DATE',\n",
    "  'SEX',\n",
    "  'ADDRESS',\n",
    "  'JOB_ID',\n",
    "  'SALARY',\n",
    "  'MANAGER_ID',\n",
    "  'DEP_ID'],\n",
    "\n",
    " 'JOBS': ['JOB_IDENT', 'JOB_TITLE', 'MIN_SALARY', 'MAX_SALARY'],\n",
    "\n",
    " 'JOB_HISTORY': ['EMPL_ID', 'START_DATE', 'JOBS_ID', 'DEPT_ID'],\n",
    " \n",
    " 'LOCATIONS': ['LOCT_ID', 'DEP_ID_LOC']}"
   ]
  },
  {
   "cell_type": "code",
   "execution_count": 11,
   "metadata": {},
   "outputs": [],
   "source": [
    "DPMT_PATH = '/workspaces/IBM-DS-Course/Course 6 Db and SQL /Module 3 Filter & aggregations clause/3.1 .sql & .csv/Departments.csv'\n",
    "EMP_PATH = '/workspaces/IBM-DS-Course/Course 6 Db and SQL /Module 3 Filter & aggregations clause/3.1 .sql & .csv/Employees.csv'\n",
    "JOBS_PATH = '/workspaces/IBM-DS-Course/Course 6 Db and SQL /Module 3 Filter & aggregations clause/3.1 .sql & .csv/Jobs.csv'\n",
    "JOBS_HSTR_PATH = '/workspaces/IBM-DS-Course/Course 6 Db and SQL /Module 3 Filter & aggregations clause/3.1 .sql & .csv/JobsHistory.csv'\n",
    "LOCAL_PATH = '/workspaces/IBM-DS-Course/Course 6 Db and SQL /Module 3 Filter & aggregations clause/3.1 .sql & .csv/Locations.csv'\n",
    "\n"
   ]
  },
  {
   "cell_type": "code",
   "execution_count": 12,
   "metadata": {},
   "outputs": [],
   "source": [
    "DEPARTMENTS_df = pd.read_csv(DPMT_PATH, header=None)\n",
    "EMPLOYEES_df = pd.read_csv(EMP_PATH, header=None)\n",
    "JOBS_df =  pd.read_csv(JOBS_PATH, header=None)\n",
    "JOB_HISTORY_df =  pd.read_csv(JOBS_HSTR_PATH, header=None)\n",
    "LOCATIONS_df =  pd.read_csv(LOCAL_PATH, header=None)"
   ]
  },
  {
   "cell_type": "code",
   "execution_count": 13,
   "metadata": {},
   "outputs": [
    {
     "name": "stdout",
     "output_type": "stream",
     "text": [
      "Index(['DEPT_ID_DEP', 'DEP_NAME', 'MANAGER_ID', 'LOC_ID'], dtype='object') (3, 4)\n",
      "Index(['EMP_ID', 'F_NAME', 'L_NAME', 'SSN', 'B_DATE', 'SEX', 'ADDRESS',\n",
      "       'JOB_ID', 'SALARY', 'MANAGER_ID', 'DEP_ID'],\n",
      "      dtype='object') (10, 11)\n",
      "Index(['JOB_IDENT', 'JOB_TITLE', 'MIN_SALARY', 'MAX_SALARY'], dtype='object') (10, 4)\n",
      "Index(['EMPL_ID', 'START_DATE', 'JOBS_ID', 'DEPT_ID'], dtype='object') (10, 4)\n",
      "Index(['LOCT_ID', 'DEP_ID_LOC'], dtype='object') (3, 2)\n"
     ]
    }
   ],
   "source": [
    "\n",
    "df_dict = {\n",
    "    'DEPARTMENTS': DEPARTMENTS_df,\n",
    "    'EMPLOYEES': EMPLOYEES_df,\n",
    "    'JOBS': JOBS_df,\n",
    "    'JOB_HISTORY': JOB_HISTORY_df,\n",
    "    'LOCATIONS': LOCATIONS_df\n",
    "}\n",
    "for table_name, columns in table_dict.items():\n",
    "    # df_dict(f'{item}_df')  \n",
    "    if table_name in df_dict:\n",
    "        df_dict[table_name].columns = columns\n",
    "        \n",
    "    print(df_dict[table_name].columns, df_dict[table_name].shape)\n"
   ]
  },
  {
   "cell_type": "code",
   "execution_count": 14,
   "metadata": {},
   "outputs": [],
   "source": [
    "connection_string = f'mysql+mysqlconnector://{user}:{password}@{host}/{db}'\n",
    "engine = create_engine(connection_string)"
   ]
  },
  {
   "cell_type": "code",
   "execution_count": 15,
   "metadata": {},
   "outputs": [
    {
     "name": "stdout",
     "output_type": "stream",
     "text": [
      "Table DEPARTMENTS uploaded successfully.\n",
      "Table EMPLOYEES uploaded successfully.\n",
      "Table JOBS uploaded successfully.\n",
      "Table JOB_HISTORY uploaded successfully.\n",
      "Table LOCATIONS uploaded successfully.\n"
     ]
    }
   ],
   "source": [
    "for table_name, df in df_dict.items():\n",
    "    df.to_sql(table_name, con=engine, if_exists='replace', index=False)\n",
    "    print(f\"Table {table_name} uploaded successfully.\")\n",
    "    \n",
    "conn.commit()"
   ]
  },
  {
   "cell_type": "markdown",
   "metadata": {},
   "source": [
    "## String Patterns\n"
   ]
  },
  {
   "cell_type": "markdown",
   "metadata": {},
   "source": [
    "You can use string patterns to filter the response of a query. Let's look at the following example:\n"
   ]
  },
  {
   "cell_type": "markdown",
   "metadata": {},
   "source": [
    "Say you need to retrieve the first names F_NAME and last names L_NAME of all employees who live in Elgin, IL. \n",
    "\n",
    "You can use the LIKE operator to retrieve strings that contain the said text. The code will look as shown below.\n"
   ]
  },
  {
   "cell_type": "code",
   "execution_count": 16,
   "metadata": {},
   "outputs": [],
   "source": [
    "use = f'USE {db}'\n",
    "cursor.execute(use)"
   ]
  },
  {
   "cell_type": "code",
   "execution_count": 17,
   "metadata": {},
   "outputs": [
    {
     "name": "stdout",
     "output_type": "stream",
     "text": [
      "('980 Berry ln, Elgin,IL',)\n",
      "('111 Green Pl, Elgin,IL',)\n",
      "('111 Britany Springs,Elgin,IL',)\n"
     ]
    }
   ],
   "source": [
    "cursor.execute(\"SELECT ADDRESS FROM EMPLOYEES WHERE ADDRESS LIKE'%Elgin,IL%';\")\n",
    "rows = cursor.fetchall()\n",
    "for row in rows:\n",
    "    print(row)"
   ]
  },
  {
   "cell_type": "markdown",
   "metadata": {},
   "source": [
    "Retrieve all employee records in department 5 where salary is between 60000 and 70000. The query that will be used is"
   ]
  },
  {
   "cell_type": "code",
   "execution_count": 18,
   "metadata": {},
   "outputs": [
    {
     "name": "stdout",
     "output_type": "stream",
     "text": [
      "('E1004', 'Santosh', 'Kumar', 123459, '1985-07-20', 'M', '511 Aurora Av, Aurora,IL', 400, 60000, 30002, 5)\n",
      "('E1010', 'Ann', 'Jacob', 123415, '1982-03-30', 'F', '111 Britany Springs,Elgin,IL', 220, 70000, 30002, 5)\n"
     ]
    }
   ],
   "source": [
    "cursor.execute(\"SELECT * FROM EMPLOYEES WHERE (SALARY BETWEEN 60000 AND 70000) AND DEP_ID = 5;\")\n",
    "output = cursor.fetchall()\n",
    "for row in output:\n",
    "    print(row)"
   ]
  },
  {
   "cell_type": "markdown",
   "metadata": {},
   "source": [
    "## Sorting\n"
   ]
  },
  {
   "cell_type": "markdown",
   "metadata": {},
   "source": [
    "Retrieve a list of employees ordered by department ID."
   ]
  },
  {
   "cell_type": "code",
   "execution_count": 19,
   "metadata": {},
   "outputs": [
    {
     "name": "stdout",
     "output_type": "stream",
     "text": [
      "('John', 'Thomas', 2)\n",
      "('Ahmed', 'Hussain', 2)\n",
      "('Nancy', 'Allen', 2)\n",
      "('Alice', 'James', 5)\n",
      "('Steve', 'Wells', 5)\n",
      "('Santosh', 'Kumar', 5)\n",
      "('Ann', 'Jacob', 5)\n",
      "('Mary', 'Thomas', 7)\n",
      "('Bharath', 'Gupta', 7)\n",
      "('Andrea', 'Jones', 7)\n"
     ]
    }
   ],
   "source": [
    "cursor.execute(\"SELECT F_NAME, L_NAME, DEP_ID  FROM EMPLOYEES ORDER BY DEP_ID;\")\n",
    "output = cursor.fetchall()\n",
    "for row in output:\n",
    "    print(row)"
   ]
  },
  {
   "cell_type": "markdown",
   "metadata": {},
   "source": [
    "output of the same query in descending order of department ID, and within each deaprtment, the records should be ordered in descending alphabetical order by last name. For descending order, you can make use of the DESC clause"
   ]
  },
  {
   "cell_type": "code",
   "execution_count": 20,
   "metadata": {},
   "outputs": [
    {
     "name": "stdout",
     "output_type": "stream",
     "text": [
      "('Mary', 'Thomas', 7)\n",
      "('Andrea', 'Jones', 7)\n",
      "('Bharath', 'Gupta', 7)\n",
      "('Steve', 'Wells', 5)\n",
      "('Santosh', 'Kumar', 5)\n",
      "('Alice', 'James', 5)\n",
      "('Ann', 'Jacob', 5)\n",
      "('John', 'Thomas', 2)\n",
      "('Ahmed', 'Hussain', 2)\n",
      "('Nancy', 'Allen', 2)\n"
     ]
    }
   ],
   "source": [
    "cursor.execute(\"SELECT F_NAME, L_NAME, DEP_ID  FROM EMPLOYEES ORDER BY DEP_ID DESC, L_NAME DESC;\")\n",
    "output = cursor.fetchall()\n",
    "for row in output:\n",
    "    print(row)"
   ]
  },
  {
   "cell_type": "markdown",
   "metadata": {},
   "source": [
    "## Grouping"
   ]
  },
  {
   "cell_type": "markdown",
   "metadata": {},
   "source": [
    "retrieve the number of employees in the department."
   ]
  },
  {
   "cell_type": "code",
   "execution_count": 21,
   "metadata": {},
   "outputs": [
    {
     "name": "stdout",
     "output_type": "stream",
     "text": [
      "(2, 3)\n",
      "(5, 4)\n",
      "(7, 3)\n"
     ]
    }
   ],
   "source": [
    "cursor.execute(\"SELECT DEP_ID, COUNT(*) FROM EMPLOYEES GROUP BY DEP_ID;\")\n",
    "output = cursor.fetchall()\n",
    "for row in output:\n",
    "    print(row)"
   ]
  },
  {
   "cell_type": "markdown",
   "metadata": {},
   "source": [
    "retrieve the number of employees in the department and the average employee salary in the department."
   ]
  },
  {
   "cell_type": "code",
   "execution_count": 22,
   "metadata": {},
   "outputs": [
    {
     "name": "stdout",
     "output_type": "stream",
     "text": [
      "(2, 3, Decimal('86666.6667'))\n",
      "(5, 4, Decimal('65000.0000'))\n",
      "(7, 3, Decimal('66666.6667'))\n"
     ]
    }
   ],
   "source": [
    "cursor.execute(\"SELECT DEP_ID, COUNT(*), AVG(SALARY) FROM EMPLOYEES GROUP BY DEP_ID;\")\n",
    "output = cursor.fetchall()\n",
    "for row in output:\n",
    "    print(row)"
   ]
  },
  {
   "cell_type": "markdown",
   "metadata": {},
   "source": [
    "Label the computed columns in the result set of the last problem as NUM_EMPLOYEES and AVG_SALARY."
   ]
  },
  {
   "cell_type": "code",
   "execution_count": 23,
   "metadata": {},
   "outputs": [
    {
     "name": "stdout",
     "output_type": "stream",
     "text": [
      "(2, 3, Decimal('86666.6667'))\n",
      "(5, 4, Decimal('65000.0000'))\n",
      "(7, 3, Decimal('66666.6667'))\n"
     ]
    }
   ],
   "source": [
    "q1 = f'SELECT DEP_ID, COUNT(*) AS \"NUM_EMPLOYEES\", AVG(SALARY) AS \"AVG_SALARY\" FROM EMPLOYEES GROUP BY DEP_ID;'\n",
    "cursor.execute(q1)\n",
    "output = cursor.fetchall()\n",
    "for row in output:\n",
    "    print(row)"
   ]
  },
  {
   "cell_type": "markdown",
   "metadata": {},
   "source": [
    "sort the result of the previous query by average salary. "
   ]
  },
  {
   "cell_type": "code",
   "execution_count": 24,
   "metadata": {},
   "outputs": [
    {
     "name": "stdout",
     "output_type": "stream",
     "text": [
      "(5, 4, Decimal('65000.0000'))\n",
      "(7, 3, Decimal('66666.6667'))\n",
      "(2, 3, Decimal('86666.6667'))\n"
     ]
    }
   ],
   "source": [
    "q2 = f'SELECT DEP_ID, COUNT(*) AS \"NUM_EMPLOYEES\", AVG(SALARY) AS \"AVG_SALARY\" FROM EMPLOYEES GROUP BY DEP_ID ORDER BY AVG_SALARY;'\n",
    "cursor.execute(q2)\n",
    "output = cursor.fetchall()\n",
    "for row in output:\n",
    "    print(row)"
   ]
  },
  {
   "cell_type": "markdown",
   "metadata": {},
   "source": [
    " HAVING after the GROUP BY, and use the count() function in the HAVING clause instead of the column label"
   ]
  },
  {
   "cell_type": "code",
   "execution_count": 25,
   "metadata": {},
   "outputs": [
    {
     "name": "stdout",
     "output_type": "stream",
     "text": [
      "(7, 3, Decimal('66666.6667'))\n",
      "(2, 3, Decimal('86666.6667'))\n"
     ]
    }
   ],
   "source": [
    "q3 = f'SELECT DEP_ID, COUNT(*) AS \"NUM_EMPLOYEES\", AVG(SALARY) AS \"AVG_SALARY\" FROM EMPLOYEES GROUP BY DEP_ID HAVING COUNT(*) < 4 ORDER BY AVG_SALARY;'\n",
    "cursor.execute(q3)\n",
    "output = cursor.fetchall()\n",
    "for row in output:\n",
    "    print(row)"
   ]
  },
  {
   "cell_type": "markdown",
   "metadata": {},
   "source": [
    "# Practice Questions\n"
   ]
  },
  {
   "cell_type": "markdown",
   "metadata": {},
   "source": [
    "Retrieve the list of all employees, first and last names, whose first names start with ‘S’.\n"
   ]
  },
  {
   "cell_type": "code",
   "execution_count": 26,
   "metadata": {},
   "outputs": [
    {
     "name": "stdout",
     "output_type": "stream",
     "text": [
      "('Steve', 'Wells')\n",
      "('Santosh', 'Kumar')\n"
     ]
    }
   ],
   "source": [
    "prac_1 = \"SELECT F_NAME, L_NAME FROM EMPLOYEES WHERE F_NAME LIKE 'S%';\"\n",
    "cursor.execute(prac_1)\n",
    "output = cursor.fetchall()\n",
    "for row in output:\n",
    "    print(row)"
   ]
  },
  {
   "cell_type": "markdown",
   "metadata": {},
   "source": [
    "Arrange all the records of the EMPLOYEES table in ascending order of the date of birth."
   ]
  },
  {
   "cell_type": "code",
   "execution_count": 27,
   "metadata": {},
   "outputs": [
    {
     "name": "stdout",
     "output_type": "stream",
     "text": [
      "('E1002', 'Alice', 'James', 123457, '1972-07-31', 'F', '980 Berry ln, Elgin,IL', 200, 80000, 30002, 5)\n",
      "('E1007', 'Mary', 'Thomas', 123412, '1975-05-05', 'F', '100 Rose Pl, Gary,IL', 650, 65000, 30003, 7)\n",
      "('E1001', 'John', 'Thomas', 123456, '1976-09-01', 'M', '5631 Rice, OakPark,IL', 100, 100000, 30001, 2)\n",
      "('E1006', 'Nancy', 'Allen', 123411, '1978-06-02', 'F', '111 Green Pl, Elgin,IL', 600, 90000, 30001, 2)\n",
      "('E1003', 'Steve', 'Wells', 123458, '1980-10-08', 'M', '291 Springs, Gary,IL', 300, 50000, 30002, 5)\n",
      "('E1005', 'Ahmed', 'Hussain', 123410, '1981-04-01', 'M', '216 Oak Tree, Geneva,IL', 500, 70000, 30001, 2)\n",
      "('E1010', 'Ann', 'Jacob', 123415, '1982-03-30', 'F', '111 Britany Springs,Elgin,IL', 220, 70000, 30002, 5)\n",
      "('E1008', 'Bharath', 'Gupta', 123413, '1985-06-05', 'M', '145 Berry Ln, Naperville,IL', 660, 65000, 30003, 7)\n",
      "('E1004', 'Santosh', 'Kumar', 123459, '1985-07-20', 'M', '511 Aurora Av, Aurora,IL', 400, 60000, 30002, 5)\n",
      "('E1009', 'Andrea', 'Jones', 123414, '1990-09-07', 'F', '120 Fall Creek, Gary,IL', 234, 70000, 30003, 7)\n"
     ]
    }
   ],
   "source": [
    "prac_2 = \"SELECT * FROM EMPLOYEES ORDER BY B_DATE ASC;\"\n",
    "cursor.execute(prac_2)\n",
    "output = cursor.fetchall()\n",
    "for row in output:\n",
    "    print(row)"
   ]
  },
  {
   "cell_type": "markdown",
   "metadata": {},
   "source": [
    "Group the records in terms of the department IDs and filter them of ones that have average salary more than or equal to 60000. Display the department ID and the average salary."
   ]
  },
  {
   "cell_type": "code",
   "execution_count": 28,
   "metadata": {},
   "outputs": [
    {
     "name": "stdout",
     "output_type": "stream",
     "text": [
      "(2, Decimal('86666.6667'))\n",
      "(5, Decimal('65000.0000'))\n",
      "(7, Decimal('66666.6667'))\n"
     ]
    }
   ],
   "source": [
    "prac_3 = \"SELECT DEP_ID, AVG(SALARY) FROM EMPLOYEES GROUP BY DEP_ID HAVING AVG(SALARY) >= 60000;\"\n",
    "cursor.execute(prac_3)\n",
    "output = cursor.fetchall()\n",
    "for row in output:\n",
    "    print(row)"
   ]
  },
  {
   "cell_type": "markdown",
   "metadata": {},
   "source": [
    "For the problem above, sort the results for each group in descending order of average salary.\n"
   ]
  },
  {
   "cell_type": "code",
   "execution_count": 30,
   "metadata": {},
   "outputs": [
    {
     "name": "stdout",
     "output_type": "stream",
     "text": [
      "(2, Decimal('86666.6667'))\n",
      "(7, Decimal('66666.6667'))\n",
      "(5, Decimal('65000.0000'))\n"
     ]
    }
   ],
   "source": [
    "prac_4 = \"SELECT DEP_ID, AVG(SALARY) FROM EMPLOYEES GROUP BY DEP_ID HAVING AVG(SALARY) >= 60000 ORDER BY AVG(SALARY) DESC;\"\n",
    "cursor.execute(prac_4)\n",
    "output = cursor.fetchall()\n",
    "for row in output:\n",
    "    print(row)"
   ]
  },
  {
   "cell_type": "code",
   "execution_count": 31,
   "metadata": {},
   "outputs": [],
   "source": [
    "conn.commit()\n",
    "conn.close()"
   ]
  }
 ],
 "metadata": {
  "kernelspec": {
   "display_name": "ibm_ds_env",
   "language": "python",
   "name": "python3"
  },
  "language_info": {
   "codemirror_mode": {
    "name": "ipython",
    "version": 3
   },
   "file_extension": ".py",
   "mimetype": "text/x-python",
   "name": "python",
   "nbconvert_exporter": "python",
   "pygments_lexer": "ipython3",
   "version": "3.10.14"
  }
 },
 "nbformat": 4,
 "nbformat_minor": 2
}
