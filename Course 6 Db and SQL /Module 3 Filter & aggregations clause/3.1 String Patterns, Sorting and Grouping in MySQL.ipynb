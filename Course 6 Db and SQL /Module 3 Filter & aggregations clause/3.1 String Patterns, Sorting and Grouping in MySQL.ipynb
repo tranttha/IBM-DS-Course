{
 "cells": [
  {
   "cell_type": "code",
   "execution_count": 1,
   "metadata": {},
   "outputs": [
    {
     "ename": "SyntaxError",
     "evalue": "invalid character '‘' (U+2018) (1439506118.py, line 6)",
     "output_type": "error",
     "traceback": [
      "\u001b[0;36m  Cell \u001b[0;32mIn[1], line 6\u001b[0;36m\u001b[0m\n\u001b[0;31m    Create a blank database named ‘HR’. Use the script shared in the link below to create the required tables.\u001b[0m\n\u001b[0m                                  ^\u001b[0m\n\u001b[0;31mSyntaxError\u001b[0m\u001b[0;31m:\u001b[0m invalid character '‘' (U+2018)\n"
     ]
    }
   ],
   "source": [
    "- Load the database: Using the skills acquired in the previous modules, you should first create the database in MySQL. Follow the steps below:\n",
    "\n",
    "- Open the mysql dbin Cloud IDE.\n",
    "\n",
    "- Create a blank database named ‘HR’. Use the script shared in the link below to create the required tables.\n",
    "\n",
    "Download the files in the links below to your local machine (if not already done in previous labs).\n",
    "Departments.csv\n",
    "Jobs.csv\n",
    "JobsHistory.csv\n",
    "Locations.csv\n",
    "Employees.csv\n",
    "\n",
    "Use each of these files to the iterface as data for respective tables in the ‘HR’ database."
   ]
  },
  {
   "cell_type": "code",
   "execution_count": null,
   "metadata": {},
   "outputs": [],
   "source": []
  }
 ],
 "metadata": {
  "kernelspec": {
   "display_name": "ibm_ds_env",
   "language": "python",
   "name": "python3"
  },
  "language_info": {
   "codemirror_mode": {
    "name": "ipython",
    "version": 3
   },
   "file_extension": ".py",
   "mimetype": "text/x-python",
   "name": "python",
   "nbconvert_exporter": "python",
   "pygments_lexer": "ipython3",
   "version": "3.10.14"
  }
 },
 "nbformat": 4,
 "nbformat_minor": 2
}
