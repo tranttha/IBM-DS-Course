{
 "cells": [
  {
   "cell_type": "markdown",
   "metadata": {},
   "source": [
    "# Working with Multiple Tables"
   ]
  },
  {
   "cell_type": "code",
   "execution_count": 29,
   "metadata": {},
   "outputs": [],
   "source": [
    "import mysql.connector as mysql \n",
    "import os \n",
    "from dotenv import load_dotenv\n",
    "import sqlalchemy"
   ]
  },
  {
   "cell_type": "code",
   "execution_count": 35,
   "metadata": {},
   "outputs": [
    {
     "name": "stdout",
     "output_type": "stream",
     "text": [
      "mysql-container\n",
      "mysql-container\n",
      "CONTAINER ID   IMAGE     COMMAND                  CREATED      STATUS                  PORTS                                                  NAMES\n",
      "50e33c579e3f   mysql     \"docker-entrypoint.s…\"   2 days ago   Up Less than a second   0.0.0.0:3306->3306/tcp, :::3306->3306/tcp, 33060/tcp   mysql-container\n"
     ]
    }
   ],
   "source": [
    "# !docker stop mysql-container\n",
    "# !docker start mysql-container\n",
    "# !docker ps "
   ]
  },
  {
   "cell_type": "code",
   "execution_count": 37,
   "metadata": {},
   "outputs": [],
   "source": [
    "load_dotenv('/workspaces/IBM-DS-Course/.env')\n",
    "user = os.getenv('USER')\n",
    "password = os.getenv('PASSWORD')\n",
    "host = 'localhost'\n",
    "port = 3306\n",
    "db = 'HR'"
   ]
  },
  {
   "cell_type": "code",
   "execution_count": 38,
   "metadata": {},
   "outputs": [],
   "source": [
    "conn = mysql.connect(\n",
    "    host=host,\n",
    "    user=user,\n",
    "    password=password,\n",
    "    port=port\n",
    ")\n",
    "cursor = conn.cursor()"
   ]
  },
  {
   "cell_type": "code",
   "execution_count": 41,
   "metadata": {},
   "outputs": [],
   "source": [
    "use = f'USE {db}'\n",
    "cursor.execute(use)"
   ]
  },
  {
   "cell_type": "markdown",
   "metadata": {},
   "source": [
    "## Accessing multiple tables with sub-queries"
   ]
  },
  {
   "cell_type": "markdown",
   "metadata": {},
   "source": [
    "1. Retrieve only the EMPLOYEES records corresponding to jobs in the JOBS table.\n"
   ]
  },
  {
   "cell_type": "markdown",
   "metadata": {},
   "source": [
    "For such a question, you can implement the sub-query in the WHERE clause, such that the overlapping column of JOD ID can identify the required entries."
   ]
  },
  {
   "cell_type": "code",
   "execution_count": 43,
   "metadata": {},
   "outputs": [],
   "source": [
    "q1 = \"SELECT * FROM EMPLOYEES WHERE JOB_ID IN (SELECT JOB_IDENT FROM JOBS);\"\n",
    "cursor.execute(q1)\n",
    "output1 = cursor.fetchall()"
   ]
  },
  {
   "cell_type": "code",
   "execution_count": 45,
   "metadata": {},
   "outputs": [
    {
     "name": "stdout",
     "output_type": "stream",
     "text": [
      "('E1001', 'John', 'Thomas', 123456, '1976-09-01', 'M', '5631 Rice, OakPark,IL', 100, 100000, 30001, 2)\n",
      "('E1002', 'Alice', 'James', 123457, '1972-07-31', 'F', '980 Berry ln, Elgin,IL', 200, 80000, 30002, 5)\n",
      "('E1003', 'Steve', 'Wells', 123458, '1980-10-08', 'M', '291 Springs, Gary,IL', 300, 50000, 30002, 5)\n",
      "('E1004', 'Santosh', 'Kumar', 123459, '1985-07-20', 'M', '511 Aurora Av, Aurora,IL', 400, 60000, 30002, 5)\n",
      "('E1005', 'Ahmed', 'Hussain', 123410, '1981-04-01', 'M', '216 Oak Tree, Geneva,IL', 500, 70000, 30001, 2)\n",
      "('E1006', 'Nancy', 'Allen', 123411, '1978-06-02', 'F', '111 Green Pl, Elgin,IL', 600, 90000, 30001, 2)\n",
      "('E1007', 'Mary', 'Thomas', 123412, '1975-05-05', 'F', '100 Rose Pl, Gary,IL', 650, 65000, 30003, 7)\n",
      "('E1008', 'Bharath', 'Gupta', 123413, '1985-06-05', 'M', '145 Berry Ln, Naperville,IL', 660, 65000, 30003, 7)\n",
      "('E1009', 'Andrea', 'Jones', 123414, '1990-09-07', 'F', '120 Fall Creek, Gary,IL', 234, 70000, 30003, 7)\n",
      "('E1010', 'Ann', 'Jacob', 123415, '1982-03-30', 'F', '111 Britany Springs,Elgin,IL', 220, 70000, 30002, 5)\n"
     ]
    }
   ],
   "source": [
    "print(*[row for row in output1],sep='\\n')"
   ]
  },
  {
   "cell_type": "markdown",
   "metadata": {},
   "source": [
    "2. Retrieve JOB information for employees earning over $70,000.\n"
   ]
  },
  {
   "cell_type": "markdown",
   "metadata": {},
   "source": [
    "For this example, retrieve the details from the JOBS table, which has common IDs with those available in the EMPLOYEES table, provided the salary in the EMPLOYEES table is greater than $70,000. You can write the query as:"
   ]
  },
  {
   "cell_type": "code",
   "execution_count": 46,
   "metadata": {},
   "outputs": [
    {
     "name": "stdout",
     "output_type": "stream",
     "text": [
      "('Sr. Architect', 60000, 100000, 100)\n",
      "('Sr. Software Developer', 60000, 80000, 200)\n",
      "('Lead Architect', 70000, 100000, 600)\n"
     ]
    }
   ],
   "source": [
    "q2 = '''SELECT JOB_TITLE, MIN_SALARY, MAX_SALARY, JOB_IDENT\n",
    "FROM JOBS\n",
    "WHERE JOB_IDENT IN (select JOB_ID from EMPLOYEES where SALARY > 70000 );'''\n",
    "cursor.execute(q2)\n",
    "output2 = cursor.fetchall()\n",
    "print(*[row for row in output2], sep ='\\n')"
   ]
  },
  {
   "cell_type": "markdown",
   "metadata": {},
   "source": [
    "## Accessing multiple tables with Implicit Joins\n"
   ]
  },
  {
   "cell_type": "markdown",
   "metadata": {},
   "source": [
    "1. Retrieve only the EMPLOYEES records corresponding to jobs in the JOBS table.\n"
   ]
  },
  {
   "cell_type": "markdown",
   "metadata": {},
   "source": [
    "The same question as before, but now we will use Implicit Join to retrieve the required information. For this, you will combine the tables based on job IDs. Using the following query for this:\n",
    "\n"
   ]
  },
  {
   "cell_type": "code",
   "execution_count": 48,
   "metadata": {},
   "outputs": [
    {
     "name": "stdout",
     "output_type": "stream",
     "text": [
      "('E1001', 'John', 'Thomas', 123456, '1976-09-01', 'M', '5631 Rice, OakPark,IL', 100, 100000, 30001, 2, 100, 'Sr. Architect', 60000, 100000)\n",
      "('E1002', 'Alice', 'James', 123457, '1972-07-31', 'F', '980 Berry ln, Elgin,IL', 200, 80000, 30002, 5, 200, 'Sr. Software Developer', 60000, 80000)\n",
      "('E1003', 'Steve', 'Wells', 123458, '1980-10-08', 'M', '291 Springs, Gary,IL', 300, 50000, 30002, 5, 300, 'Jr.Software Developer', 40000, 60000)\n",
      "('E1004', 'Santosh', 'Kumar', 123459, '1985-07-20', 'M', '511 Aurora Av, Aurora,IL', 400, 60000, 30002, 5, 400, 'Jr.Software Developer', 40000, 60000)\n",
      "('E1005', 'Ahmed', 'Hussain', 123410, '1981-04-01', 'M', '216 Oak Tree, Geneva,IL', 500, 70000, 30001, 2, 500, 'Jr. Architect', 50000, 70000)\n",
      "('E1006', 'Nancy', 'Allen', 123411, '1978-06-02', 'F', '111 Green Pl, Elgin,IL', 600, 90000, 30001, 2, 600, 'Lead Architect', 70000, 100000)\n",
      "('E1007', 'Mary', 'Thomas', 123412, '1975-05-05', 'F', '100 Rose Pl, Gary,IL', 650, 65000, 30003, 7, 650, 'Jr. Designer', 60000, 70000)\n",
      "('E1008', 'Bharath', 'Gupta', 123413, '1985-06-05', 'M', '145 Berry Ln, Naperville,IL', 660, 65000, 30003, 7, 660, 'Jr. Designer', 60000, 70000)\n",
      "('E1009', 'Andrea', 'Jones', 123414, '1990-09-07', 'F', '120 Fall Creek, Gary,IL', 234, 70000, 30003, 7, 234, 'Sr. Designer', 70000, 90000)\n",
      "('E1010', 'Ann', 'Jacob', 123415, '1982-03-30', 'F', '111 Britany Springs,Elgin,IL', 220, 70000, 30002, 5, 220, 'Sr. Designer', 70000, 90000)\n"
     ]
    }
   ],
   "source": [
    "q3 = '''SELECT *\n",
    "FROM EMPLOYEES, JOBS\n",
    "WHERE EMPLOYEES.JOB_ID = JOBS.JOB_IDENT;'''\n",
    "cursor.execute(q3)\n",
    "output3 = cursor.fetchall()\n",
    "print(*[row for row in output3], sep='\\n')"
   ]
  },
  {
   "cell_type": "markdown",
   "metadata": {},
   "source": [
    "2. Redo the previous query using shorter aliases for table names.\n"
   ]
  },
  {
   "cell_type": "markdown",
   "metadata": {},
   "source": [
    "Note that the tables in question can be assigned shorter aliases. This is especially helpful in cases where specific columns are to be accessed from different tables. The query would be modified to:\n",
    "\n"
   ]
  },
  {
   "cell_type": "code",
   "execution_count": 51,
   "metadata": {},
   "outputs": [
    {
     "name": "stdout",
     "output_type": "stream",
     "text": [
      "('E1001', 'John', 'Thomas', 123456, '1976-09-01', 'M', '5631 Rice, OakPark,IL', 100, 100000, 30001, 2, 100, 'Sr. Architect', 60000, 100000)\n",
      "('E1002', 'Alice', 'James', 123457, '1972-07-31', 'F', '980 Berry ln, Elgin,IL', 200, 80000, 30002, 5, 200, 'Sr. Software Developer', 60000, 80000)\n",
      "('E1003', 'Steve', 'Wells', 123458, '1980-10-08', 'M', '291 Springs, Gary,IL', 300, 50000, 30002, 5, 300, 'Jr.Software Developer', 40000, 60000)\n",
      "('E1004', 'Santosh', 'Kumar', 123459, '1985-07-20', 'M', '511 Aurora Av, Aurora,IL', 400, 60000, 30002, 5, 400, 'Jr.Software Developer', 40000, 60000)\n",
      "('E1005', 'Ahmed', 'Hussain', 123410, '1981-04-01', 'M', '216 Oak Tree, Geneva,IL', 500, 70000, 30001, 2, 500, 'Jr. Architect', 50000, 70000)\n",
      "('E1006', 'Nancy', 'Allen', 123411, '1978-06-02', 'F', '111 Green Pl, Elgin,IL', 600, 90000, 30001, 2, 600, 'Lead Architect', 70000, 100000)\n",
      "('E1007', 'Mary', 'Thomas', 123412, '1975-05-05', 'F', '100 Rose Pl, Gary,IL', 650, 65000, 30003, 7, 650, 'Jr. Designer', 60000, 70000)\n",
      "('E1008', 'Bharath', 'Gupta', 123413, '1985-06-05', 'M', '145 Berry Ln, Naperville,IL', 660, 65000, 30003, 7, 660, 'Jr. Designer', 60000, 70000)\n",
      "('E1009', 'Andrea', 'Jones', 123414, '1990-09-07', 'F', '120 Fall Creek, Gary,IL', 234, 70000, 30003, 7, 234, 'Sr. Designer', 70000, 90000)\n",
      "('E1010', 'Ann', 'Jacob', 123415, '1982-03-30', 'F', '111 Britany Springs,Elgin,IL', 220, 70000, 30002, 5, 220, 'Sr. Designer', 70000, 90000)\n"
     ]
    }
   ],
   "source": [
    "q4 = '''SELECT *\n",
    "FROM EMPLOYEES E, JOBS J\n",
    "WHERE E.JOB_ID = J.JOB_IDENT;'''\n",
    "cursor.execute(q4)\n",
    "output4 = cursor.fetchall()\n",
    "print(*[row for row in output4], sep='\\n')"
   ]
  },
  {
   "cell_type": "markdown",
   "metadata": {},
   "source": [
    "3. In the previous query, retrieve only the Employee ID, Name, and Job Title.\n"
   ]
  },
  {
   "cell_type": "markdown",
   "metadata": {},
   "source": [
    "Notice that Job Title is a column of the JOBS table, and other details are coming from the EMPLOYEES table. The two tables will be joined on Job ID. The query would be as follows:\n",
    "\n"
   ]
  },
  {
   "cell_type": "code",
   "execution_count": 52,
   "metadata": {},
   "outputs": [
    {
     "name": "stdout",
     "output_type": "stream",
     "text": [
      "('E1001', 'John', 'Thomas', 'Sr. Architect')\n",
      "('E1002', 'Alice', 'James', 'Sr. Software Developer')\n",
      "('E1003', 'Steve', 'Wells', 'Jr.Software Developer')\n",
      "('E1004', 'Santosh', 'Kumar', 'Jr.Software Developer')\n",
      "('E1005', 'Ahmed', 'Hussain', 'Jr. Architect')\n",
      "('E1006', 'Nancy', 'Allen', 'Lead Architect')\n",
      "('E1007', 'Mary', 'Thomas', 'Jr. Designer')\n",
      "('E1008', 'Bharath', 'Gupta', 'Jr. Designer')\n",
      "('E1009', 'Andrea', 'Jones', 'Sr. Designer')\n",
      "('E1010', 'Ann', 'Jacob', 'Sr. Designer')\n"
     ]
    }
   ],
   "source": [
    "q5 = '''SELECT EMP_ID,F_NAME,L_NAME, JOB_TITLE\n",
    "FROM EMPLOYEES E, JOBS J\n",
    "WHERE E.JOB_ID = J.JOB_IDENT;'''\n",
    "cursor.execute(q5)\n",
    "output5 = cursor.fetchall()\n",
    "print(*[row for row in output5], sep='\\n')"
   ]
  },
  {
   "cell_type": "markdown",
   "metadata": {},
   "source": [
    "4. Redo the previous query, but specify the fully qualified column names with aliases in the SELECT clause.\n"
   ]
  },
  {
   "cell_type": "markdown",
   "metadata": {},
   "source": [
    "The column names can also be prefixed with table aliases to keep track of where each column is coming from. The above query will be modified as shown below.\n",
    "\n"
   ]
  },
  {
   "cell_type": "code",
   "execution_count": 55,
   "metadata": {},
   "outputs": [
    {
     "name": "stdout",
     "output_type": "stream",
     "text": [
      "('E1001', 'John', 'Thomas', 'Sr. Architect')\n",
      "('E1002', 'Alice', 'James', 'Sr. Software Developer')\n",
      "('E1003', 'Steve', 'Wells', 'Jr.Software Developer')\n",
      "('E1004', 'Santosh', 'Kumar', 'Jr.Software Developer')\n",
      "('E1005', 'Ahmed', 'Hussain', 'Jr. Architect')\n",
      "('E1006', 'Nancy', 'Allen', 'Lead Architect')\n",
      "('E1007', 'Mary', 'Thomas', 'Jr. Designer')\n",
      "('E1008', 'Bharath', 'Gupta', 'Jr. Designer')\n",
      "('E1009', 'Andrea', 'Jones', 'Sr. Designer')\n",
      "('E1010', 'Ann', 'Jacob', 'Sr. Designer')\n"
     ]
    }
   ],
   "source": [
    "q6 = '''SELECT E.EMP_ID, E.F_NAME, E.L_NAME, J.JOB_TITLE\n",
    "FROM EMPLOYEES E, JOBS J\n",
    "WHERE E.JOB_ID = J.JOB_IDENT;'''\n",
    "cursor.execute(q6)\n",
    "output6 = cursor.fetchall()\n",
    "print(*[row for row in output6], sep='\\n')"
   ]
  },
  {
   "cell_type": "markdown",
   "metadata": {},
   "source": [
    "## Practice problems\n"
   ]
  },
  {
   "cell_type": "markdown",
   "metadata": {},
   "source": [
    "1. Retrieve only the list of employees whose JOB_TITLE is Jr. Designer.\n"
   ]
  },
  {
   "cell_type": "markdown",
   "metadata": {},
   "source": [
    "a. Using sub-queries\n"
   ]
  },
  {
   "cell_type": "code",
   "execution_count": 58,
   "metadata": {},
   "outputs": [
    {
     "name": "stdout",
     "output_type": "stream",
     "text": [
      "('E1007', 'Mary', 'Thomas', 123412, '1975-05-05', 'F', '100 Rose Pl, Gary,IL', 650, 65000, 30003, 7)\n",
      "('E1008', 'Bharath', 'Gupta', 123413, '1985-06-05', 'M', '145 Berry Ln, Naperville,IL', 660, 65000, 30003, 7)\n"
     ]
    }
   ],
   "source": [
    "p1 = '''SELECT *\n",
    "FROM EMPLOYEES \\\n",
    "WHERE JOB_ID IN (\n",
    "    SELECT JOB_IDENT\n",
    "    FROM JOBS\n",
    "    WHERE JOB_TITLE= 'Jr. Designer');'''\n",
    "cursor.execute(p1)\n",
    "ans1 = cursor.fetchall()\n",
    "print(*[row for row in ans1], sep='\\n')\n"
   ]
  },
  {
   "cell_type": "markdown",
   "metadata": {},
   "source": [
    "b. Using Implicit Joins\n",
    "\n"
   ]
  },
  {
   "cell_type": "code",
   "execution_count": 60,
   "metadata": {},
   "outputs": [
    {
     "name": "stdout",
     "output_type": "stream",
     "text": [
      "('E1007', 'Mary', 'Thomas', 123412, '1975-05-05', 'F', '100 Rose Pl, Gary,IL', 650, 65000, 30003, 7, 650, 'Jr. Designer', 60000, 70000)\n",
      "('E1008', 'Bharath', 'Gupta', 123413, '1985-06-05', 'M', '145 Berry Ln, Naperville,IL', 660, 65000, 30003, 7, 660, 'Jr. Designer', 60000, 70000)\n"
     ]
    }
   ],
   "source": [
    "p2 = '''SELECT *\n",
    "FROM EMPLOYEES E, JOBS J\n",
    "WHERE E.JOB_ID = J.JOB_IDENT AND J.JOB_TITLE= 'Jr. Designer';'''\n",
    "cursor.execute(p2)\n",
    "ans2 = cursor.fetchall()\n",
    "print(*[row for row in ans2], sep='\\n')"
   ]
  },
  {
   "cell_type": "markdown",
   "metadata": {},
   "source": [
    "2. Retrieve JOB information and a list of employees whose birth year is after 1976.\n"
   ]
  },
  {
   "cell_type": "markdown",
   "metadata": {},
   "source": [
    "a. Using sub-queries\n",
    "\n"
   ]
  },
  {
   "cell_type": "code",
   "execution_count": 61,
   "metadata": {},
   "outputs": [
    {
     "name": "stdout",
     "output_type": "stream",
     "text": [
      "('Jr.Software Developer', 40000, 60000, 300)\n",
      "('Jr.Software Developer', 40000, 60000, 400)\n",
      "('Jr. Architect', 50000, 70000, 500)\n",
      "('Lead Architect', 70000, 100000, 600)\n",
      "('Jr. Designer', 60000, 70000, 660)\n",
      "('Sr. Designer', 70000, 90000, 234)\n",
      "('Sr. Designer', 70000, 90000, 220)\n"
     ]
    }
   ],
   "source": [
    "p3 = '''SELECT JOB_TITLE, MIN_SALARY, MAX_SALARY, JOB_IDENT\n",
    "FROM JOBS\n",
    "WHERE JOB_IDENT IN (SELECT JOB_ID\n",
    "                    FROM EMPLOYEES\n",
    "                    WHERE YEAR(B_DATE)>1976 );'''\n",
    "cursor.execute(p3)\n",
    "ans3 = cursor.fetchall()\n",
    "print(*[row for row in ans3], sep='\\n')"
   ]
  },
  {
   "cell_type": "markdown",
   "metadata": {},
   "source": [
    "b. Using implicit join\n",
    "\n"
   ]
  },
  {
   "cell_type": "code",
   "execution_count": 62,
   "metadata": {},
   "outputs": [
    {
     "name": "stdout",
     "output_type": "stream",
     "text": [
      "('Jr.Software Developer', 40000, 60000, 300)\n",
      "('Jr.Software Developer', 40000, 60000, 400)\n",
      "('Jr. Architect', 50000, 70000, 500)\n",
      "('Lead Architect', 70000, 100000, 600)\n",
      "('Jr. Designer', 60000, 70000, 660)\n",
      "('Sr. Designer', 70000, 90000, 234)\n",
      "('Sr. Designer', 70000, 90000, 220)\n"
     ]
    }
   ],
   "source": [
    "p4 = '''SELECT J.JOB_TITLE, J.MIN_SALARY, J.MAX_SALARY, J.JOB_IDENT\n",
    "FROM JOBS J, EMPLOYEES E\n",
    "WHERE E.JOB_ID = J.JOB_IDENT AND YEAR(E.B_DATE)>1976;'''\n",
    "cursor.execute(p4)\n",
    "ans4 = cursor.fetchall()\n",
    "print(*[row for row in ans4], sep='\\n')"
   ]
  },
  {
   "cell_type": "code",
   "execution_count": 63,
   "metadata": {},
   "outputs": [],
   "source": [
    "conn.close()"
   ]
  }
 ],
 "metadata": {
  "kernelspec": {
   "display_name": "ibm_ds_env",
   "language": "python",
   "name": "python3"
  },
  "language_info": {
   "codemirror_mode": {
    "name": "ipython",
    "version": 3
   },
   "file_extension": ".py",
   "mimetype": "text/x-python",
   "name": "python",
   "nbconvert_exporter": "python",
   "pygments_lexer": "ipython3",
   "version": "3.10.14"
  }
 },
 "nbformat": 4,
 "nbformat_minor": 2
}
