{
 "cells": [
  {
   "cell_type": "markdown",
   "metadata": {},
   "source": [
    "# Working with Multiple Tables"
   ]
  },
  {
   "cell_type": "code",
   "execution_count": 3,
   "metadata": {},
   "outputs": [],
   "source": [
    "# !docker stop mysql-container\n",
    "# !docker start mysql-container\n",
    "# !docker ps "
   ]
  },
  {
   "cell_type": "code",
   "execution_count": 1,
   "metadata": {},
   "outputs": [],
   "source": [
    "import mysql.connector as sql \n",
    "import os \n",
    "from dotenv import load_dotenv\n",
    "from sqlalchemy import create_engine\n",
    "\n",
    "load_dotenv('/workspaces/IBM-DS-Course/.env')\n",
    "user = os.getenv('USER')\n",
    "password = os.getenv('PASSWORD')\n"
   ]
  },
  {
   "cell_type": "code",
   "execution_count": 2,
   "metadata": {},
   "outputs": [],
   "source": [
    "host = 'localhost'\n",
    "port = 3306\n",
    "db = 'HR'"
   ]
  },
  {
   "cell_type": "code",
   "execution_count": 3,
   "metadata": {},
   "outputs": [],
   "source": [
    "conn = sql.connect(\n",
    "    host=host,\n",
    "    user=user,\n",
    "    password=password,\n",
    "    port=port\n",
    ")\n",
    "cursor = conn.cursor()"
   ]
  },
  {
   "cell_type": "code",
   "execution_count": 4,
   "metadata": {},
   "outputs": [],
   "source": [
    "use = f'USE {db}'\n",
    "cursor.execute(use)"
   ]
  },
  {
   "cell_type": "markdown",
   "metadata": {},
   "source": [
    "## Accessing multiple tables with sub-queries"
   ]
  },
  {
   "cell_type": "markdown",
   "metadata": {},
   "source": [
    "Retrieve only the EMPLOYEES records corresponding to jobs in the JOBS table."
   ]
  },
  {
   "cell_type": "code",
   "execution_count": 5,
   "metadata": {},
   "outputs": [],
   "source": [
    "q1 = \"SELECT * FROM EMPLOYEES WHERE JOB_ID IN (SELECT JOB_IDENT FROM JOBS);\"\n",
    "cursor.execute(q1)"
   ]
  },
  {
   "cell_type": "code",
   "execution_count": 6,
   "metadata": {},
   "outputs": [
    {
     "name": "stdout",
     "output_type": "stream",
     "text": [
      "('E1001', 'John', 'Thomas', 123456, '1976-09-01', 'M', '5631 Rice, OakPark,IL', 100, 100000, 30001, 2)\n",
      "('E1002', 'Alice', 'James', 123457, '1972-07-31', 'F', '980 Berry ln, Elgin,IL', 200, 80000, 30002, 5)\n",
      "('E1003', 'Steve', 'Wells', 123458, '1980-10-08', 'M', '291 Springs, Gary,IL', 300, 50000, 30002, 5)\n",
      "('E1004', 'Santosh', 'Kumar', 123459, '1985-07-20', 'M', '511 Aurora Av, Aurora,IL', 400, 60000, 30002, 5)\n",
      "('E1005', 'Ahmed', 'Hussain', 123410, '1981-04-01', 'M', '216 Oak Tree, Geneva,IL', 500, 70000, 30001, 2)\n",
      "('E1006', 'Nancy', 'Allen', 123411, '1978-06-02', 'F', '111 Green Pl, Elgin,IL', 600, 90000, 30001, 2)\n",
      "('E1007', 'Mary', 'Thomas', 123412, '1975-05-05', 'F', '100 Rose Pl, Gary,IL', 650, 65000, 30003, 7)\n",
      "('E1008', 'Bharath', 'Gupta', 123413, '1985-06-05', 'M', '145 Berry Ln, Naperville,IL', 660, 65000, 30003, 7)\n",
      "('E1009', 'Andrea', 'Jones', 123414, '1990-09-07', 'F', '120 Fall Creek, Gary,IL', 234, 70000, 30003, 7)\n",
      "('E1010', 'Ann', 'Jacob', 123415, '1982-03-30', 'F', '111 Britany Springs,Elgin,IL', 220, 70000, 30002, 5)\n"
     ]
    }
   ],
   "source": [
    "output1=cursor.fetchall()\n",
    "print(*[row for row in output1],sep='\\n' )\n"
   ]
  },
  {
   "cell_type": "markdown",
   "metadata": {},
   "source": [
    "Retrieve JOB information for employees earning over $70,000."
   ]
  },
  {
   "cell_type": "code",
   "execution_count": 7,
   "metadata": {},
   "outputs": [],
   "source": [
    "q2 = '''\n",
    "SELECT \n",
    "    JOB_TITLE, \n",
    "    MIN_SALARY,\n",
    "    MAX_SALARY,\n",
    "    JOB_IDENT\n",
    "FROM JOBS\n",
    "WHERE JOB_IDENT IN \n",
    "    (\n",
    "        SELECT \n",
    "            JOB_ID \n",
    "        FROM EMPLOYEES \n",
    "        where SALARY > 70000 );\n",
    "        '''\n",
    "cursor.execute(q2)\n"
   ]
  },
  {
   "cell_type": "code",
   "execution_count": 8,
   "metadata": {},
   "outputs": [
    {
     "name": "stdout",
     "output_type": "stream",
     "text": [
      "('Sr. Architect', 60000, 100000, 100)\n",
      "('Sr. Software Developer', 60000, 80000, 200)\n",
      "('Lead Architect', 70000, 100000, 600)\n"
     ]
    }
   ],
   "source": [
    "output2 = cursor.fetchall()\n",
    "print(*[row for row in output2], sep='\\n')"
   ]
  },
  {
   "cell_type": "markdown",
   "metadata": {},
   "source": [
    "Retrieve only the EMPLOYEES records corresponding to jobs in the JOBS table."
   ]
  },
  {
   "cell_type": "code",
   "execution_count": 9,
   "metadata": {},
   "outputs": [],
   "source": [
    "q3= '''\n",
    "SELECT *\n",
    "FROM EMPLOYEES, JOBS\n",
    "WHERE EMPLOYEES.JOB_ID = JOBS.JOB_IDENT;\n",
    "'''\n",
    "cursor.execute(q3)"
   ]
  },
  {
   "cell_type": "code",
   "execution_count": 10,
   "metadata": {},
   "outputs": [
    {
     "name": "stdout",
     "output_type": "stream",
     "text": [
      "('E1001', 'John', 'Thomas', 123456, '1976-09-01', 'M', '5631 Rice, OakPark,IL', 100, 100000, 30001, 2, 100, 'Sr. Architect', 60000, 100000)\n",
      "('E1002', 'Alice', 'James', 123457, '1972-07-31', 'F', '980 Berry ln, Elgin,IL', 200, 80000, 30002, 5, 200, 'Sr. Software Developer', 60000, 80000)\n",
      "('E1003', 'Steve', 'Wells', 123458, '1980-10-08', 'M', '291 Springs, Gary,IL', 300, 50000, 30002, 5, 300, 'Jr.Software Developer', 40000, 60000)\n",
      "('E1004', 'Santosh', 'Kumar', 123459, '1985-07-20', 'M', '511 Aurora Av, Aurora,IL', 400, 60000, 30002, 5, 400, 'Jr.Software Developer', 40000, 60000)\n",
      "('E1005', 'Ahmed', 'Hussain', 123410, '1981-04-01', 'M', '216 Oak Tree, Geneva,IL', 500, 70000, 30001, 2, 500, 'Jr. Architect', 50000, 70000)\n",
      "('E1006', 'Nancy', 'Allen', 123411, '1978-06-02', 'F', '111 Green Pl, Elgin,IL', 600, 90000, 30001, 2, 600, 'Lead Architect', 70000, 100000)\n",
      "('E1007', 'Mary', 'Thomas', 123412, '1975-05-05', 'F', '100 Rose Pl, Gary,IL', 650, 65000, 30003, 7, 650, 'Jr. Designer', 60000, 70000)\n",
      "('E1008', 'Bharath', 'Gupta', 123413, '1985-06-05', 'M', '145 Berry Ln, Naperville,IL', 660, 65000, 30003, 7, 660, 'Jr. Designer', 60000, 70000)\n",
      "('E1009', 'Andrea', 'Jones', 123414, '1990-09-07', 'F', '120 Fall Creek, Gary,IL', 234, 70000, 30003, 7, 234, 'Sr. Designer', 70000, 90000)\n",
      "('E1010', 'Ann', 'Jacob', 123415, '1982-03-30', 'F', '111 Britany Springs,Elgin,IL', 220, 70000, 30002, 5, 220, 'Sr. Designer', 70000, 90000)\n"
     ]
    }
   ],
   "source": [
    "output3 = cursor.fetchall()\n",
    "print(*[row for row in output3], sep='\\n')"
   ]
  },
  {
   "cell_type": "markdown",
   "metadata": {},
   "source": [
    "Redo the previous query using shorter aliases for table names.\n",
    "\n",
    "Note that the tables in question can be assigned shorter aliases. This is especially helpful in cases where specific columns are to be accessed from different tables. The query would be modified to:"
   ]
  },
  {
   "cell_type": "code",
   "execution_count": 11,
   "metadata": {},
   "outputs": [],
   "source": [
    "q4 = '''\n",
    "SELECT *\n",
    "FROM EMPLOYEES E, JOBS J\n",
    "WHERE E.JOB_ID = J.JOB_IDENT;\n",
    "'''\n",
    "cursor.execute(q4)"
   ]
  },
  {
   "cell_type": "code",
   "execution_count": 12,
   "metadata": {},
   "outputs": [
    {
     "name": "stdout",
     "output_type": "stream",
     "text": [
      "('E1001', 'John', 'Thomas', 123456, '1976-09-01', 'M', '5631 Rice, OakPark,IL', 100, 100000, 30001, 2, 100, 'Sr. Architect', 60000, 100000)\n",
      "('E1002', 'Alice', 'James', 123457, '1972-07-31', 'F', '980 Berry ln, Elgin,IL', 200, 80000, 30002, 5, 200, 'Sr. Software Developer', 60000, 80000)\n",
      "('E1003', 'Steve', 'Wells', 123458, '1980-10-08', 'M', '291 Springs, Gary,IL', 300, 50000, 30002, 5, 300, 'Jr.Software Developer', 40000, 60000)\n",
      "('E1004', 'Santosh', 'Kumar', 123459, '1985-07-20', 'M', '511 Aurora Av, Aurora,IL', 400, 60000, 30002, 5, 400, 'Jr.Software Developer', 40000, 60000)\n",
      "('E1005', 'Ahmed', 'Hussain', 123410, '1981-04-01', 'M', '216 Oak Tree, Geneva,IL', 500, 70000, 30001, 2, 500, 'Jr. Architect', 50000, 70000)\n",
      "('E1006', 'Nancy', 'Allen', 123411, '1978-06-02', 'F', '111 Green Pl, Elgin,IL', 600, 90000, 30001, 2, 600, 'Lead Architect', 70000, 100000)\n",
      "('E1007', 'Mary', 'Thomas', 123412, '1975-05-05', 'F', '100 Rose Pl, Gary,IL', 650, 65000, 30003, 7, 650, 'Jr. Designer', 60000, 70000)\n",
      "('E1008', 'Bharath', 'Gupta', 123413, '1985-06-05', 'M', '145 Berry Ln, Naperville,IL', 660, 65000, 30003, 7, 660, 'Jr. Designer', 60000, 70000)\n",
      "('E1009', 'Andrea', 'Jones', 123414, '1990-09-07', 'F', '120 Fall Creek, Gary,IL', 234, 70000, 30003, 7, 234, 'Sr. Designer', 70000, 90000)\n",
      "('E1010', 'Ann', 'Jacob', 123415, '1982-03-30', 'F', '111 Britany Springs,Elgin,IL', 220, 70000, 30002, 5, 220, 'Sr. Designer', 70000, 90000)\n"
     ]
    }
   ],
   "source": [
    "output4 = cursor.fetchall()\n",
    "print(*[row for row in output4], sep='\\n')"
   ]
  },
  {
   "cell_type": "markdown",
   "metadata": {},
   "source": [
    "In the previous query, retrieve only the Employee ID, Name, and Job Title.\n",
    "Notice that Job Title is a column of the JOBS table, and other details are coming from the EMPLOYEES table. The two tables will be joined on Job ID."
   ]
  },
  {
   "cell_type": "code",
   "execution_count": 13,
   "metadata": {},
   "outputs": [],
   "source": [
    "q5 = '''\n",
    "SELECT \n",
    "    EMP_ID,\n",
    "    F_NAME,\n",
    "    L_NAME,\n",
    "    JOB_TITLE\n",
    "FROM EMPLOYEES E, JOBS J\n",
    "WHERE E.JOB_ID = J.JOB_IDENT;\n",
    "'''\n",
    "cursor.execute(q5)"
   ]
  },
  {
   "cell_type": "code",
   "execution_count": 14,
   "metadata": {},
   "outputs": [
    {
     "name": "stdout",
     "output_type": "stream",
     "text": [
      "('E1001', 'John', 'Thomas', 'Sr. Architect')\n",
      "('E1002', 'Alice', 'James', 'Sr. Software Developer')\n",
      "('E1003', 'Steve', 'Wells', 'Jr.Software Developer')\n",
      "('E1004', 'Santosh', 'Kumar', 'Jr.Software Developer')\n",
      "('E1005', 'Ahmed', 'Hussain', 'Jr. Architect')\n",
      "('E1006', 'Nancy', 'Allen', 'Lead Architect')\n",
      "('E1007', 'Mary', 'Thomas', 'Jr. Designer')\n",
      "('E1008', 'Bharath', 'Gupta', 'Jr. Designer')\n",
      "('E1009', 'Andrea', 'Jones', 'Sr. Designer')\n",
      "('E1010', 'Ann', 'Jacob', 'Sr. Designer')\n"
     ]
    }
   ],
   "source": [
    "output5 = cursor.fetchall()\n",
    "print(*[row for row in output5], sep='\\n')"
   ]
  },
  {
   "cell_type": "markdown",
   "metadata": {},
   "source": [
    "Redo the previous query, but specify the fully qualified column names with aliases in the SELECT clause.\n",
    "\n",
    "The column names can also be prefixed with table aliases to keep track of where each column is coming from. "
   ]
  },
  {
   "cell_type": "code",
   "execution_count": 15,
   "metadata": {},
   "outputs": [],
   "source": [
    "q6 = '''SELECT E.EMP_ID, E.F_NAME, E.L_NAME, J.JOB_TITLE\n",
    "FROM EMPLOYEES E, JOBS J\n",
    "WHERE E.JOB_ID = J.JOB_IDENT;\n",
    "'''\n",
    "cursor.execute(q6)"
   ]
  },
  {
   "cell_type": "code",
   "execution_count": 16,
   "metadata": {},
   "outputs": [
    {
     "name": "stdout",
     "output_type": "stream",
     "text": [
      "('E1001', 'John', 'Thomas', 'Sr. Architect')\n",
      "('E1002', 'Alice', 'James', 'Sr. Software Developer')\n",
      "('E1003', 'Steve', 'Wells', 'Jr.Software Developer')\n",
      "('E1004', 'Santosh', 'Kumar', 'Jr.Software Developer')\n",
      "('E1005', 'Ahmed', 'Hussain', 'Jr. Architect')\n",
      "('E1006', 'Nancy', 'Allen', 'Lead Architect')\n",
      "('E1007', 'Mary', 'Thomas', 'Jr. Designer')\n",
      "('E1008', 'Bharath', 'Gupta', 'Jr. Designer')\n",
      "('E1009', 'Andrea', 'Jones', 'Sr. Designer')\n",
      "('E1010', 'Ann', 'Jacob', 'Sr. Designer')\n"
     ]
    }
   ],
   "source": [
    "output6 = cursor.fetchall()\n",
    "print(*[row for row in output6], sep='\\n')"
   ]
  },
  {
   "cell_type": "markdown",
   "metadata": {},
   "source": [
    "Practice problems\n",
    "Retrieve only the list of employees whose JOB_TITLE is Jr. Designer.\n"
   ]
  },
  {
   "cell_type": "markdown",
   "metadata": {},
   "source": [
    "a. Using sub-queries\n",
    "\n"
   ]
  },
  {
   "cell_type": "code",
   "execution_count": 17,
   "metadata": {},
   "outputs": [],
   "source": [
    "p1 = '''SELECT *\n",
    "FROM EMPLOYEES E\n",
    "WHERE JOB_ID IN \n",
    "    (\n",
    "        SELECT JOB_IDENT\n",
    "        FROM JOBS \n",
    "        WHERE JOB_TITLE = \"Jr. Designer\"\n",
    "        );\n",
    "'''\n",
    "cursor.execute(p1)"
   ]
  },
  {
   "cell_type": "code",
   "execution_count": 18,
   "metadata": {},
   "outputs": [
    {
     "name": "stdout",
     "output_type": "stream",
     "text": [
      "('E1007', 'Mary', 'Thomas', 123412, '1975-05-05', 'F', '100 Rose Pl, Gary,IL', 650, 65000, 30003, 7)\n",
      "('E1008', 'Bharath', 'Gupta', 123413, '1985-06-05', 'M', '145 Berry Ln, Naperville,IL', 660, 65000, 30003, 7)\n"
     ]
    }
   ],
   "source": [
    "ans1 = cursor.fetchall()\n",
    "print(*[row for row in ans1], sep='\\n')"
   ]
  },
  {
   "cell_type": "markdown",
   "metadata": {},
   "source": [
    "\n",
    "b. Using Implicit Joins\n",
    "\n"
   ]
  },
  {
   "cell_type": "code",
   "execution_count": 20,
   "metadata": {},
   "outputs": [],
   "source": [
    "p2 = '''\n",
    "SELECT E.EMP_ID, E.F_NAME, E.L_NAME, J.JOB_TITLE\n",
    "FROM EMPLOYEES E, JOBS J\n",
    "WHERE E.JOB_ID = J.JOB_IDENT AND J.JOB_TITLE = \"Jr. Designer\";\n",
    "'''\n",
    "cursor.execute(p2)"
   ]
  },
  {
   "cell_type": "code",
   "execution_count": 21,
   "metadata": {},
   "outputs": [
    {
     "name": "stdout",
     "output_type": "stream",
     "text": [
      "('E1007', 'Mary', 'Thomas', 'Jr. Designer')\n",
      "('E1008', 'Bharath', 'Gupta', 'Jr. Designer')\n"
     ]
    }
   ],
   "source": [
    "ans2 = cursor.fetchall()\n",
    "print(*[row for row in ans2], sep='\\n')"
   ]
  },
  {
   "cell_type": "markdown",
   "metadata": {},
   "source": [
    "\n",
    "Retrieve JOB information and a list of employees whose birth year is after 1976.\n"
   ]
  },
  {
   "cell_type": "markdown",
   "metadata": {},
   "source": [
    "a. Using sub-queries\n",
    "\n"
   ]
  },
  {
   "cell_type": "code",
   "execution_count": 22,
   "metadata": {},
   "outputs": [],
   "source": [
    "p3 = '''SELECT *\n",
    "FROM JOBS\n",
    "WHERE JOB_IDENT IN \n",
    "(\n",
    "    SELECT JOB_ID\n",
    "    FROM EMPLOYEES\n",
    "    WHERE YEAR(B_DATE)>1976 \n",
    "    );'''\n",
    "cursor.execute(p3)"
   ]
  },
  {
   "cell_type": "code",
   "execution_count": 23,
   "metadata": {},
   "outputs": [
    {
     "name": "stdout",
     "output_type": "stream",
     "text": [
      "(300, 'Jr.Software Developer', 40000, 60000)\n",
      "(400, 'Jr.Software Developer', 40000, 60000)\n",
      "(500, 'Jr. Architect', 50000, 70000)\n",
      "(600, 'Lead Architect', 70000, 100000)\n",
      "(660, 'Jr. Designer', 60000, 70000)\n",
      "(234, 'Sr. Designer', 70000, 90000)\n",
      "(220, 'Sr. Designer', 70000, 90000)\n"
     ]
    }
   ],
   "source": [
    "ans3 = cursor.fetchall()\n",
    "print(*[row for row in ans3], sep='\\n')"
   ]
  },
  {
   "cell_type": "markdown",
   "metadata": {},
   "source": [
    "\n",
    "b. Using implicit join\n",
    "\n"
   ]
  },
  {
   "cell_type": "code",
   "execution_count": 24,
   "metadata": {},
   "outputs": [],
   "source": [
    "p4 = '''SELECT *\n",
    "FROM JOBS J, EMPLOYEES E\n",
    "WHERE E.JOB_ID = J.JOB_IDENT AND YEAR(E.B_DATE)>1976;'''\n",
    "cursor.execute(p4)"
   ]
  },
  {
   "cell_type": "code",
   "execution_count": 25,
   "metadata": {},
   "outputs": [
    {
     "name": "stdout",
     "output_type": "stream",
     "text": [
      "(300, 'Jr.Software Developer', 40000, 60000, 'E1003', 'Steve', 'Wells', 123458, '1980-10-08', 'M', '291 Springs, Gary,IL', 300, 50000, 30002, 5)\n",
      "(400, 'Jr.Software Developer', 40000, 60000, 'E1004', 'Santosh', 'Kumar', 123459, '1985-07-20', 'M', '511 Aurora Av, Aurora,IL', 400, 60000, 30002, 5)\n",
      "(500, 'Jr. Architect', 50000, 70000, 'E1005', 'Ahmed', 'Hussain', 123410, '1981-04-01', 'M', '216 Oak Tree, Geneva,IL', 500, 70000, 30001, 2)\n",
      "(600, 'Lead Architect', 70000, 100000, 'E1006', 'Nancy', 'Allen', 123411, '1978-06-02', 'F', '111 Green Pl, Elgin,IL', 600, 90000, 30001, 2)\n",
      "(660, 'Jr. Designer', 60000, 70000, 'E1008', 'Bharath', 'Gupta', 123413, '1985-06-05', 'M', '145 Berry Ln, Naperville,IL', 660, 65000, 30003, 7)\n",
      "(234, 'Sr. Designer', 70000, 90000, 'E1009', 'Andrea', 'Jones', 123414, '1990-09-07', 'F', '120 Fall Creek, Gary,IL', 234, 70000, 30003, 7)\n",
      "(220, 'Sr. Designer', 70000, 90000, 'E1010', 'Ann', 'Jacob', 123415, '1982-03-30', 'F', '111 Britany Springs,Elgin,IL', 220, 70000, 30002, 5)\n"
     ]
    }
   ],
   "source": [
    "ans4 = cursor.fetchall()\n",
    "print(*[row for row in ans4], sep='\\n')"
   ]
  },
  {
   "cell_type": "code",
   "execution_count": 26,
   "metadata": {},
   "outputs": [],
   "source": [
    "conn.commit()\n",
    "conn.close()"
   ]
  }
 ],
 "metadata": {
  "kernelspec": {
   "display_name": "ibm_ds_env",
   "language": "python",
   "name": "python3"
  },
  "language_info": {
   "codemirror_mode": {
    "name": "ipython",
    "version": 3
   },
   "file_extension": ".py",
   "mimetype": "text/x-python",
   "name": "python",
   "nbconvert_exporter": "python",
   "pygments_lexer": "ipython3",
   "version": "3.10.14"
  }
 },
 "nbformat": 4,
 "nbformat_minor": 2
}
