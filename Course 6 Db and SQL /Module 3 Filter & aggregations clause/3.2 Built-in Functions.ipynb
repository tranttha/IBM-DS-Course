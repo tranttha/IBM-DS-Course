{
 "cells": [
  {
   "cell_type": "markdown",
   "metadata": {},
   "source": [
    "# Built-in Functions.ipynb"
   ]
  },
  {
   "cell_type": "code",
   "execution_count": null,
   "metadata": {},
   "outputs": [],
   "source": [
    "import mysql.connector as sql\n",
    "import os as os \n",
    "from dotenv import load_dotenv\n",
    "from sqlalchemy import create_engine\n",
    "import pandas as pd \n",
    "\n",
    "load_dotenv('/workspaces/IBM-DS-Course/.env')\n",
    "\n",
    "user = os.getenv('USER')\n",
    "password = os.getenv('PASSWORD')"
   ]
  },
  {
   "cell_type": "code",
   "execution_count": null,
   "metadata": {},
   "outputs": [],
   "source": [
    "host = 'localhost'\n",
    "port = 3306\n",
    "db = 'PETRESCUE'\n",
    "\n",
    "conn = sql.connect(\n",
    "    host='localhost',\n",
    "    user=user,\n",
    "    password=password,\n",
    "    port=3306)\n",
    "\n",
    "cursor = conn.cursor()"
   ]
  },
  {
   "cell_type": "code",
   "execution_count": 2,
   "metadata": {},
   "outputs": [
    {
     "ename": "NameError",
     "evalue": "name 'conn' is not defined",
     "output_type": "error",
     "traceback": [
      "\u001b[0;31m---------------------------------------------------------------------------\u001b[0m",
      "\u001b[0;31mNameError\u001b[0m                                 Traceback (most recent call last)",
      "Cell \u001b[0;32mIn[2], line 1\u001b[0m\n\u001b[0;32m----> 1\u001b[0m cursor \u001b[38;5;241m=\u001b[39m \u001b[43mconn\u001b[49m\u001b[38;5;241m.\u001b[39mcursor()\n\u001b[1;32m      2\u001b[0m create_db \u001b[38;5;241m=\u001b[39m \u001b[38;5;124mf\u001b[39m\u001b[38;5;124m'\u001b[39m\u001b[38;5;124mCREATE DATABASE IF NOT EXISTS \u001b[39m\u001b[38;5;132;01m{\u001b[39;00mdb\u001b[38;5;132;01m}\u001b[39;00m\u001b[38;5;124m'\u001b[39m\n\u001b[1;32m      3\u001b[0m cursor\u001b[38;5;241m.\u001b[39mexecute(create_db)\n",
      "\u001b[0;31mNameError\u001b[0m: name 'conn' is not defined"
     ]
    }
   ],
   "source": [
    "cursor = conn.cursor()\n",
    "create_db = f'CREATE DATABASE IF NOT EXISTS {db}'\n",
    "cursor.execute(create_db)"
   ]
  },
  {
   "cell_type": "code",
   "execution_count": 3,
   "metadata": {},
   "outputs": [],
   "source": [
    "sql_file_path = '/workspaces/IBM-DS-Course/Course 6 Db and SQL /Module 3 Filter & aggregations clause/3.2 .sql & .csv/PETRESCUE-CREATE.sql'\n",
    "with open(sql_file_path, 'r') as sql_file:\n",
    "    sql_script = sql_file.read()"
   ]
  },
  {
   "cell_type": "markdown",
   "metadata": {},
   "source": [
    "## Aggregation Functions\n"
   ]
  },
  {
   "cell_type": "markdown",
   "metadata": {},
   "source": [
    "Write a query that calculates the total cost of all animal rescues in the PETRESCUE table."
   ]
  },
  {
   "cell_type": "code",
   "execution_count": 6,
   "metadata": {},
   "outputs": [
    {
     "ename": "SyntaxError",
     "evalue": "invalid syntax (3169254762.py, line 1)",
     "output_type": "error",
     "traceback": [
      "\u001b[0;36m  Cell \u001b[0;32mIn[6], line 1\u001b[0;36m\u001b[0m\n\u001b[0;31m    SELECT SUM(COST) FROM PETRESCUE;\u001b[0m\n\u001b[0m           ^\u001b[0m\n\u001b[0;31mSyntaxError\u001b[0m\u001b[0;31m:\u001b[0m invalid syntax\n"
     ]
    }
   ],
   "source": [
    "\n",
    "SELECT SUM(COST) FROM PETRESCUE;\n"
   ]
  },
  {
   "cell_type": "markdown",
   "metadata": {},
   "source": [
    "You can further assign a label to the query SUM_OF_COST.\n"
   ]
  },
  {
   "cell_type": "code",
   "execution_count": null,
   "metadata": {},
   "outputs": [],
   "source": [
    "\n",
    "1\n",
    "SELECT SUM(COST) AS SUM_OF_COST FROM PETRESCUE;\n",
    "Copied!\n"
   ]
  },
  {
   "cell_type": "markdown",
   "metadata": {},
   "source": [
    "Write a query that displays the maximum quantity of animals rescued (of any kind)."
   ]
  },
  {
   "cell_type": "code",
   "execution_count": null,
   "metadata": {},
   "outputs": [],
   "source": [
    "SELECT MAX(QUANTITY) FROM PETRESCUE;"
   ]
  },
  {
   "cell_type": "markdown",
   "metadata": {},
   "source": [
    "The query can easily be changed to display the minimum quantity using the MIN function instead."
   ]
  },
  {
   "cell_type": "code",
   "execution_count": null,
   "metadata": {},
   "outputs": [],
   "source": [
    "SELECT MIN(QUANTITY) FROM PETRESCUE;\n"
   ]
  },
  {
   "cell_type": "markdown",
   "metadata": {},
   "source": [
    "Write a query that displays the average cost of animals rescued."
   ]
  },
  {
   "cell_type": "code",
   "execution_count": null,
   "metadata": {},
   "outputs": [],
   "source": [
    "SELECT AVG(COST) FROM PETRESCUE;\n"
   ]
  },
  {
   "cell_type": "markdown",
   "metadata": {},
   "source": [
    "Scalar Functions and String Functions"
   ]
  },
  {
   "cell_type": "markdown",
   "metadata": {},
   "source": [
    "Write a query that displays the rounded integral cost of each rescue.\n"
   ]
  },
  {
   "cell_type": "code",
   "execution_count": 10,
   "metadata": {},
   "outputs": [
    {
     "ename": "SyntaxError",
     "evalue": "invalid syntax (4013376518.py, line 1)",
     "output_type": "error",
     "traceback": [
      "\u001b[0;36m  Cell \u001b[0;32mIn[10], line 1\u001b[0;36m\u001b[0m\n\u001b[0;31m    SELECT ROUND(COST) FROM PETRESCUE;\u001b[0m\n\u001b[0m           ^\u001b[0m\n\u001b[0;31mSyntaxError\u001b[0m\u001b[0;31m:\u001b[0m invalid syntax\n"
     ]
    }
   ],
   "source": [
    "SELECT ROUND(COST) FROM PETRESCUE;\n"
   ]
  },
  {
   "cell_type": "markdown",
   "metadata": {},
   "source": [
    "The query could also be written as:"
   ]
  },
  {
   "cell_type": "markdown",
   "metadata": {},
   "source": [
    "SELECT ROUND(COST, 0) FROM PETRESCUE;"
   ]
  },
  {
   "cell_type": "markdown",
   "metadata": {},
   "source": [
    "In case the question was to round the value to 2 decimal places, the query would change to:\n"
   ]
  },
  {
   "cell_type": "code",
   "execution_count": 13,
   "metadata": {},
   "outputs": [
    {
     "ename": "SyntaxError",
     "evalue": "invalid syntax (3207308883.py, line 1)",
     "output_type": "error",
     "traceback": [
      "\u001b[0;36m  Cell \u001b[0;32mIn[13], line 1\u001b[0;36m\u001b[0m\n\u001b[0;31m    SELECT ROUND(COST, 2) FROM PETRESCUE;\u001b[0m\n\u001b[0m           ^\u001b[0m\n\u001b[0;31mSyntaxError\u001b[0m\u001b[0;31m:\u001b[0m invalid syntax\n"
     ]
    }
   ],
   "source": [
    "SELECT ROUND(COST, 2) FROM PETRESCUE;"
   ]
  },
  {
   "cell_type": "markdown",
   "metadata": {},
   "source": [
    "Write a query that displays the length of each animal name."
   ]
  },
  {
   "cell_type": "code",
   "execution_count": null,
   "metadata": {},
   "outputs": [],
   "source": [
    "SELECT LENGTH(ANIMAL) FROM PETRESCUE;"
   ]
  },
  {
   "cell_type": "markdown",
   "metadata": {},
   "source": [
    "Write a query that displays the animal name in each rescue in uppercase"
   ]
  },
  {
   "cell_type": "code",
   "execution_count": 16,
   "metadata": {},
   "outputs": [
    {
     "ename": "SyntaxError",
     "evalue": "invalid syntax (2146887161.py, line 1)",
     "output_type": "error",
     "traceback": [
      "\u001b[0;36m  Cell \u001b[0;32mIn[16], line 1\u001b[0;36m\u001b[0m\n\u001b[0;31m    SELECT UCASE(ANIMAL) FROM PETRESCUE;\u001b[0m\n\u001b[0m           ^\u001b[0m\n\u001b[0;31mSyntaxError\u001b[0m\u001b[0;31m:\u001b[0m invalid syntax\n"
     ]
    }
   ],
   "source": [
    "SELECT UCASE(ANIMAL) FROM PETRESCUE;"
   ]
  },
  {
   "cell_type": "markdown",
   "metadata": {},
   "source": [
    "Just as easily, the user could ask for a lower case representation, and the query would be changed to:"
   ]
  },
  {
   "cell_type": "code",
   "execution_count": 18,
   "metadata": {},
   "outputs": [
    {
     "ename": "SyntaxError",
     "evalue": "invalid syntax (1971660783.py, line 1)",
     "output_type": "error",
     "traceback": [
      "\u001b[0;36m  Cell \u001b[0;32mIn[18], line 1\u001b[0;36m\u001b[0m\n\u001b[0;31m    SELECT LCASE(ANIMAL) FROM PETRESCUE;\u001b[0m\n\u001b[0m           ^\u001b[0m\n\u001b[0;31mSyntaxError\u001b[0m\u001b[0;31m:\u001b[0m invalid syntax\n"
     ]
    }
   ],
   "source": [
    "SELECT LCASE(ANIMAL) FROM PETRESCUE;"
   ]
  },
  {
   "cell_type": "markdown",
   "metadata": {},
   "source": [
    "Date Functions\n",
    "Write a query that displays the rescue date.\n",
    "For this query, we will use the function DAY(COLUMN_NAME). The output of this query will be only the DAY part of the date in the column. The query for this question can be written as:\n",
    "\n",
    "1\n",
    "SELECT DAY(RESCUEDATE) FROM PETRESCUE;\n",
    "Copied!\n",
    "In case the query was asking for MONTH of rescue, the query would change to:\n",
    "\n",
    "1\n",
    "SELECT MONTH(RESCUEDATE) FROM PETRESCUE;\n",
    "Copied!\n",
    "In case the query was asking for YEAR of rescue, the query would change to:\n",
    "\n",
    "1\n",
    "SELECT YEAR(RESCUEDATE) FROM PETRESCUE;\n",
    "Copied!\n",
    "Animals rescued should see the vet within three days of arrival. Write a query that displays the third day of each rescue.\n",
    "For this query, we will use the function DATE_ADD(COLUMN_NAME, INTERVAL Number Date_element). Here, the quantity in Number and in Date_element will combine to form the interval to be added to the date in the column. For the given question, the query would be:\n",
    "\n",
    "1\n",
    "SELECT DATE_ADD(RESCUEDATE, INTERVAL 3 DAY) FROM PETRESCUE\n",
    "Copied!\n",
    "If the question was to add 2 months to the date, the query would change to:\n",
    "\n",
    "1\n",
    "SELECT DATE_ADD(RESCUEDATE, INTERVAL 2 MONTH) FROM PETRESCUE\n",
    "Copied!\n",
    "Similarly, we can retrieve a date before the one given in the column by a given number using the function DATE_SUB. By modifying the same example, the following query would provide the date 3 days before the rescue.\n",
    "\n",
    "1\n",
    "SELECT DATE_SUB(RESCUEDATE, INTERVAL 3 DAY) FROM PETRESCUE\n",
    "Copied!\n",
    "Write a query that displays the length of time the animals have been rescued, for example, the difference between the current date and the rescue date.\n",
    "For this query, we will use the function DATEDIFF(Date_1, Date_2). This function calculates the difference between the two given dates and gives the output in number of days. For the given question, the query would be:\n",
    "\n",
    "1\n",
    "SELECT DATEDIFF(CURRENT_DATE, RESCUEDATE) FROM PETRESCUE\n",
    "Copied!\n",
    "CURRENT_DATE is also an inbuilt function that returns the present date as known to the server.\n",
    "\n",
    "To present the output in a YYYY-MM-DD format, another function FROM_DAYS(number_of_days)can be used. This function takes a number of days and returns the required formatted output. The query above would thus be modified to\n",
    "\n",
    "1\n",
    "SELECT FROM_DAYS(DATEDIFF(CURRENT_DATE, RESCUEDATE)) FROM PETRESCUE"
   ]
  },
  {
   "cell_type": "markdown",
   "metadata": {},
   "source": [
    "Practice Problems\n",
    "Write a query that displays the average cost of rescuing a single dog. Note that the cost per dog would not be the same in different instances.\n",
    "Click here for a hint\n",
    "Click here for the solution\n",
    "Write a query that displays the animal name in each rescue in uppercase without duplications.\n",
    "Click here for a hint\n",
    "Click here for the solution\n",
    "Write a query that displays all the columns from the PETRESCUE table where the animal(s) rescued are cats. Use cat in lowercase in the query.\n",
    "Click here for a hint\n",
    "Click here for the solution\n",
    "Write a query that displays the number of rescues in the 5th month.\n",
    "Click here for a hint\n",
    "Click here for the solution\n",
    "The rescue shelter is supposed to find good homes for all animals within 1 year of their rescue. Write a query that displays the ID and the target date.\n",
    "Click here for a hint\n",
    "Click here for Solution"
   ]
  },
  {
   "cell_type": "markdown",
   "metadata": {},
   "source": []
  }
 ],
 "metadata": {
  "kernelspec": {
   "display_name": "ibm_ds_env",
   "language": "python",
   "name": "python3"
  },
  "language_info": {
   "codemirror_mode": {
    "name": "ipython",
    "version": 3
   },
   "file_extension": ".py",
   "mimetype": "text/x-python",
   "name": "python",
   "nbconvert_exporter": "python",
   "pygments_lexer": "ipython3",
   "version": "3.10.14"
  }
 },
 "nbformat": 4,
 "nbformat_minor": 2
}
