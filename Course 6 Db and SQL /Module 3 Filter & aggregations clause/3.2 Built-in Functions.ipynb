{
 "cells": [
  {
   "cell_type": "markdown",
   "metadata": {},
   "source": [
    "# Built-in Functions.ipynb"
   ]
  },
  {
   "cell_type": "code",
   "execution_count": 19,
   "metadata": {},
   "outputs": [],
   "source": [
    "import mysql.connector as sql\n",
    "import os as os \n",
    "from dotenv import load_dotenv\n",
    "from sqlalchemy import create_engine\n",
    "import pandas as pd \n",
    "\n",
    "load_dotenv('/workspaces/IBM-DS-Course/.env')\n",
    "\n",
    "user = os.getenv('USER')\n",
    "password = os.getenv('PASSWORD')"
   ]
  },
  {
   "cell_type": "code",
   "execution_count": 20,
   "metadata": {},
   "outputs": [],
   "source": [
    "host = 'localhost'\n",
    "port = 3306\n",
    "db = 'PETRESCUE'\n",
    "\n",
    "conn = sql.connect(\n",
    "    host='localhost',\n",
    "    user=user,\n",
    "    password=password,\n",
    "    port=3306)\n",
    "\n",
    "cursor = conn.cursor()"
   ]
  },
  {
   "cell_type": "code",
   "execution_count": 21,
   "metadata": {},
   "outputs": [],
   "source": [
    "cursor = conn.cursor()\n",
    "create_db = f'CREATE DATABASE IF NOT EXISTS {db}'\n",
    "cursor.execute(create_db)"
   ]
  },
  {
   "cell_type": "code",
   "execution_count": 22,
   "metadata": {},
   "outputs": [],
   "source": [
    "sql_file_path = '/workspaces/IBM-DS-Course/Course 6 Db and SQL /Module 3 Filter & aggregations clause/3.2 .sql & .csv/PETRESCUE-CREATE.sql'\n",
    "with open(sql_file_path, 'r') as sql_file:\n",
    "    sql_script = sql_file.read()"
   ]
  },
  {
   "cell_type": "code",
   "execution_count": 25,
   "metadata": {},
   "outputs": [
    {
     "name": "stdout",
     "output_type": "stream",
     "text": [
      "Sucess\n",
      "Sucess\n",
      "Sucess\n",
      "Sucess\n"
     ]
    }
   ],
   "source": [
    "use = f'USE {db}'\n",
    "cursor.execute(use)\n",
    "try:\n",
    "    for stm in sql_script.split(';'):\n",
    "        if stm.strip():\n",
    "            cursor.execute(stm)\n",
    "        conn.commit()\n",
    "        print(\"Sucess\")\n",
    "except Exception as e:\n",
    "    print(f\"Failed because {e}\")"
   ]
  },
  {
   "cell_type": "markdown",
   "metadata": {},
   "source": [
    "## Aggregation Functions\n"
   ]
  },
  {
   "cell_type": "markdown",
   "metadata": {},
   "source": [
    "Write a query that calculates the total cost of all animal rescues in the PETRESCUE table."
   ]
  },
  {
   "cell_type": "code",
   "execution_count": 26,
   "metadata": {},
   "outputs": [
    {
     "name": "stdout",
     "output_type": "stream",
     "text": [
      "(Decimal('1718.24'),)\n"
     ]
    }
   ],
   "source": [
    "q1 = \"SELECT SUM(COST) FROM PETRESCUE;\"\n",
    "cursor.execute(q1)\n",
    "output = cursor.fetchall()\n",
    "for row in output:\n",
    "    print(row)"
   ]
  },
  {
   "cell_type": "markdown",
   "metadata": {},
   "source": [
    "You can further assign a label to the query SUM_OF_COST.\n"
   ]
  },
  {
   "cell_type": "code",
   "execution_count": 27,
   "metadata": {},
   "outputs": [
    {
     "name": "stdout",
     "output_type": "stream",
     "text": [
      "(Decimal('1718.24'),)\n"
     ]
    }
   ],
   "source": [
    "q2 = \"SELECT SUM(COST) AS SUM_OF_COST FROM PETRESCUE;\"\n",
    "cursor.execute(q2)\n",
    "output = cursor.fetchall()\n",
    "for row in output:\n",
    "    print(row)"
   ]
  },
  {
   "cell_type": "markdown",
   "metadata": {},
   "source": [
    "Write a query that displays the maximum quantity of animals rescued (of any kind)."
   ]
  },
  {
   "cell_type": "code",
   "execution_count": 28,
   "metadata": {},
   "outputs": [
    {
     "name": "stdout",
     "output_type": "stream",
     "text": [
      "(24,)\n"
     ]
    }
   ],
   "source": [
    "q3 = \"SELECT MAX(QUANTITY) FROM PETRESCUE;\"\n",
    "cursor.execute(q3)\n",
    "output = cursor.fetchall()\n",
    "for row in output:\n",
    "    print(row)"
   ]
  },
  {
   "cell_type": "markdown",
   "metadata": {},
   "source": [
    "The query can easily be changed to display the minimum quantity using the MIN function instead."
   ]
  },
  {
   "cell_type": "code",
   "execution_count": 29,
   "metadata": {},
   "outputs": [
    {
     "name": "stdout",
     "output_type": "stream",
     "text": [
      "(1,)\n"
     ]
    }
   ],
   "source": [
    "q4 = \"SELECT MIN(QUANTITY) FROM PETRESCUE;\"\n",
    "cursor.execute(q4)\n",
    "output = cursor.fetchall()\n",
    "for row in output:\n",
    "    print(row)"
   ]
  },
  {
   "cell_type": "markdown",
   "metadata": {},
   "source": [
    "Write a query that displays the average cost of animals rescued."
   ]
  },
  {
   "cell_type": "code",
   "execution_count": 30,
   "metadata": {},
   "outputs": [
    {
     "name": "stdout",
     "output_type": "stream",
     "text": [
      "(Decimal('190.915556'),)\n"
     ]
    }
   ],
   "source": [
    "q5 = \"SELECT AVG(COST) FROM PETRESCUE;\"\n",
    "cursor.execute(q5)\n",
    "output = cursor.fetchall()\n",
    "for row in output:\n",
    "    print(row)"
   ]
  },
  {
   "cell_type": "markdown",
   "metadata": {},
   "source": [
    "Scalar Functions and String Functions"
   ]
  },
  {
   "cell_type": "markdown",
   "metadata": {},
   "source": [
    "Write a query that displays the rounded integral cost of each rescue.\n"
   ]
  },
  {
   "cell_type": "code",
   "execution_count": 32,
   "metadata": {},
   "outputs": [
    {
     "name": "stdout",
     "output_type": "stream",
     "text": [
      "(Decimal('450'),)\n",
      "(Decimal('667'),)\n",
      "(Decimal('100'),)\n",
      "(Decimal('50'),)\n",
      "(Decimal('76'),)\n",
      "(Decimal('61'),)\n",
      "(Decimal('44'),)\n",
      "(Decimal('48'),)\n",
      "(Decimal('222'),)\n"
     ]
    }
   ],
   "source": [
    "q6 = \"SELECT ROUND(COST) FROM PETRESCUE;\"\n",
    "cursor.execute(q6)\n",
    "output = cursor.fetchall()\n",
    "for row in output:\n",
    "    print(row)"
   ]
  },
  {
   "cell_type": "markdown",
   "metadata": {},
   "source": [
    "The query could also be written as:"
   ]
  },
  {
   "cell_type": "code",
   "execution_count": 34,
   "metadata": {},
   "outputs": [
    {
     "name": "stdout",
     "output_type": "stream",
     "text": [
      "(Decimal('450'),)\n",
      "(Decimal('667'),)\n",
      "(Decimal('100'),)\n",
      "(Decimal('50'),)\n",
      "(Decimal('76'),)\n",
      "(Decimal('61'),)\n",
      "(Decimal('44'),)\n",
      "(Decimal('48'),)\n",
      "(Decimal('222'),)\n"
     ]
    }
   ],
   "source": [
    "q6_5 = \"SELECT ROUND(COST, 0) FROM PETRESCUE;\"\n",
    "cursor.execute(q6_5)\n",
    "output = cursor.fetchall()\n",
    "for row in output:\n",
    "    print(row)"
   ]
  },
  {
   "cell_type": "markdown",
   "metadata": {},
   "source": [
    "In case the question was to round the value to 2 decimal places, the query would change to:\n"
   ]
  },
  {
   "cell_type": "code",
   "execution_count": 35,
   "metadata": {},
   "outputs": [
    {
     "name": "stdout",
     "output_type": "stream",
     "text": [
      "(Decimal('450.09'),)\n",
      "(Decimal('666.66'),)\n",
      "(Decimal('100.00'),)\n",
      "(Decimal('50.00'),)\n",
      "(Decimal('75.75'),)\n",
      "(Decimal('60.60'),)\n",
      "(Decimal('44.44'),)\n",
      "(Decimal('48.48'),)\n",
      "(Decimal('222.22'),)\n"
     ]
    }
   ],
   "source": [
    "q7 = \"SELECT ROUND(COST, 2) FROM PETRESCUE;\"\n",
    "cursor.execute(q7)\n",
    "output = cursor.fetchall()\n",
    "for row in output:\n",
    "    print(row)\n"
   ]
  },
  {
   "cell_type": "markdown",
   "metadata": {},
   "source": [
    "Write a query that displays the length of each animal name."
   ]
  },
  {
   "cell_type": "code",
   "execution_count": 36,
   "metadata": {},
   "outputs": [
    {
     "name": "stdout",
     "output_type": "stream",
     "text": [
      "(3,)\n",
      "(3,)\n",
      "(3,)\n",
      "(6,)\n",
      "(3,)\n",
      "(7,)\n",
      "(3,)\n",
      "(8,)\n",
      "(3,)\n"
     ]
    }
   ],
   "source": [
    "q8 = \"SELECT LENGTH(ANIMAL) FROM PETRESCUE;\"\n",
    "cursor.execute(q8)\n",
    "output = cursor.fetchall()\n",
    "for row in output:\n",
    "    print(row)"
   ]
  },
  {
   "cell_type": "markdown",
   "metadata": {},
   "source": [
    "Write a query that displays the animal name in each rescue in uppercase"
   ]
  },
  {
   "cell_type": "code",
   "execution_count": 37,
   "metadata": {},
   "outputs": [
    {
     "name": "stdout",
     "output_type": "stream",
     "text": [
      "('CAT',)\n",
      "('DOG',)\n",
      "('DOG',)\n",
      "('PARROT',)\n",
      "('DOG',)\n",
      "('HAMSTER',)\n",
      "('CAT',)\n",
      "('GOLDFISH',)\n",
      "('DOG',)\n"
     ]
    }
   ],
   "source": [
    "q9 = \"SELECT UCASE(ANIMAL) FROM PETRESCUE;\"\n",
    "cursor.execute(q9)\n",
    "output = cursor.fetchall()\n",
    "for row in output:\n",
    "    print(row)"
   ]
  },
  {
   "cell_type": "markdown",
   "metadata": {},
   "source": [
    "Just as easily, the user could ask for a lower case representation, and the query would be changed to:"
   ]
  },
  {
   "cell_type": "code",
   "execution_count": 38,
   "metadata": {},
   "outputs": [
    {
     "name": "stdout",
     "output_type": "stream",
     "text": [
      "('cat',)\n",
      "('dog',)\n",
      "('dog',)\n",
      "('parrot',)\n",
      "('dog',)\n",
      "('hamster',)\n",
      "('cat',)\n",
      "('goldfish',)\n",
      "('dog',)\n"
     ]
    }
   ],
   "source": [
    "q10 = \"SELECT LCASE(ANIMAL) FROM PETRESCUE;\"\n",
    "cursor.execute(q10)\n",
    "output = cursor.fetchall()\n",
    "for row in output:\n",
    "    print(row)"
   ]
  },
  {
   "cell_type": "markdown",
   "metadata": {},
   "source": [
    "# Date Functions\n"
   ]
  },
  {
   "cell_type": "markdown",
   "metadata": {},
   "source": [
    "Write a query that displays the rescue date.\n",
    "\n"
   ]
  },
  {
   "cell_type": "code",
   "execution_count": 39,
   "metadata": {},
   "outputs": [
    {
     "name": "stdout",
     "output_type": "stream",
     "text": [
      "(29,)\n",
      "(1,)\n",
      "(4,)\n",
      "(4,)\n",
      "(10,)\n",
      "(11,)\n",
      "(11,)\n",
      "(14,)\n",
      "(15,)\n"
     ]
    }
   ],
   "source": [
    "q11 = \"SELECT DAY(RESCUEDATE) FROM PETRESCUE;\"\n",
    "cursor.execute(q11)\n",
    "output = cursor.fetchall()\n",
    "for row in output:\n",
    "    print(row)"
   ]
  },
  {
   "cell_type": "markdown",
   "metadata": {},
   "source": [
    "In case the query was asking for MONTH of rescue, the query would change to:\n"
   ]
  },
  {
   "cell_type": "code",
   "execution_count": 40,
   "metadata": {},
   "outputs": [
    {
     "name": "stdout",
     "output_type": "stream",
     "text": [
      "(5,)\n",
      "(6,)\n",
      "(6,)\n",
      "(6,)\n",
      "(6,)\n",
      "(6,)\n",
      "(6,)\n",
      "(6,)\n",
      "(6,)\n"
     ]
    }
   ],
   "source": [
    "q12 = \"SELECT MONTH(RESCUEDATE) FROM PETRESCUE;\"\n",
    "cursor.execute(q12)\n",
    "output = cursor.fetchall()\n",
    "for row in output:\n",
    "    print(row)"
   ]
  },
  {
   "cell_type": "markdown",
   "metadata": {},
   "source": [
    "In case the query was asking for YEAR of rescue, the query would change to:"
   ]
  },
  {
   "cell_type": "code",
   "execution_count": 41,
   "metadata": {},
   "outputs": [
    {
     "name": "stdout",
     "output_type": "stream",
     "text": [
      "(2018,)\n",
      "(2018,)\n",
      "(2018,)\n",
      "(2018,)\n",
      "(2018,)\n",
      "(2018,)\n",
      "(2018,)\n",
      "(2018,)\n",
      "(2018,)\n"
     ]
    }
   ],
   "source": [
    "q13 = \"SELECT YEAR(RESCUEDATE) FROM PETRESCUE;\"\n",
    "cursor.execute(q13)\n",
    "output = cursor.fetchall()\n",
    "for row in output:\n",
    "    print(row)"
   ]
  },
  {
   "cell_type": "markdown",
   "metadata": {},
   "source": [
    "Animals rescued should see the vet within three days of arrival. Write a query that displays the third day of each rescue."
   ]
  },
  {
   "cell_type": "code",
   "execution_count": 42,
   "metadata": {},
   "outputs": [
    {
     "name": "stdout",
     "output_type": "stream",
     "text": [
      "(datetime.date(2018, 6, 1),)\n",
      "(datetime.date(2018, 6, 4),)\n",
      "(datetime.date(2018, 6, 7),)\n",
      "(datetime.date(2018, 6, 7),)\n",
      "(datetime.date(2018, 6, 13),)\n",
      "(datetime.date(2018, 6, 14),)\n",
      "(datetime.date(2018, 6, 14),)\n",
      "(datetime.date(2018, 6, 17),)\n",
      "(datetime.date(2018, 6, 18),)\n"
     ]
    }
   ],
   "source": [
    "q14 = \"SELECT DATE_ADD(RESCUEDATE, INTERVAL 3 DAY) FROM PETRESCUE;\"\n",
    "cursor.execute(q14)\n",
    "output = cursor.fetchall()\n",
    "for row in output:\n",
    "    print(row)"
   ]
  },
  {
   "cell_type": "markdown",
   "metadata": {},
   "source": [
    "If the question was to add 2 months to the date, the query would change to:"
   ]
  },
  {
   "cell_type": "code",
   "execution_count": 43,
   "metadata": {},
   "outputs": [
    {
     "name": "stdout",
     "output_type": "stream",
     "text": [
      "(datetime.date(2018, 7, 29),)\n",
      "(datetime.date(2018, 8, 1),)\n",
      "(datetime.date(2018, 8, 4),)\n",
      "(datetime.date(2018, 8, 4),)\n",
      "(datetime.date(2018, 8, 10),)\n",
      "(datetime.date(2018, 8, 11),)\n",
      "(datetime.date(2018, 8, 11),)\n",
      "(datetime.date(2018, 8, 14),)\n",
      "(datetime.date(2018, 8, 15),)\n"
     ]
    }
   ],
   "source": [
    "q15 = \"SELECT DATE_ADD(RESCUEDATE, INTERVAL 2 MONTH) FROM PETRESCUE;\"\n",
    "cursor.execute(q15)\n",
    "output = cursor.fetchall()\n",
    "for row in output:\n",
    "    print(row)"
   ]
  },
  {
   "cell_type": "markdown",
   "metadata": {},
   "source": [
    "Similarly, we can retrieve a date before the one given in the column by a given number using the function DATE_SUB. "
   ]
  },
  {
   "cell_type": "code",
   "execution_count": 44,
   "metadata": {},
   "outputs": [
    {
     "name": "stdout",
     "output_type": "stream",
     "text": [
      "(datetime.date(2018, 5, 26),)\n",
      "(datetime.date(2018, 5, 29),)\n",
      "(datetime.date(2018, 6, 1),)\n",
      "(datetime.date(2018, 6, 1),)\n",
      "(datetime.date(2018, 6, 7),)\n",
      "(datetime.date(2018, 6, 8),)\n",
      "(datetime.date(2018, 6, 8),)\n",
      "(datetime.date(2018, 6, 11),)\n",
      "(datetime.date(2018, 6, 12),)\n"
     ]
    }
   ],
   "source": [
    "q16 = \"SELECT DATE_SUB(RESCUEDATE, INTERVAL 3 DAY) FROM PETRESCUE;\"\n",
    "cursor.execute(q16)\n",
    "output = cursor.fetchall()\n",
    "for row in output:\n",
    "    print(row)"
   ]
  },
  {
   "cell_type": "markdown",
   "metadata": {},
   "source": [
    "Write a query that displays the length of time the animals have been rescued, for example, the difference between the current date and the rescue date."
   ]
  },
  {
   "cell_type": "code",
   "execution_count": 45,
   "metadata": {},
   "outputs": [
    {
     "name": "stdout",
     "output_type": "stream",
     "text": [
      "(2247,)\n",
      "(2244,)\n",
      "(2241,)\n",
      "(2241,)\n",
      "(2235,)\n",
      "(2234,)\n",
      "(2234,)\n",
      "(2231,)\n",
      "(2230,)\n"
     ]
    }
   ],
   "source": [
    "q17 = \"SELECT DATEDIFF(CURRENT_DATE, RESCUEDATE) FROM PETRESCUE;\"\n",
    "cursor.execute(q17)\n",
    "output = cursor.fetchall()\n",
    "for row in output:\n",
    "    print(row)"
   ]
  },
  {
   "cell_type": "markdown",
   "metadata": {},
   "source": [
    "CURRENT_DATE is also an inbuilt function that returns the present date as known to the server."
   ]
  },
  {
   "cell_type": "markdown",
   "metadata": {},
   "source": [
    "To present the output in a YYYY-MM-DD format, another function FROM_DAYS(number_of_days)can be used. This function takes a number of days and returns the required formatted output. "
   ]
  },
  {
   "cell_type": "code",
   "execution_count": 46,
   "metadata": {},
   "outputs": [
    {
     "name": "stdout",
     "output_type": "stream",
     "text": [
      "(datetime.date(6, 2, 25),)\n",
      "(datetime.date(6, 2, 22),)\n",
      "(datetime.date(6, 2, 19),)\n",
      "(datetime.date(6, 2, 19),)\n",
      "(datetime.date(6, 2, 13),)\n",
      "(datetime.date(6, 2, 12),)\n",
      "(datetime.date(6, 2, 12),)\n",
      "(datetime.date(6, 2, 9),)\n",
      "(datetime.date(6, 2, 8),)\n"
     ]
    }
   ],
   "source": [
    "q18 = \"SELECT FROM_DAYS(DATEDIFF(CURRENT_DATE, RESCUEDATE)) FROM PETRESCUE\"\n",
    "cursor.execute(q18)\n",
    "output = cursor.fetchall()\n",
    "for row in output:\n",
    "    print(row)"
   ]
  },
  {
   "cell_type": "markdown",
   "metadata": {},
   "source": [
    "## Practice Problems\n"
   ]
  },
  {
   "cell_type": "markdown",
   "metadata": {},
   "source": [
    "Write a query that displays the average cost of rescuing a single dog. Note that the cost per dog would not be the same in different instances."
   ]
  },
  {
   "cell_type": "code",
   "execution_count": 47,
   "metadata": {},
   "outputs": [
    {
     "name": "stdout",
     "output_type": "stream",
     "text": [
      "(Decimal('127.2700000000'),)\n"
     ]
    }
   ],
   "source": [
    "p1 = \"SELECT AVG(COST/QUANTITY) FROM PETRESCUE WHERE ANIMAL = 'Dog';\"\n",
    "cursor.execute(p1)\n",
    "output = cursor.fetchall()\n",
    "for row in output:\n",
    "    print(row)\n"
   ]
  },
  {
   "cell_type": "markdown",
   "metadata": {},
   "source": [
    "Write a query that displays the animal name in each rescue in uppercase without duplications.\n",
    "\n"
   ]
  },
  {
   "cell_type": "code",
   "execution_count": 48,
   "metadata": {},
   "outputs": [
    {
     "name": "stdout",
     "output_type": "stream",
     "text": [
      "('CAT',)\n",
      "('DOG',)\n",
      "('PARROT',)\n",
      "('HAMSTER',)\n",
      "('GOLDFISH',)\n"
     ]
    }
   ],
   "source": [
    "p2 = \"SELECT DISTINCT UCASE(ANIMAL) FROM PETRESCUE;;\"\n",
    "cursor.execute(p2)\n",
    "output = cursor.fetchall()\n",
    "for row in output:\n",
    "    print(row)"
   ]
  },
  {
   "cell_type": "markdown",
   "metadata": {},
   "source": [
    "Write a query that displays all the columns from the PETRESCUE table where the animal(s) rescued are cats. Use cat in lowercase in the query.\n"
   ]
  },
  {
   "cell_type": "code",
   "execution_count": 51,
   "metadata": {},
   "outputs": [
    {
     "name": "stdout",
     "output_type": "stream",
     "text": [
      "(1, 'Cat', 9, Decimal('450.09'), datetime.date(2018, 5, 29))\n",
      "(7, 'Cat', 1, Decimal('44.44'), datetime.date(2018, 6, 11))\n"
     ]
    }
   ],
   "source": [
    "p3 = \"SELECT * FROM PETRESCUE WHERE LCASE(ANIMAL)='cat';\"\n",
    "cursor.execute(p3)\n",
    "output = cursor.fetchall()\n",
    "for row in output:\n",
    "    print(row)"
   ]
  },
  {
   "cell_type": "markdown",
   "metadata": {},
   "source": [
    "Write a query that displays the number of rescues in the 5th month.\n"
   ]
  },
  {
   "cell_type": "code",
   "execution_count": 53,
   "metadata": {},
   "outputs": [
    {
     "name": "stdout",
     "output_type": "stream",
     "text": [
      "(Decimal('9'),)\n"
     ]
    }
   ],
   "source": [
    "p4 = \"SELECT SUM(QUANTITY) FROM PETRESCUE WHERE MONTH(RESCUEDATE)='05';\"\n",
    "cursor.execute(p4)\n",
    "output = cursor.fetchall()\n",
    "for row in output:\n",
    "    print(row)"
   ]
  },
  {
   "cell_type": "markdown",
   "metadata": {},
   "source": [
    "The rescue shelter is supposed to find good homes for all animals within 1 year of their rescue. Write a query that displays the ID and the target date.\n"
   ]
  },
  {
   "cell_type": "code",
   "execution_count": 55,
   "metadata": {},
   "outputs": [
    {
     "name": "stdout",
     "output_type": "stream",
     "text": [
      "(1, datetime.date(2019, 5, 29))\n",
      "(2, datetime.date(2019, 6, 1))\n",
      "(3, datetime.date(2019, 6, 4))\n",
      "(4, datetime.date(2019, 6, 4))\n",
      "(5, datetime.date(2019, 6, 10))\n",
      "(6, datetime.date(2019, 6, 11))\n",
      "(7, datetime.date(2019, 6, 11))\n",
      "(8, datetime.date(2019, 6, 14))\n",
      "(9, datetime.date(2019, 6, 15))\n"
     ]
    }
   ],
   "source": [
    "p5 = \"SELECT ID, DATE_ADD(RESCUEDATE, INTERVAL 1 YEAR) FROM PETRESCUE;\"\n",
    "cursor.execute(p5)\n",
    "output = cursor.fetchall()\n",
    "for row in output:\n",
    "    print(row)"
   ]
  },
  {
   "cell_type": "code",
   "execution_count": 56,
   "metadata": {},
   "outputs": [],
   "source": [
    "conn.commit()\n",
    "conn.close()"
   ]
  }
 ],
 "metadata": {
  "kernelspec": {
   "display_name": "ibm_ds_env",
   "language": "python",
   "name": "python3"
  },
  "language_info": {
   "codemirror_mode": {
    "name": "ipython",
    "version": 3
   },
   "file_extension": ".py",
   "mimetype": "text/x-python",
   "name": "python",
   "nbconvert_exporter": "python",
   "pygments_lexer": "ipython3",
   "version": "3.10.14"
  }
 },
 "nbformat": 4,
 "nbformat_minor": 2
}
