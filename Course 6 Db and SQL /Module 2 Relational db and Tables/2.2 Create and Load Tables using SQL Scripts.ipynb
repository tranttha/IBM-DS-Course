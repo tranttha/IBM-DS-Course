{
 "cells": [
  {
   "cell_type": "markdown",
   "metadata": {},
   "source": [
    "# Create and Load Tables using SQL Scripts"
   ]
  },
  {
   "cell_type": "markdown",
   "metadata": {},
   "source": [
    "Database Used in this Lab\n",
    "The database used in this lab is internal. You will be working on a sample Cardio-Vascular Diseases (CVD) database. This CVD database schema consists of five tables: PATIENTS, MEDICAL_HISTORY, MEDICAL_PROCEDURES, MEDICAL_DEPARTMENTS, and MEDICAL_LOCATIONS."
   ]
  },
  {
   "cell_type": "markdown",
   "metadata": {},
   "source": [
    "Your task is to create this database in MySQL. This task is divided into three parts.\n"
   ]
  },
  {
   "cell_type": "code",
   "execution_count": 25,
   "metadata": {},
   "outputs": [],
   "source": [
    "\n",
    "import mysql.connector as sql\n",
    "import os as os \n",
    "from dotenv import load_dotenv\n",
    "from sqlalchemy import create_engine\n",
    "import pandas as pd "
   ]
  },
  {
   "cell_type": "code",
   "execution_count": 26,
   "metadata": {},
   "outputs": [],
   "source": [
    "\n",
    "\n",
    "load_dotenv('/workspaces/IBM-DS-Course/.env')\n",
    "\n",
    "user = os.getenv('USER')\n",
    "password = os.getenv('PASSWORD')\n"
   ]
  },
  {
   "cell_type": "markdown",
   "metadata": {},
   "source": [
    "\n",
    "Task 1: Create the database on MySQL using the phpMyAdmin GUI.\n"
   ]
  },
  {
   "cell_type": "code",
   "execution_count": 27,
   "metadata": {},
   "outputs": [],
   "source": [
    "conn = sql.connect(\n",
    "    host='localhost',\n",
    "    user=user,\n",
    "    password=password,\n",
    "    port=3306)\n",
    "\n",
    "cursor = conn.cursor()\n"
   ]
  },
  {
   "cell_type": "code",
   "execution_count": 28,
   "metadata": {},
   "outputs": [],
   "source": [
    "cursor.execute(\"CREATE DATABASE IF NOT EXISTS CVD\")"
   ]
  },
  {
   "cell_type": "code",
   "execution_count": 29,
   "metadata": {},
   "outputs": [],
   "source": [
    "sql_file_path = '/workspaces/IBM-DS-Course/Course 6 Db and SQL /Module 2 Relational db and Tables/2.2. .sql and .csv/CVD_Database_Create_Tables_Script.sql'\n",
    "\n",
    "with open(sql_file_path, 'r') as file:\n",
    "    sql_script = file.read()"
   ]
  },
  {
   "cell_type": "markdown",
   "metadata": {},
   "source": [
    "\n",
    "Task 2: Create all the tables in MySQL using an SQL script.\n"
   ]
  },
  {
   "cell_type": "code",
   "execution_count": 30,
   "metadata": {},
   "outputs": [
    {
     "name": "stdout",
     "output_type": "stream",
     "text": [
      "SQL script executed successfully\n"
     ]
    }
   ],
   "source": [
    "cursor.execute(\"USE CVD\")\n",
    "try:\n",
    "    for statement in sql_script.split(';'):\n",
    "        if statement.strip():  # Execute non-empty statements\n",
    "            cursor.execute(statement)\n",
    "    conn.commit()  # Commit the changes\n",
    "    print(\"SQL script executed successfully\")\n",
    "except Exception as e:\n",
    "    print(f\"An error occurred: {e}\")\n"
   ]
  },
  {
   "cell_type": "markdown",
   "metadata": {},
   "source": [
    "\n",
    "Task 3: Populate each table with the data in respective CSV files."
   ]
  },
  {
   "cell_type": "code",
   "execution_count": 47,
   "metadata": {},
   "outputs": [],
   "source": [
    "patients = '/workspaces/IBM-DS-Course/Course 6 Db and SQL /Module 2 Relational db and Tables/2.2. .sql and .csv/PATIENTS.csv'\n",
    "md_procedure = '/workspaces/IBM-DS-Course/Course 6 Db and SQL /Module 2 Relational db and Tables/2.2. .sql and .csv/MEDICAL_PROCEDURES.csv'\n",
    "md_history = '/workspaces/IBM-DS-Course/Course 6 Db and SQL /Module 2 Relational db and Tables/2.2. .sql and .csv/MEDICAL_HISTORY.csv'\n",
    "md_department ='/workspaces/IBM-DS-Course/Course 6 Db and SQL /Module 2 Relational db and Tables/2.2. .sql and .csv/MEDICAL_DEPARTMENTS.csv'\n",
    "md_locations = '/workspaces/IBM-DS-Course/Course 6 Db and SQL /Module 2 Relational db and Tables/2.2. .sql and .csv/MEDICAL_LOCATIONS.csv'"
   ]
  },
  {
   "cell_type": "code",
   "execution_count": 48,
   "metadata": {},
   "outputs": [],
   "source": [
    "patients_df = pd.read_csv(patients)\n",
    "md_procedure_df = pd.read_csv(md_procedure)\n",
    "md_history_df = pd.read_csv(md_history)\n",
    "md_department_df= pd.read_csv(md_department)\n",
    "md_locations_df = pd.read_csv(md_locations)"
   ]
  },
  {
   "cell_type": "code",
   "execution_count": 61,
   "metadata": {},
   "outputs": [
    {
     "data": {
      "text/html": [
       "<div>\n",
       "<style scoped>\n",
       "    .dataframe tbody tr th:only-of-type {\n",
       "        vertical-align: middle;\n",
       "    }\n",
       "\n",
       "    .dataframe tbody tr th {\n",
       "        vertical-align: top;\n",
       "    }\n",
       "\n",
       "    .dataframe thead th {\n",
       "        text-align: right;\n",
       "    }\n",
       "</style>\n",
       "<table border=\"1\" class=\"dataframe\">\n",
       "  <thead>\n",
       "    <tr style=\"text-align: right;\">\n",
       "      <th></th>\n",
       "      <th>LOCATION_ID</th>\n",
       "      <th>DEPT_ID</th>\n",
       "      <th>LOCATION_NAME</th>\n",
       "    </tr>\n",
       "  </thead>\n",
       "  <tbody>\n",
       "    <tr>\n",
       "      <th>0</th>\n",
       "      <td>L002</td>\n",
       "      <td>D002</td>\n",
       "      <td>Medical Center</td>\n",
       "    </tr>\n",
       "  </tbody>\n",
       "</table>\n",
       "</div>"
      ],
      "text/plain": [
       "  LOCATION_ID DEPT_ID   LOCATION_NAME\n",
       "0        L002    D002  Medical Center"
      ]
     },
     "execution_count": 61,
     "metadata": {},
     "output_type": "execute_result"
    }
   ],
   "source": [
    "md_locations_df.head()\n",
    "# !pip install pandas sqlalchemy"
   ]
  },
  {
   "cell_type": "markdown",
   "metadata": {},
   "source": [
    "**NOTE**: the create_engine method creates an engine connection stored in the engine object\n",
    "\n",
    "\n",
    "'''\n",
    "create_engine(mysql+mysqlconnector://< username >:< password >@< host >/< database >)\n",
    "'''\n"
   ]
  },
  {
   "cell_type": "code",
   "execution_count": 33,
   "metadata": {},
   "outputs": [],
   "source": [
    "db_name = \"CVD\"\n",
    "host = \"localhost\"\n",
    "connection_string = f'mysql+mysqlconnector://{user}:{password}@{host}/{db_name}'\n",
    "engine = create_engine(connection_string)"
   ]
  },
  {
   "cell_type": "markdown",
   "metadata": {},
   "source": [
    "- to_sql() method inserts DataFrames into the specified tables\n",
    "\n",
    "- - if_exists='append' means it will add new rows to the table without removing existing ones.\n",
    "- - If you want to replace the table, use if_exists='replace'\n"
   ]
  },
  {
   "cell_type": "code",
   "execution_count": 49,
   "metadata": {},
   "outputs": [],
   "source": [
    "patients_df.columns = ['PATIENT_ID', 'FIRST_NAME', 'LAST_NAME', 'SSN', 'BIRTH_DATE', 'SEX', 'ADDRESS', 'DEPT_ID']\n",
    "md_procedure_df.columns = ['PROCEDURE_ID', 'PROCEDURE_NAME', 'PROCEDURE_DATE' ,'PATIENT_ID' ,'DEPT_ID']\n",
    "md_history_df.columns = ['MEDICAL_HISTORY_ID', 'PATIENT_ID' ,'DIAGNOSIS_DATE','DIAGNOSIS_CODE','MEDICAL_CONDITION' ,'DEPT_ID' ]\n",
    "md_department_df.columns = ['DEPT_ID' , 'DEPT_NAME' , 'MANAGER_ID' ,'LOCATION_ID' ]\n",
    "md_locations_df.columns = ['LOCATION_ID', 'DEPT_ID' , 'LOCATION_NAME' ]\n"
   ]
  },
  {
   "cell_type": "code",
   "execution_count": 50,
   "metadata": {},
   "outputs": [
    {
     "name": "stdout",
     "output_type": "stream",
     "text": [
      "<class 'pandas.core.frame.DataFrame'>\n",
      "<class 'pandas.core.frame.DataFrame'>\n",
      "<class 'pandas.core.frame.DataFrame'>\n",
      "<class 'pandas.core.frame.DataFrame'>\n"
     ]
    }
   ],
   "source": []
  },
  {
   "cell_type": "code",
   "execution_count": 51,
   "metadata": {},
   "outputs": [
    {
     "data": {
      "text/plain": [
       "1"
      ]
     },
     "execution_count": 51,
     "metadata": {},
     "output_type": "execute_result"
    }
   ],
   "source": [
    "patients_df.to_sql('PATIENTS', con=engine, if_exists='replace', index=False)\n",
    "md_procedure_df.to_sql('MEDICAL_PROCEDURES', con=engine, if_exists='replace', index=False)\n",
    "md_history_df.to_sql('MEDICAL_HISTORY', con=engine, if_exists='replace', index=False)\n",
    "md_department_df.to_sql('MEDICAL_DEPARTMENTS', con=engine, if_exists='replace', index=False)\n",
    "md_locations_df.to_sql('MEDICAL_LOCATIONS', con=engine, if_exists='replace', index=False)"
   ]
  },
  {
   "cell_type": "code",
   "execution_count": 54,
   "metadata": {},
   "outputs": [],
   "source": [
    "cursor.execute(\"SELECT * FROM PATIENTS;\")"
   ]
  },
  {
   "cell_type": "code",
   "execution_count": 55,
   "metadata": {},
   "outputs": [
    {
     "name": "stdout",
     "output_type": "stream",
     "text": [
      "('P002', 'Jane', 'Smith', 987654321, '1985-10-20', 'F', '456 Oak Ave', 'D002')\n",
      "('P003', 'Michael', 'Johnson', 111222333, '1975-03-12', 'M', '789 Elm St', 'D003')\n",
      "('P004', 'Emily', 'Brown', 444555666, '1980-09-25', 'F', '321 Pine Rd', 'D004')\n",
      "('P005', 'William', 'Miller', 777888999, '1992-11-18', 'M', '567 Maple Ave', 'D003')\n"
     ]
    }
   ],
   "source": [
    "output = cursor.fetchall()\n",
    "for row in output:\n",
    "    print(row)"
   ]
  },
  {
   "cell_type": "code",
   "execution_count": 56,
   "metadata": {},
   "outputs": [
    {
     "name": "stdout",
     "output_type": "stream",
     "text": [
      "('PR002', 'Cardiac Catheterization', '2023-08-01', 'P002', 'D002')\n",
      "('PR003', 'Electrocardiogram', '2023-08-02', 'P003', 'D003')\n",
      "('PR004', 'Echocardiogram', '2023-08-03', 'P004', 'D004')\n",
      "('PR005', 'Stress Test', '2023-08-03', 'P005', 'D003')\n",
      "('PR006', 'Coronary Angiogram', '2023-08-04', 'P003', 'D003')\n",
      "('PR007', 'Pacemaker Implantation', '2023-08-04', 'P005', 'D003')\n"
     ]
    }
   ],
   "source": [
    "cursor.execute(\"SELECT * FROM MEDICAL_PROCEDURES;\")\n",
    "output = cursor.fetchall()\n",
    "for row in output:\n",
    "    print(row)"
   ]
  },
  {
   "cell_type": "code",
   "execution_count": 57,
   "metadata": {},
   "outputs": [
    {
     "name": "stdout",
     "output_type": "stream",
     "text": [
      "('MH002', 'P001', '2023-07-30', 'I25.10', 'Hypertensive Heart Disease', 'D002')\n",
      "('MH003', 'P002', '2023-08-01', 'I25.10', 'Hypertensive Heart Disease', 'D002')\n",
      "('MH004', 'P003', '2023-08-01', 'I20.9', 'Unstable Angina', 'D003')\n",
      "('MH005', 'P004', '2023-08-01', 'I25.5', 'Ischemic Cardiomyopathy', 'D004')\n",
      "('MH006', 'P005', '2023-08-02', 'I50.9', 'HeartFailure, Unspecified', 'D003')\n"
     ]
    }
   ],
   "source": [
    "cursor.execute(\"SELECT * FROM MEDICAL_HISTORY;\")\n",
    "output = cursor.fetchall()\n",
    "for row in output:\n",
    "    print(row)"
   ]
  },
  {
   "cell_type": "code",
   "execution_count": 59,
   "metadata": {},
   "outputs": [
    {
     "name": "stdout",
     "output_type": "stream",
     "text": [
      "('D002', 'Internal Medicine', None, 'L002')\n",
      "('D003', 'Cardiothoracic Surgery', None, 'L001')\n",
      "('D004', 'Electrophysiology', None, 'L002')\n"
     ]
    }
   ],
   "source": [
    "cursor.execute(\"SELECT * FROM MEDICAL_DEPARTMENTS;\")\n",
    "output = cursor.fetchall()\n",
    "for row in output:\n",
    "    print(row)"
   ]
  },
  {
   "cell_type": "code",
   "execution_count": 60,
   "metadata": {},
   "outputs": [
    {
     "name": "stdout",
     "output_type": "stream",
     "text": [
      "('L002', 'D002', 'Medical Center')\n"
     ]
    }
   ],
   "source": [
    "cursor.execute(\"SELECT * FROM MEDICAL_LOCATIONS;\")\n",
    "output = cursor.fetchall()\n",
    "for row in output:\n",
    "    print(row)"
   ]
  },
  {
   "cell_type": "code",
   "execution_count": null,
   "metadata": {},
   "outputs": [],
   "source": []
  }
 ],
 "metadata": {
  "kernelspec": {
   "display_name": "ibm_ds_env",
   "language": "python",
   "name": "python3"
  },
  "language_info": {
   "codemirror_mode": {
    "name": "ipython",
    "version": 3
   },
   "file_extension": ".py",
   "mimetype": "text/x-python",
   "name": "python",
   "nbconvert_exporter": "python",
   "pygments_lexer": "ipython3",
   "version": "3.10.14"
  }
 },
 "nbformat": 4,
 "nbformat_minor": 2
}
